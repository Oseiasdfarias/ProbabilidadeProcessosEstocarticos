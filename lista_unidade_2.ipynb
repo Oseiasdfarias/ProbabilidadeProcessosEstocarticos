{
  "nbformat": 4,
  "nbformat_minor": 0,
  "metadata": {
    "colab": {
      "name": "lista_unidade_2.ipynb",
      "provenance": [],
      "collapsed_sections": [],
      "authorship_tag": "ABX9TyPTaLrn60rbcAS6/MebDcNb",
      "include_colab_link": true
    },
    "kernelspec": {
      "name": "python3",
      "display_name": "Python 3"
    },
    "language_info": {
      "name": "python"
    }
  },
  "cells": [
    {
      "cell_type": "markdown",
      "metadata": {
        "id": "view-in-github",
        "colab_type": "text"
      },
      "source": [
        "<a href=\"https://colab.research.google.com/github/Oseiasdfarias/ProbabilidadeProcessosEstocarticos/blob/main/lista_unidade_2.ipynb\" target=\"_parent\"><img src=\"https://colab.research.google.com/assets/colab-badge.svg\" alt=\"Open In Colab\"/></a>"
      ]
    },
    {
      "cell_type": "markdown",
      "source": [
        "\n",
        "# <center>**Probabilidade e Processos Estocásticos**</center>\n",
        "#<center>**Lista de Exemplos – Unidade 02**</center>\n",
        "\n",
        "<br><br>"
      ],
      "metadata": {
        "id": "qfTtChdRZCFg"
      }
    },
    {
      "cell_type": "markdown",
      "source": [
        "# <center>**2.1 – Tabela de Distribuição de Frequências**</center>\n",
        "\n"
      ],
      "metadata": {
        "id": "x06Hcxx9MjPw"
      }
    },
    {
      "cell_type": "markdown",
      "source": [
        "## Questão 1\n",
        "A tabela a seguir apresenta dados referentes às idades dos funcionários da\n",
        "empresa de engenharia fictícia. A média das idades é uma das informações que se deseja\n",
        "calcular com base no conjunto de dados da tabela 1.\n"
      ],
      "metadata": {
        "id": "4BMaSbHjiinN"
      }
    },
    {
      "cell_type": "code",
      "execution_count": 1,
      "metadata": {
        "id": "2tzNed1_MaA-"
      },
      "outputs": [],
      "source": [
        "import numpy as np\n"
      ]
    },
    {
      "cell_type": "code",
      "source": [
        "primitiva = np.array([[18, 38, 36, 56, 52, 38, 39, 56, 54, 20],\n",
        "                      [20, 30, 40, 32, 44, 44, 24, 28, 18, 30],\n",
        "                      [48, 48, 42, 46, 40, 19, 27, 19, 42, 37],\n",
        "                      [44, 34, 60, 18, 19, 36, 56, 26, 22, 28],\n",
        "                      [30, 44, 48, 54, 36, 34, 36, 34, 21, 19],\n",
        "                      [24, 52, 18, 28, 34, 60, 22, 28, 36, 26],\n",
        "                      [24, 40, 27, 55, 60, 38, 24, 44, 36, 34],\n",
        "                      [32, 34, 36, 44, 38, 40, 26, 48, 26, 28]\n",
        "                      ])\n",
        "\n",
        "print(primitiva)"
      ],
      "metadata": {
        "id": "AlP150NRNelR",
        "colab": {
          "base_uri": "https://localhost:8080/"
        },
        "outputId": "5b9e6fdf-5d93-47ad-bd35-a0a19615ec35"
      },
      "execution_count": 2,
      "outputs": [
        {
          "output_type": "stream",
          "name": "stdout",
          "text": [
            "[[18 38 36 56 52 38 39 56 54 20]\n",
            " [20 30 40 32 44 44 24 28 18 30]\n",
            " [48 48 42 46 40 19 27 19 42 37]\n",
            " [44 34 60 18 19 36 56 26 22 28]\n",
            " [30 44 48 54 36 34 36 34 21 19]\n",
            " [24 52 18 28 34 60 22 28 36 26]\n",
            " [24 40 27 55 60 38 24 44 36 34]\n",
            " [32 34 36 44 38 40 26 48 26 28]]\n"
          ]
        }
      ]
    },
    {
      "cell_type": "markdown",
      "source": [
        "<br>\n",
        "\n",
        "### a) Considere a Tabela 1, monte o ROL:\n"
      ],
      "metadata": {
        "id": "suVB1bGkaocs"
      }
    },
    {
      "cell_type": "code",
      "source": [
        "sorted_array = np.sort(primitiva, axis= None) \n",
        "rol = np.reshape(sorted_array, (-1, 10))\n",
        "print(rol)"
      ],
      "metadata": {
        "colab": {
          "base_uri": "https://localhost:8080/"
        },
        "id": "B63aXk2xPztg",
        "outputId": "5f2fb0b5-7718-45a7-a65a-33380501d14c"
      },
      "execution_count": 3,
      "outputs": [
        {
          "output_type": "stream",
          "name": "stdout",
          "text": [
            "[[18 18 18 18 19 19 19 19 20 20]\n",
            " [21 22 22 24 24 24 24 26 26 26]\n",
            " [26 27 27 28 28 28 28 28 30 30]\n",
            " [30 32 32 34 34 34 34 34 34 36]\n",
            " [36 36 36 36 36 36 37 38 38 38]\n",
            " [38 39 40 40 40 40 42 42 44 44]\n",
            " [44 44 44 44 46 48 48 48 48 52]\n",
            " [52 54 54 55 56 56 56 60 60 60]]\n"
          ]
        }
      ]
    },
    {
      "cell_type": "markdown",
      "source": [
        "<br>\n",
        "\n",
        "### b) Considere o ROL montado no item “a”. Montar a Tabela de Distribuição de Frequência por Valores (TDF por Valores):\n"
      ],
      "metadata": {
        "id": "M6Dhnf_9aAmW"
      }
    },
    {
      "cell_type": "code",
      "source": [
        "unique, counts = np.unique(sorted_array, return_counts=True)\n",
        "dist = np.asarray((unique, counts)).T\n",
        "print(dist)"
      ],
      "metadata": {
        "colab": {
          "base_uri": "https://localhost:8080/"
        },
        "id": "vopMDvG2YO4_",
        "outputId": "df8f5216-c761-4b0e-8c1f-bbf208a0e7f1"
      },
      "execution_count": 4,
      "outputs": [
        {
          "output_type": "stream",
          "name": "stdout",
          "text": [
            "[[18  4]\n",
            " [19  4]\n",
            " [20  2]\n",
            " [21  1]\n",
            " [22  2]\n",
            " [24  4]\n",
            " [26  4]\n",
            " [27  2]\n",
            " [28  5]\n",
            " [30  3]\n",
            " [32  2]\n",
            " [34  6]\n",
            " [36  7]\n",
            " [37  1]\n",
            " [38  4]\n",
            " [39  1]\n",
            " [40  4]\n",
            " [42  2]\n",
            " [44  6]\n",
            " [46  1]\n",
            " [48  4]\n",
            " [52  2]\n",
            " [54  2]\n",
            " [55  1]\n",
            " [56  3]\n",
            " [60  3]]\n"
          ]
        }
      ]
    },
    {
      "cell_type": "markdown",
      "source": [
        "# <center>**2.2 – Elaboração da TDF**</center>"
      ],
      "metadata": {
        "id": "6_vjzIJIfcLg"
      }
    },
    {
      "cell_type": "markdown",
      "source": [
        "## Questão 2 – Considere o ROL (questão 1.a):\n"
      ],
      "metadata": {
        "id": "xO-vo_UKfny1"
      }
    },
    {
      "cell_type": "markdown",
      "source": [
        "### a) Calcular a Amplitude Total (AT):\n"
      ],
      "metadata": {
        "id": "Zl7e8ZPJfsWs"
      }
    },
    {
      "cell_type": "markdown",
      "source": [
        "Solução:\n",
        "\n",
        "$$AT = X_{max} - X_{min}$$\n",
        "\n",
        "$$AT = 60 - 18$$\n",
        "\n",
        "$$AT = 42$$\n",
        "\n",
        "<br>"
      ],
      "metadata": {
        "id": "Z2T69lSgwrt0"
      }
    },
    {
      "cell_type": "code",
      "source": [
        "x_max = np.max(rol)\n",
        "x_min = np.min(rol)\n",
        "at = x_max - x_min\n",
        "\n",
        "print(f\"\\n- X_max: {x_max}\\n- X_min: {x_min}\")\n",
        "print(f\"- Amplitude Total AT = {x_max} − {x_min} = {at}\\n\")"
      ],
      "metadata": {
        "colab": {
          "base_uri": "https://localhost:8080/"
        },
        "id": "ssCLgfU8xmQl",
        "outputId": "ae153ce7-323f-42b8-c645-ef87b576af1e"
      },
      "execution_count": 5,
      "outputs": [
        {
          "output_type": "stream",
          "name": "stdout",
          "text": [
            "\n",
            "- X_max: 60\n",
            "- X_min: 18\n",
            "- Amplitude Total AT = 60 − 18 = 42\n",
            "\n"
          ]
        }
      ]
    },
    {
      "cell_type": "markdown",
      "source": [
        "### b) Calcular o Número de Classes (K):\n"
      ],
      "metadata": {
        "id": "dFCaWVn4xjpP"
      }
    },
    {
      "cell_type": "markdown",
      "source": [
        "<br>\n",
        "\n",
        "Regra de Sturges\n",
        "\n",
        "$$K = \\sqrt{N}$$\n",
        "$$K = \\sqrt{80}$$\n",
        "$$K \\approx 9$$\n",
        "\n",
        "<br>\n"
      ],
      "metadata": {
        "id": "juxN46_xyv4n"
      }
    },
    {
      "cell_type": "code",
      "source": [
        "n = primitiva.shape[0]*primitiva.shape[1]\n",
        "k = np.sqrt(n)\n",
        "print(f\"Número de Classes (K): {round(k)}\")\n"
      ],
      "metadata": {
        "id": "zxoX4o1SfR7s",
        "colab": {
          "base_uri": "https://localhost:8080/"
        },
        "outputId": "f1568a3c-cefe-4204-ea60-c8a411e583a8"
      },
      "execution_count": 6,
      "outputs": [
        {
          "output_type": "stream",
          "name": "stdout",
          "text": [
            "Número de Classes (K): 9\n"
          ]
        }
      ]
    },
    {
      "cell_type": "markdown",
      "source": [
        "<br>\n",
        "\n",
        "### c) Calcular a Amplitude da Classe (h):\n"
      ],
      "metadata": {
        "id": "io2jvqSZ02KS"
      }
    },
    {
      "cell_type": "markdown",
      "source": [
        "$$h \\approx \\dfrac{AT}{K}$$\n",
        "\n",
        "$$Teste: h \\times K \\geq AT$$\n",
        "\n",
        "$$h \\approx \\dfrac{42}{9} = 5$$\n",
        "\n",
        "$$Teste: h \\times K \\geq AT = True$$ "
      ],
      "metadata": {
        "id": "TXN6oZ1K09J4"
      }
    },
    {
      "cell_type": "code",
      "source": [
        "h = at / k\n",
        "h = round(h)\n",
        "print(f\"Amplitude da Classe (h): {h}\")"
      ],
      "metadata": {
        "colab": {
          "base_uri": "https://localhost:8080/"
        },
        "id": "M91r5tj9zqe8",
        "outputId": "5b5e89b5-763f-4245-ffdd-4bc8129133bd"
      },
      "execution_count": 7,
      "outputs": [
        {
          "output_type": "stream",
          "name": "stdout",
          "text": [
            "Amplitude da Classe (h): 5\n"
          ]
        }
      ]
    },
    {
      "cell_type": "markdown",
      "source": [
        "Teste:"
      ],
      "metadata": {
        "id": "BipcpWoP2CNL"
      }
    },
    {
      "cell_type": "code",
      "source": [
        "h*k >= at\n"
      ],
      "metadata": {
        "colab": {
          "base_uri": "https://localhost:8080/"
        },
        "id": "UX5oufef11SV",
        "outputId": "41457c4d-7e6e-4463-a62e-0d001c8ecad0"
      },
      "execution_count": 8,
      "outputs": [
        {
          "output_type": "execute_result",
          "data": {
            "text/plain": [
              "True"
            ]
          },
          "metadata": {},
          "execution_count": 8
        }
      ]
    },
    {
      "cell_type": "markdown",
      "source": [
        "<br>\n",
        "\n",
        "### d) Montar a Tabela de Distribuição de Frequência por Classes (TDF por Classes) de acordo com os valores calculadas:"
      ],
      "metadata": {
        "id": "ZGmtDxuA27HK"
      }
    },
    {
      "cell_type": "markdown",
      "source": [
        "| index \t| início \t| fim \t| frequência | Percentual % \n",
        "|----\t    |----\t    |----\t  | ---        | ---\n",
        "| 1° \t    | 18 \t    | 23 \t  | 13         | 16.25%\n",
        "| 2° \t    | 23 \t    | 28   \t| 10         | 12.50%\n",
        "| 3° \t    | 28 \t    | 33 \t  | 10         | 12.50%\n",
        "| 4° \t    | 33    \t| 38 \t  | 14         | 17.50%\n",
        "| 5° \t    | 38 \t    | 43   \t| 11         | 13.75%\n",
        "| 6° \t    | 43    \t| 48 \t  | 07         | 08.75%\n",
        "| 7° \t    | 48    \t| 52 \t  | 04         | 05.00%\n",
        "| 8°    \t| 52    \t| 53 \t  | 02         | 02.50%\n",
        "| 9° \t    | 53 \t    | 63 \t  | 09         | 11.25%\n",
        "\n",
        "\n",
        "<br>"
      ],
      "metadata": {
        "id": "Lldd4vEjFrw5"
      }
    },
    {
      "cell_type": "code",
      "source": [
        "init = 18\n",
        "\n",
        "# Coluna de frequencia da tabela de frequencia\n",
        "freq_t = np.array([13, 10, 10, 14, 11, 7, 4, 2, 9])\n",
        "perc = np.zeros((1, 9), dtype=\"float32\")\n",
        "\n",
        "freq_t.sum()\n",
        "\n",
        "# Coluna de Percentual da tabela de frequencia\n",
        "for i, j in enumerate(freq_t):\n",
        "  perc[0][i] = (100*j)/80\n",
        "\n",
        "print(\"\\nTabela de Distribuição de Frequências\\n\")\n",
        "for i in range(9):\n",
        "  print(init, end=\" \")\n",
        "  init += 5\n",
        "  print(init, end=\"     \")\n",
        "  print(freq_t[i], end=\"\")\n",
        "  print(f\"         {perc[0][i]}%\")\n"
      ],
      "metadata": {
        "id": "WgpqlcPv2Kd1",
        "colab": {
          "base_uri": "https://localhost:8080/"
        },
        "outputId": "db0be2b8-227c-4ef2-9954-ea665d23602c"
      },
      "execution_count": 26,
      "outputs": [
        {
          "output_type": "stream",
          "name": "stdout",
          "text": [
            "\n",
            "Tabela de Distribuição de Frequências\n",
            "\n",
            "18 23     13         16.25%\n",
            "23 28     10         12.5%\n",
            "28 33     10         12.5%\n",
            "33 38     14         17.5%\n",
            "38 43     11         13.75%\n",
            "43 48     7         8.75%\n",
            "48 53     4         5.0%\n",
            "53 58     2         2.5%\n",
            "58 63     9         11.25%\n"
          ]
        }
      ]
    },
    {
      "cell_type": "code",
      "source": [
        "# Coluna dos intervalos da tabela de frequência\n",
        "\n",
        "freq_tab = np.array([ [18, 23],\n",
        "                      [23, 28],\n",
        "                      [28, 33],\n",
        "                      [33, 38],\n",
        "                      [38, 43],\n",
        "                      [43, 48],\n",
        "                      [48, 53],\n",
        "                      [53, 58],\n",
        "                      [58, 63]])\n",
        "print(freq_tab)"
      ],
      "metadata": {
        "colab": {
          "base_uri": "https://localhost:8080/"
        },
        "id": "n3y5TNLeKKLb",
        "outputId": "0d3d400d-b820-419f-d688-41f878558704"
      },
      "execution_count": 10,
      "outputs": [
        {
          "output_type": "stream",
          "name": "stdout",
          "text": [
            "[[18 23]\n",
            " [23 28]\n",
            " [28 33]\n",
            " [33 38]\n",
            " [38 43]\n",
            " [43 48]\n",
            " [48 53]\n",
            " [53 58]\n",
            " [58 63]]\n"
          ]
        }
      ]
    },
    {
      "cell_type": "code",
      "source": [
        ""
      ],
      "metadata": {
        "id": "Ny5GHCzeEsdh"
      },
      "execution_count": 10,
      "outputs": []
    },
    {
      "cell_type": "markdown",
      "source": [
        "# <center>**2.3 – Elementos em uma TDF**</center>"
      ],
      "metadata": {
        "id": "nWsFN1uMRf2K"
      }
    },
    {
      "cell_type": "markdown",
      "source": [
        "## Questão 3 – Considere o ROL (questão 1.a) e a TDF (questão 2.d):\n"
      ],
      "metadata": {
        "id": "JdHNhZ2YRmKy"
      }
    },
    {
      "cell_type": "markdown",
      "source": [
        "### a) Definir as Classes (i) de dois intervalos distintos e o número total de classes (K).\n"
      ],
      "metadata": {
        "id": "og8lSjl8RtsT"
      }
    },
    {
      "cell_type": "markdown",
      "source": [
        "Classes:\n",
        "\n",
        "$$i_2 = 23 | 28$$\n",
        "\n",
        "$$i_5 = 38 | 43$$\n",
        "\n",
        "<br>"
      ],
      "metadata": {
        "id": "r8xSwSeRSH0h"
      }
    },
    {
      "cell_type": "code",
      "source": [
        "i_2 = freq_tab[2]\n",
        "print(f\"\\n- Classe I2: {i_2}\")\n",
        "\n",
        "i_5 = freq_tab[5]\n",
        "print(f\"- Classe I5: {i_5}\")"
      ],
      "metadata": {
        "colab": {
          "base_uri": "https://localhost:8080/"
        },
        "id": "t18y0KpzRlLg",
        "outputId": "5b870260-acdc-42e3-fa49-9acc3fef4eb9"
      },
      "execution_count": 11,
      "outputs": [
        {
          "output_type": "stream",
          "name": "stdout",
          "text": [
            "\n",
            "- Classe I2: [28 33]\n",
            "- Classe I5: [43 48]\n"
          ]
        }
      ]
    },
    {
      "cell_type": "markdown",
      "source": [
        "Total de Classes:\n",
        "\n",
        "$$K = 9$$\n",
        "\n",
        "<br>"
      ],
      "metadata": {
        "id": "2PUBr1zeUmAQ"
      }
    },
    {
      "cell_type": "code",
      "source": [
        "print(f\"\\nTotal de classes k: {round(k)}\\n\")"
      ],
      "metadata": {
        "colab": {
          "base_uri": "https://localhost:8080/"
        },
        "id": "P4F_a8QKTApj",
        "outputId": "4230bbff-4196-4a93-9dc0-9abe60ca23e2"
      },
      "execution_count": 12,
      "outputs": [
        {
          "output_type": "stream",
          "name": "stdout",
          "text": [
            "\n",
            "Total de classes k: 9\n",
            "\n"
          ]
        }
      ]
    },
    {
      "cell_type": "markdown",
      "source": [
        "### b) Definir as Limites de Classe de duas classes aleatórias.\n"
      ],
      "metadata": {
        "id": "TXJprHTjVTKe"
      }
    },
    {
      "cell_type": "markdown",
      "source": [
        "<br>\n",
        "\n",
        "Limites das Classes:\n",
        "\n",
        "Classe $i_4$\n",
        "\n",
        "$$l_4 = 38$$\n",
        "$$L_4 = 43$$\n",
        "\n",
        "\n",
        "Classe $i_7$\n",
        "\n",
        "$$l_7 = 53$$\n",
        "$$L_7 = 58$$\n",
        "\n",
        "<br><br>"
      ],
      "metadata": {
        "id": "Gy1HluSyXyXT"
      }
    },
    {
      "cell_type": "code",
      "source": [
        "i_4 = freq_tab[4]\n",
        "i_7 = freq_tab[7]\n",
        "\n",
        "print(f\"\\n- Classe i_4: {i_4}\\n- Limite Inferior da Classe - l_4: {i_4[0]}\\n- Limite Superior da Classe L_4: {i_4[1]}\\n\\n\")\n",
        "print(f\"\\n- Classe i_7: {i_7}\\n- Limite Inferior da Classe - l_7: {i_7[0]}\\n- Limite Superior da Classe L_7: {i_7[1]}\\n\")"
      ],
      "metadata": {
        "colab": {
          "base_uri": "https://localhost:8080/"
        },
        "id": "NCjPjCpyVCln",
        "outputId": "fdb7004e-bbdc-4a6b-89ae-38cf9ce1ff08"
      },
      "execution_count": 13,
      "outputs": [
        {
          "output_type": "stream",
          "name": "stdout",
          "text": [
            "\n",
            "- Classe i_4: [38 43]\n",
            "- Limite Inferior da Classe - l_4: 38\n",
            "- Limite Superior da Classe L_4: 43\n",
            "\n",
            "\n",
            "\n",
            "- Classe i_7: [53 58]\n",
            "- Limite Inferior da Classe - l_7: 53\n",
            "- Limite Superior da Classe L_7: 58\n",
            "\n"
          ]
        }
      ]
    },
    {
      "cell_type": "markdown",
      "source": [
        "<br>\n",
        "\n",
        "### c) Amplitude do Intervalo de Classe.\n",
        "\n",
        "$$h = 5$$\n",
        "\n",
        "<br>"
      ],
      "metadata": {
        "id": "C3cgs2ICYo8b"
      }
    },
    {
      "cell_type": "code",
      "source": [
        "hi = i_4[1] - i_4[0]\n",
        "\n",
        "print(f\"\\nAmplitude do Intervalo de Classe h: {hi}\\n\")"
      ],
      "metadata": {
        "colab": {
          "base_uri": "https://localhost:8080/"
        },
        "id": "VaaYdHHRWwpw",
        "outputId": "a19f0ab4-dc73-419d-ae05-8df17490537b"
      },
      "execution_count": 14,
      "outputs": [
        {
          "output_type": "stream",
          "name": "stdout",
          "text": [
            "\n",
            "Amplitude do Intervalo de Classe h: 5\n",
            "\n"
          ]
        }
      ]
    },
    {
      "cell_type": "markdown",
      "source": [
        "<br>\n",
        "\n",
        "### d) Amplitude Total da Distribuição.\n",
        "\n",
        "$$h_d = L_{max} - l_{min}$$\n",
        "\n",
        "$$h_d = 63 - 18$$\n",
        "\n",
        "$$h_d = 45$$\n",
        "\n",
        "<br>\n"
      ],
      "metadata": {
        "id": "_aNDw9jYa1x5"
      }
    },
    {
      "cell_type": "code",
      "source": [
        "l_min = freq_tab[:1,:1]\n",
        "l_max = freq_tab[-1:,-1:] \n",
        "hd = l_max - l_min\n",
        "\n",
        "print(f\"\\nLimite Mínimo: {l_min[0][0]}\")\n",
        "print(f\"Limite Máximo: {l_max[0][0]}\")\n",
        "print(f\"Amplitude Total da Distribuição: {hd[0][0]}\\n\")"
      ],
      "metadata": {
        "colab": {
          "base_uri": "https://localhost:8080/"
        },
        "id": "xgzJnTFKbHr9",
        "outputId": "7e3a2e98-238b-4f53-e0bb-0d6afde757d8"
      },
      "execution_count": 15,
      "outputs": [
        {
          "output_type": "stream",
          "name": "stdout",
          "text": [
            "\n",
            "Limite Mínimo: 18\n",
            "Limite Máximo: 63\n",
            "Amplitude Total da Distribuição: 45\n",
            "\n"
          ]
        }
      ]
    },
    {
      "cell_type": "markdown",
      "source": [
        "### e) Amplitude Total (Amplitude Total da Amostra).\n",
        "\n",
        "$$AT = AA = X_{max} - X_{min}$$\n",
        "\n",
        "<br>"
      ],
      "metadata": {
        "id": "U3OIZAj5bG6g"
      }
    },
    {
      "cell_type": "code",
      "source": [
        "X_max = np.max(rol)\n",
        "X_min = np.min(rol)\n",
        "AT = X_max - X_min\n",
        "\n",
        "print(f\"- X_max: {X_max},\\n- X_min: {X_min}\\n- Amplitude Total (AT): {AT}\")"
      ],
      "metadata": {
        "colab": {
          "base_uri": "https://localhost:8080/"
        },
        "id": "-1UwBT-DapzN",
        "outputId": "7a8bc8e4-c44a-4162-ebd1-1a9351f9aebd"
      },
      "execution_count": 16,
      "outputs": [
        {
          "output_type": "stream",
          "name": "stdout",
          "text": [
            "- X_max: 60,\n",
            "- X_min: 18\n",
            "- Amplitude Total (AT): 42\n"
          ]
        }
      ]
    },
    {
      "cell_type": "markdown",
      "source": [
        "### f) Ponto Médio da Classe.\n"
      ],
      "metadata": {
        "id": "Uqay1Ehtbf2S"
      }
    },
    {
      "cell_type": "markdown",
      "source": [
        "|Classes\t| Ponto Médio das Classes\t|\n",
        "|:--:\t|:----:\t|\n",
        "| x1 \t| 20.5 \t|\n",
        "| x2 \t| 25.5 \t|\n",
        "| x3 \t| 30.5 \t|\n",
        "| x4 \t| 35.5 \t|\n",
        "| x5 \t| 40.5 \t|\n",
        "| x6 \t| 45.5 \t|\n",
        "| x7 \t| 50.5 \t|\n",
        "| x8 \t| 55.5 \t|\n",
        "| x9 \t| 60.5 \t|"
      ],
      "metadata": {
        "id": "CVnpEdDI7vYz"
      }
    },
    {
      "cell_type": "code",
      "source": [
        "xi = np.zeros((1, 9))\n",
        "\n",
        "for j, i in enumerate(freq_tab):\n",
        "  xi[0][j] = i.sum()/2\n",
        "print(xi.T)"
      ],
      "metadata": {
        "colab": {
          "base_uri": "https://localhost:8080/"
        },
        "id": "EsC-MlB_5jPf",
        "outputId": "2bb52977-f3cf-4570-d988-d33ffafeb4d5"
      },
      "execution_count": 17,
      "outputs": [
        {
          "output_type": "stream",
          "name": "stdout",
          "text": [
            "[[20.5]\n",
            " [25.5]\n",
            " [30.5]\n",
            " [35.5]\n",
            " [40.5]\n",
            " [45.5]\n",
            " [50.5]\n",
            " [55.5]\n",
            " [60.5]]\n"
          ]
        }
      ]
    },
    {
      "cell_type": "markdown",
      "source": [
        "# <center>**2.3.1 – Tipos de frequências**</center>"
      ],
      "metadata": {
        "id": "TyE2Av_J8IKc"
      }
    },
    {
      "cell_type": "markdown",
      "source": [
        "## Questão 4\n",
        "Considere TDF por Classes montada “questão 2”, elabore uma TDF por Classes, que contenha as seguintes frequências:\n",
        "\n",
        "- Frequência Simples ou Absoluta $(f_i)$\n",
        "- Frequência Relativa $(f_{ri})$\n",
        "- Frequência Percentual $(f_{i}\\%)$\n",
        "- Frequência Acumulada (Simples $(f_i)$, Relativa $(f_{ri})$, Percentual $(f_{i}\\%)$\n",
        "\n",
        "<br>\n",
        "\n"
      ],
      "metadata": {
        "id": "mIotx06K8PDS"
      }
    },
    {
      "cell_type": "markdown",
      "source": [
        "### - Frequência Simples ou Absoluta $(f_i)$\n",
        "\n"
      ],
      "metadata": {
        "id": "JeRMW9aC1sAX"
      }
    },
    {
      "cell_type": "code",
      "source": [
        "freq_t"
      ],
      "metadata": {
        "id": "g7KE4a6h58oJ",
        "colab": {
          "base_uri": "https://localhost:8080/"
        },
        "outputId": "159be6f5-c074-4f9c-a1d8-516a61c65b5d"
      },
      "execution_count": 29,
      "outputs": [
        {
          "output_type": "execute_result",
          "data": {
            "text/plain": [
              "array([13, 10, 10, 14, 11,  7,  4,  2,  9])"
            ]
          },
          "metadata": {},
          "execution_count": 29
        }
      ]
    },
    {
      "cell_type": "markdown",
      "source": [
        "### - Frequência Relativa $(f_{ri})$\n",
        "\n",
        "$N = $ Soma de todas as frequências\n",
        "\n",
        "$$f_{ri} = \\dfrac{f_i}{N}$$\n",
        "\n",
        "<br>"
      ],
      "metadata": {
        "id": "ZOyIgXqq3665"
      }
    },
    {
      "cell_type": "code",
      "source": [
        "freq_relativa = freq_t/freq_t.sum()\n",
        "\n",
        "print(f\"\\n- Frequência Relativa:\\n\")\n",
        "for i in freq_relativa:\n",
        "  print(i)\n",
        "\n",
        "print(f\"\\nTotal Frequência Relativa: {freq_relativa.sum()}\\n\")"
      ],
      "metadata": {
        "colab": {
          "base_uri": "https://localhost:8080/"
        },
        "id": "8oQIwQP72aWY",
        "outputId": "18abcb90-ebac-4c2b-ef9f-cd50263a740f"
      },
      "execution_count": 79,
      "outputs": [
        {
          "output_type": "stream",
          "name": "stdout",
          "text": [
            "\n",
            "- Frequência Relativa:\n",
            "\n",
            "0.1625\n",
            "0.125\n",
            "0.125\n",
            "0.175\n",
            "0.1375\n",
            "0.0875\n",
            "0.05\n",
            "0.025\n",
            "0.1125\n",
            "\n",
            "Total Frequência Relativa: 1.0\n",
            "\n"
          ]
        }
      ]
    },
    {
      "cell_type": "markdown",
      "source": [
        "### - Frequência Percentual $(f_{i}\\%)$\n",
        "\n",
        "\n"
      ],
      "metadata": {
        "id": "F0y_N_xh7KwD"
      }
    },
    {
      "cell_type": "markdown",
      "source": [
        "$$f_i\\% = f_{ri} \\times 100$$\n",
        "\n",
        "<br>"
      ],
      "metadata": {
        "id": "m9MiOCVb7gRP"
      }
    },
    {
      "cell_type": "code",
      "source": [
        "freq_percent = freq_relativa*100\n",
        "\n",
        "print(\"\\nFrequência Percentual:\\n\")\n",
        "for i in freq_percent:\n",
        "  print(f\"{i:.2f}%\")\n",
        "print(f\"\\nTotal: {freq_percent.sum():.0f}%\")"
      ],
      "metadata": {
        "colab": {
          "base_uri": "https://localhost:8080/"
        },
        "id": "nyjuP6ZK2j0m",
        "outputId": "dda25e78-a79b-4cd3-b79e-b9eaef7f4d4d"
      },
      "execution_count": 63,
      "outputs": [
        {
          "output_type": "stream",
          "name": "stdout",
          "text": [
            "\n",
            "Frequência Percentual:\n",
            "\n",
            "16.25%\n",
            "12.50%\n",
            "12.50%\n",
            "17.50%\n",
            "13.75%\n",
            "8.75%\n",
            "5.00%\n",
            "2.50%\n",
            "11.25%\n",
            "\n",
            "Total: 100%\n"
          ]
        }
      ]
    },
    {
      "cell_type": "markdown",
      "source": [
        "### - Frequência Acumulada (Simples $(f_i)$, Relativa $(f_{ri})$, Percentual $(f_{i}\\%)$"
      ],
      "metadata": {
        "id": "dw4iGAg1_rj1"
      }
    },
    {
      "cell_type": "markdown",
      "source": [
        "Simples $(f_i)$"
      ],
      "metadata": {
        "id": "N72-ePFkGP3s"
      }
    },
    {
      "cell_type": "code",
      "source": [
        "freq_simp_ac = np.zeros((1, 9))\n",
        "\n",
        "for i in range(10):\n",
        "  temp = 0\n",
        "  for j in range(i):\n",
        "    temp += freq_t[j]\n",
        "  freq_simp_ac[0][i-1] = temp\n",
        "\n",
        "print(\"\\n- Frequência Simples Acumulada:\")\n",
        "for i in freq_simp_ac[0]:\n",
        "  print(i)\n"
      ],
      "metadata": {
        "colab": {
          "base_uri": "https://localhost:8080/"
        },
        "id": "8bGH-cHh8WZC",
        "outputId": "a9495004-4421-4a4e-9e1e-db51fdf8ea47"
      },
      "execution_count": 104,
      "outputs": [
        {
          "output_type": "stream",
          "name": "stdout",
          "text": [
            "\n",
            "- Frequência Simples Acumulada:\n",
            "13.0\n",
            "23.0\n",
            "33.0\n",
            "47.0\n",
            "58.0\n",
            "65.0\n",
            "69.0\n",
            "71.0\n",
            "80.0\n"
          ]
        }
      ]
    },
    {
      "cell_type": "markdown",
      "source": [
        "Relativa $(f_{ri})$"
      ],
      "metadata": {
        "id": "Mc4-GqPXGUrK"
      }
    },
    {
      "cell_type": "code",
      "source": [
        "freq_relat_ac = np.zeros((1, 9))\n",
        "\n",
        "for i in range(10):\n",
        "  temp = 0\n",
        "  for j in range(i):\n",
        "    temp += freq_relativa[j]\n",
        "  freq_relat_ac[0][i-1] = temp\n",
        "\n",
        "print(\"\\n- Frequência Relativa Acumulada:\")\n",
        "for i in freq_relat_ac[0]:\n",
        "  print(f\"{i:.2f}\")\n"
      ],
      "metadata": {
        "colab": {
          "base_uri": "https://localhost:8080/"
        },
        "id": "ypXi8WDHCcFe",
        "outputId": "0ee3cd5e-4cdd-4f4b-b98b-7d163bc34be9"
      },
      "execution_count": 108,
      "outputs": [
        {
          "output_type": "stream",
          "name": "stdout",
          "text": [
            "\n",
            "- Frequência Relativa Acumulada:\n",
            "0.16\n",
            "0.29\n",
            "0.41\n",
            "0.59\n",
            "0.72\n",
            "0.81\n",
            "0.86\n",
            "0.89\n",
            "1.00\n"
          ]
        }
      ]
    },
    {
      "cell_type": "markdown",
      "source": [
        "Percentual $(f_{i}\\%)$"
      ],
      "metadata": {
        "id": "G5HabomdHL5o"
      }
    },
    {
      "cell_type": "code",
      "source": [
        "freq_perc_ac = np.zeros((1, 9))\n",
        "\n",
        "for i in range(10):\n",
        "  temp = 0\n",
        "  for j in range(i):\n",
        "    temp += freq_percent[j]\n",
        "  freq_perc_ac[0][i-1] = temp\n",
        "\n",
        "print(\"\\n\\n- Frequência Percentual Acumulada:\\n\")\n",
        "for i in freq_perc_ac[0]:\n",
        "  print(f\"{i:.2f}%\")\n"
      ],
      "metadata": {
        "colab": {
          "base_uri": "https://localhost:8080/"
        },
        "id": "9JfgwYU1GIpg",
        "outputId": "844a59de-26c2-4763-ea0c-dbd8243749d7"
      },
      "execution_count": 113,
      "outputs": [
        {
          "output_type": "stream",
          "name": "stdout",
          "text": [
            "\n",
            "\n",
            "- Frequência Percentual Acumulada:\n",
            "\n",
            "16.25%\n",
            "28.75%\n",
            "41.25%\n",
            "58.75%\n",
            "72.50%\n",
            "81.25%\n",
            "86.25%\n",
            "88.75%\n",
            "100.00%\n"
          ]
        }
      ]
    },
    {
      "cell_type": "code",
      "source": [
        ""
      ],
      "metadata": {
        "id": "x6qeqIIlHY8V"
      },
      "execution_count": null,
      "outputs": []
    }
  ]
}