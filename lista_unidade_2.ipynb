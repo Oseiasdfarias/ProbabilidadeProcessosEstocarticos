{
  "nbformat": 4,
  "nbformat_minor": 0,
  "metadata": {
    "colab": {
      "name": "lista_unidade_2.ipynb",
      "provenance": [],
      "collapsed_sections": [],
      "authorship_tag": "ABX9TyOAYGLA2ZagQzBN8wbvBeY6",
      "include_colab_link": true
    },
    "kernelspec": {
      "name": "python3",
      "display_name": "Python 3"
    },
    "language_info": {
      "name": "python"
    }
  },
  "cells": [
    {
      "cell_type": "markdown",
      "metadata": {
        "id": "view-in-github",
        "colab_type": "text"
      },
      "source": [
        "<a href=\"https://colab.research.google.com/github/Oseiasdfarias/ProbabilidadeProcessosEstocarticos/blob/main/lista_unidade_2.ipynb\" target=\"_parent\"><img src=\"https://colab.research.google.com/assets/colab-badge.svg\" alt=\"Open In Colab\"/></a>"
      ]
    },
    {
      "cell_type": "markdown",
      "source": [
        "\n",
        "# <center>**Probabilidade e Processos Estocásticos**</center>\n",
        "#<center>**Lista de Exemplos – Unidade 02**</center>\n",
        "\n",
        "<br><br>"
      ],
      "metadata": {
        "id": "qfTtChdRZCFg"
      }
    },
    {
      "cell_type": "markdown",
      "source": [
        "# <center>**2.1 – Tabela de Distribuição de Frequências**</center>\n",
        "\n"
      ],
      "metadata": {
        "id": "x06Hcxx9MjPw"
      }
    },
    {
      "cell_type": "markdown",
      "source": [
        "## Questão 1\n",
        "A tabela a seguir apresenta dados referentes às idades dos funcionários da\n",
        "empresa de engenharia fictícia. A média das idades é uma das informações que se deseja\n",
        "calcular com base no conjunto de dados da tabela 1.\n"
      ],
      "metadata": {
        "id": "4BMaSbHjiinN"
      }
    },
    {
      "cell_type": "code",
      "execution_count": 77,
      "metadata": {
        "id": "2tzNed1_MaA-"
      },
      "outputs": [],
      "source": [
        "import numpy as np\n"
      ]
    },
    {
      "cell_type": "code",
      "source": [
        "primitiva = np.array([[18, 38, 36, 56, 52, 38, 39, 56, 54, 20],\n",
        "                      [20, 30, 40, 32, 44, 44, 24, 28, 18, 30],\n",
        "                      [48, 48, 42, 46, 40, 19, 27, 19, 42, 37],\n",
        "                      [44, 34, 60, 18, 19, 36, 56, 26, 22, 28],\n",
        "                      [30, 44, 48, 54, 36, 34, 36, 34, 21, 19],\n",
        "                      [24, 52, 18, 28, 34, 60, 22, 28, 36, 26],\n",
        "                      [24, 40, 27, 55, 60, 38, 24, 44, 36, 34],\n",
        "                      [32, 34, 36, 44, 38, 40, 26, 48, 26, 28]\n",
        "                      ])\n",
        "\n",
        "print(primitiva)"
      ],
      "metadata": {
        "id": "AlP150NRNelR",
        "colab": {
          "base_uri": "https://localhost:8080/",
          "height": 0
        },
        "outputId": "63d0f276-a1b0-4a5f-dd79-b8fdf4ba218b"
      },
      "execution_count": 78,
      "outputs": [
        {
          "output_type": "stream",
          "name": "stdout",
          "text": [
            "[[18 38 36 56 52 38 39 56 54 20]\n",
            " [20 30 40 32 44 44 24 28 18 30]\n",
            " [48 48 42 46 40 19 27 19 42 37]\n",
            " [44 34 60 18 19 36 56 26 22 28]\n",
            " [30 44 48 54 36 34 36 34 21 19]\n",
            " [24 52 18 28 34 60 22 28 36 26]\n",
            " [24 40 27 55 60 38 24 44 36 34]\n",
            " [32 34 36 44 38 40 26 48 26 28]]\n"
          ]
        }
      ]
    },
    {
      "cell_type": "markdown",
      "source": [
        "<br>\n",
        "\n",
        "### a) Considere a Tabela 1, monte o ROL:\n"
      ],
      "metadata": {
        "id": "suVB1bGkaocs"
      }
    },
    {
      "cell_type": "code",
      "source": [
        "sorted_array = np.sort(primitiva, axis= None) \n",
        "rol = np.reshape(sorted_array, (-1, 10))\n",
        "print(rol)"
      ],
      "metadata": {
        "colab": {
          "base_uri": "https://localhost:8080/",
          "height": 0
        },
        "id": "B63aXk2xPztg",
        "outputId": "c67d332d-189e-4731-e30e-d322716bedd0"
      },
      "execution_count": 79,
      "outputs": [
        {
          "output_type": "stream",
          "name": "stdout",
          "text": [
            "[[18 18 18 18 19 19 19 19 20 20]\n",
            " [21 22 22 24 24 24 24 26 26 26]\n",
            " [26 27 27 28 28 28 28 28 30 30]\n",
            " [30 32 32 34 34 34 34 34 34 36]\n",
            " [36 36 36 36 36 36 37 38 38 38]\n",
            " [38 39 40 40 40 40 42 42 44 44]\n",
            " [44 44 44 44 46 48 48 48 48 52]\n",
            " [52 54 54 55 56 56 56 60 60 60]]\n"
          ]
        }
      ]
    },
    {
      "cell_type": "markdown",
      "source": [
        "<br>\n",
        "\n",
        "### b) Considere o ROL montado no item “a”. Montar a Tabela de Distribuição de Frequência por Valores (TDF por Valores):\n"
      ],
      "metadata": {
        "id": "M6Dhnf_9aAmW"
      }
    },
    {
      "cell_type": "code",
      "source": [
        "unique, counts = np.unique(sorted_array, return_counts=True)\n",
        "dist = np.asarray((unique, counts)).T\n",
        "print(dist)"
      ],
      "metadata": {
        "colab": {
          "base_uri": "https://localhost:8080/",
          "height": 0
        },
        "id": "vopMDvG2YO4_",
        "outputId": "1bb92cf1-6029-4934-9c06-1778f89666fd"
      },
      "execution_count": 80,
      "outputs": [
        {
          "output_type": "stream",
          "name": "stdout",
          "text": [
            "[[18  4]\n",
            " [19  4]\n",
            " [20  2]\n",
            " [21  1]\n",
            " [22  2]\n",
            " [24  4]\n",
            " [26  4]\n",
            " [27  2]\n",
            " [28  5]\n",
            " [30  3]\n",
            " [32  2]\n",
            " [34  6]\n",
            " [36  7]\n",
            " [37  1]\n",
            " [38  4]\n",
            " [39  1]\n",
            " [40  4]\n",
            " [42  2]\n",
            " [44  6]\n",
            " [46  1]\n",
            " [48  4]\n",
            " [52  2]\n",
            " [54  2]\n",
            " [55  1]\n",
            " [56  3]\n",
            " [60  3]]\n"
          ]
        }
      ]
    },
    {
      "cell_type": "markdown",
      "source": [
        "# <center>**2.2 – Elaboração da TDF**</center>"
      ],
      "metadata": {
        "id": "6_vjzIJIfcLg"
      }
    },
    {
      "cell_type": "markdown",
      "source": [
        "## Questão 2 – Considere o ROL (questão 1.a):\n"
      ],
      "metadata": {
        "id": "xO-vo_UKfny1"
      }
    },
    {
      "cell_type": "markdown",
      "source": [
        "### a) Calcular a Amplitude Total (AT):\n"
      ],
      "metadata": {
        "id": "Zl7e8ZPJfsWs"
      }
    },
    {
      "cell_type": "markdown",
      "source": [
        "Solução:\n",
        "\n",
        "$$AT = X_{max} - X_{min}$$\n",
        "\n",
        "$$AT = 60 - 18$$\n",
        "\n",
        "$$AT = 42$$\n",
        "\n",
        "<br>"
      ],
      "metadata": {
        "id": "Z2T69lSgwrt0"
      }
    },
    {
      "cell_type": "code",
      "source": [
        "x_max = np.max(rol)\n",
        "x_min = np.min(rol)\n",
        "at = x_max - x_min\n",
        "\n",
        "print(f\"\\n- X_max: {x_max}\\n- X_min: {x_min}\")\n",
        "print(f\"- Amplitude Total AT = {x_max} − {x_min} = {at}\\n\")"
      ],
      "metadata": {
        "colab": {
          "base_uri": "https://localhost:8080/",
          "height": 0
        },
        "id": "ssCLgfU8xmQl",
        "outputId": "a6974ff3-e58d-47df-e16b-dd695720bce0"
      },
      "execution_count": 102,
      "outputs": [
        {
          "output_type": "stream",
          "name": "stdout",
          "text": [
            "\n",
            "- X_max: 60\n",
            "- X_min: 18\n",
            "- Amplitude Total AT = 60 − 18 = 42\n",
            "\n"
          ]
        }
      ]
    },
    {
      "cell_type": "markdown",
      "source": [
        "### b) Calcular o Número de Classes (K):\n"
      ],
      "metadata": {
        "id": "dFCaWVn4xjpP"
      }
    },
    {
      "cell_type": "markdown",
      "source": [
        "<br>\n",
        "\n",
        "Regra de Sturges\n",
        "\n",
        "$$K = \\sqrt{N}$$\n",
        "$$K = \\sqrt{80}$$\n",
        "$$K \\approx 9$$\n",
        "\n",
        "<br>\n"
      ],
      "metadata": {
        "id": "juxN46_xyv4n"
      }
    },
    {
      "cell_type": "code",
      "source": [
        "n = primitiva.shape[0]*primitiva.shape[1]\n",
        "k = np.sqrt(n)\n",
        "print(f\"Número de Classes (K): {round(k)}\")\n"
      ],
      "metadata": {
        "id": "zxoX4o1SfR7s",
        "colab": {
          "base_uri": "https://localhost:8080/",
          "height": 0
        },
        "outputId": "61d5e649-0702-4dde-d2c8-a5eafb7618ba"
      },
      "execution_count": 104,
      "outputs": [
        {
          "output_type": "stream",
          "name": "stdout",
          "text": [
            "Número de Classes (K): 9\n"
          ]
        }
      ]
    },
    {
      "cell_type": "markdown",
      "source": [
        "<br>\n",
        "\n",
        "### c) Calcular a Amplitude da Classe (h):\n"
      ],
      "metadata": {
        "id": "io2jvqSZ02KS"
      }
    },
    {
      "cell_type": "markdown",
      "source": [
        "$$h \\approx \\dfrac{AT}{K}$$\n",
        "\n",
        "$$Teste: h \\times K \\geq AT$$\n",
        "\n",
        "$$h \\approx \\dfrac{42}{9} = 5$$\n",
        "\n",
        "$$Teste: h \\times K \\geq AT = True$$ "
      ],
      "metadata": {
        "id": "TXN6oZ1K09J4"
      }
    },
    {
      "cell_type": "code",
      "source": [
        "h = at / k\n",
        "h = round(h)\n",
        "print(f\"Amplitude da Classe (h): {h}\")"
      ],
      "metadata": {
        "colab": {
          "base_uri": "https://localhost:8080/",
          "height": 0
        },
        "id": "M91r5tj9zqe8",
        "outputId": "93102f25-0871-4eab-dcca-6812d587f1af"
      },
      "execution_count": 83,
      "outputs": [
        {
          "output_type": "stream",
          "name": "stdout",
          "text": [
            "Amplitude da Classe (h): 5\n"
          ]
        }
      ]
    },
    {
      "cell_type": "markdown",
      "source": [
        "Teste:"
      ],
      "metadata": {
        "id": "BipcpWoP2CNL"
      }
    },
    {
      "cell_type": "code",
      "source": [
        "h*k >= at\n"
      ],
      "metadata": {
        "colab": {
          "base_uri": "https://localhost:8080/",
          "height": 0
        },
        "id": "UX5oufef11SV",
        "outputId": "c5978718-9f48-4555-a73d-8139b42e12b8"
      },
      "execution_count": 84,
      "outputs": [
        {
          "output_type": "execute_result",
          "data": {
            "text/plain": [
              "True"
            ]
          },
          "metadata": {},
          "execution_count": 84
        }
      ]
    },
    {
      "cell_type": "markdown",
      "source": [
        "<br>\n",
        "\n",
        "### d) Montar a Tabela de Distribuição de Frequência por Classes (TDF por Classes) de acordo com os valores calculadas:"
      ],
      "metadata": {
        "id": "ZGmtDxuA27HK"
      }
    },
    {
      "cell_type": "markdown",
      "source": [
        "| index \t| início \t| fim \t| frequência | Percentual % \n",
        "|----\t    |----\t    |----\t  | ---        | ---\n",
        "| 1° \t    | 18 \t    | 23 \t  | 13         | 16.25%\n",
        "| 2° \t    | 23 \t    | 28   \t| 10         | 12.50%\n",
        "| 3° \t    | 28 \t    | 33 \t  | 10         | 12.50%\n",
        "| 4° \t    | 33    \t| 38 \t  | 14         | 17.50%\n",
        "| 5° \t    | 38 \t    | 43   \t| 11         | 13.75%\n",
        "| 6° \t    | 43    \t| 48 \t  | 07         | 08.75%\n",
        "| 7° \t    | 48    \t| 52 \t  | 04         | 05.00%\n",
        "| 8°    \t| 52    \t| 53 \t  | 02         | 02.50%\n",
        "| 9° \t    | 53 \t    | 63 \t  | 09         | 11.25%\n",
        "\n",
        "\n",
        "<br>"
      ],
      "metadata": {
        "id": "Lldd4vEjFrw5"
      }
    },
    {
      "cell_type": "code",
      "source": [
        "init = 18\n",
        "\n",
        "# Coluna de frequencia da tabela de frequencia\n",
        "freq_t = np.array([13, 10, 10, 14, 11, 7, 4, 2, 9])\n",
        "perc = np.zeros((1, 9), dtype=\"float32\")\n",
        "\n",
        "freq_t.sum()\n",
        "\n",
        "# Coluna de Percentual da tabela de frequencia\n",
        "for i, j in enumerate(freq_t):\n",
        "  perc[0][i] = (100*j)/80\n",
        "\n",
        "print(\"\\nTabela de Distribuição de Frequências\\n\")\n",
        "for i in range(9):\n",
        "  print(init, end=\" \")\n",
        "  init += 5\n",
        "  print(init, end=\"     \")\n",
        "  print(freq_t[i], end=\"\")\n",
        "  print(f\"         {perc[0][i]}%\")\n"
      ],
      "metadata": {
        "id": "WgpqlcPv2Kd1",
        "colab": {
          "base_uri": "https://localhost:8080/",
          "height": 0
        },
        "outputId": "20bd22ee-c511-4e29-9d60-6ca1c59cf22a"
      },
      "execution_count": 113,
      "outputs": [
        {
          "output_type": "stream",
          "name": "stdout",
          "text": [
            "\n",
            "Tabela de Distribuição de Frequências\n",
            "\n",
            "18 23     13         16.25%\n",
            "23 28     10         12.5%\n",
            "28 33     10         12.5%\n",
            "33 38     14         17.5%\n",
            "38 43     11         13.75%\n",
            "43 48     7         8.75%\n",
            "48 53     4         5.0%\n",
            "53 58     2         2.5%\n",
            "58 63     9         11.25%\n"
          ]
        }
      ]
    },
    {
      "cell_type": "code",
      "source": [
        "# Coluna dos intervalos da tabela de frequência\n",
        "\n",
        "freq_tab = np.array([ [18, 23],\n",
        "                      [23, 28],\n",
        "                      [28, 33],\n",
        "                      [33, 38],\n",
        "                      [38, 43],\n",
        "                      [43, 48],\n",
        "                      [48, 53],\n",
        "                      [53, 58],\n",
        "                      [58, 63]])\n",
        "print(freq_tab)"
      ],
      "metadata": {
        "colab": {
          "base_uri": "https://localhost:8080/",
          "height": 0
        },
        "id": "n3y5TNLeKKLb",
        "outputId": "68128840-0b01-4eb7-831e-9bc176201824"
      },
      "execution_count": 86,
      "outputs": [
        {
          "output_type": "stream",
          "name": "stdout",
          "text": [
            "[[18 23]\n",
            " [23 28]\n",
            " [28 33]\n",
            " [33 38]\n",
            " [38 43]\n",
            " [43 48]\n",
            " [48 53]\n",
            " [53 58]\n",
            " [58 63]]\n"
          ]
        }
      ]
    },
    {
      "cell_type": "code",
      "source": [
        ""
      ],
      "metadata": {
        "id": "Ny5GHCzeEsdh"
      },
      "execution_count": 86,
      "outputs": []
    },
    {
      "cell_type": "markdown",
      "source": [
        "# <center>**2.3 – Elementos em uma TDF**</center>"
      ],
      "metadata": {
        "id": "nWsFN1uMRf2K"
      }
    },
    {
      "cell_type": "markdown",
      "source": [
        "## Questão 3 – Considere o ROL (questão 1.a) e a TDF (questão 2.d):\n"
      ],
      "metadata": {
        "id": "JdHNhZ2YRmKy"
      }
    },
    {
      "cell_type": "markdown",
      "source": [
        "### a) Definir as Classes (i) de dois intervalos distintos e o número total de classes (K).\n"
      ],
      "metadata": {
        "id": "og8lSjl8RtsT"
      }
    },
    {
      "cell_type": "markdown",
      "source": [
        "Classes:\n",
        "\n",
        "$$i_2 = 23 | 28$$\n",
        "\n",
        "$$i_5 = 38 | 43$$\n",
        "\n",
        "<br>"
      ],
      "metadata": {
        "id": "r8xSwSeRSH0h"
      }
    },
    {
      "cell_type": "code",
      "source": [
        "i_2 = freq_tab[2]\n",
        "print(f\"\\n- Classe I2: {i_2}\")\n",
        "\n",
        "i_5 = freq_tab[5]\n",
        "print(f\"- Classe I5: {i_5}\")"
      ],
      "metadata": {
        "colab": {
          "base_uri": "https://localhost:8080/",
          "height": 0
        },
        "id": "t18y0KpzRlLg",
        "outputId": "b9eff1a8-7402-4449-b06a-786ae48b0545"
      },
      "execution_count": 116,
      "outputs": [
        {
          "output_type": "stream",
          "name": "stdout",
          "text": [
            "\n",
            "- Classe I2: [28 33]\n",
            "- Classe I5: [43 48]\n"
          ]
        }
      ]
    },
    {
      "cell_type": "markdown",
      "source": [
        "Total de Classes:\n",
        "\n",
        "$$K = 9$$\n",
        "\n",
        "<br>"
      ],
      "metadata": {
        "id": "2PUBr1zeUmAQ"
      }
    },
    {
      "cell_type": "code",
      "source": [
        "print(f\"\\nTotal de classes k: {round(k)}\\n\")"
      ],
      "metadata": {
        "colab": {
          "base_uri": "https://localhost:8080/",
          "height": 0
        },
        "id": "P4F_a8QKTApj",
        "outputId": "93bcf43c-b9c0-49d1-89bc-6339bac51220"
      },
      "execution_count": 88,
      "outputs": [
        {
          "output_type": "stream",
          "name": "stdout",
          "text": [
            "\n",
            "Total de classes k: 9\n",
            "\n"
          ]
        }
      ]
    },
    {
      "cell_type": "markdown",
      "source": [
        "### b) Definir as Limites de Classe de duas classes aleatórias.\n"
      ],
      "metadata": {
        "id": "TXJprHTjVTKe"
      }
    },
    {
      "cell_type": "markdown",
      "source": [
        "<br>\n",
        "\n",
        "Limites das Classes:\n",
        "\n",
        "Classe $i_4$\n",
        "\n",
        "$$l_4 = 38$$\n",
        "$$L_4 = 43$$\n",
        "\n",
        "\n",
        "Classe $i_7$\n",
        "\n",
        "$$l_7 = 53$$\n",
        "$$L_7 = 58$$\n",
        "\n",
        "<br><br>"
      ],
      "metadata": {
        "id": "Gy1HluSyXyXT"
      }
    },
    {
      "cell_type": "code",
      "source": [
        "i_4 = freq_tab[4]\n",
        "i_7 = freq_tab[7]\n",
        "\n",
        "print(f\"\\n- Classe i_4: {i_4}\\n- Limite Inferior da Classe - l_4: {i_4[0]}\\n- Limite Superior da Classe L_4: {i_4[1]}\\n\\n\")\n",
        "print(f\"\\n- Classe i_7: {i_7}\\n- Limite Inferior da Classe - l_7: {i_7[0]}\\n- Limite Superior da Classe L_7: {i_7[1]}\\n\")"
      ],
      "metadata": {
        "colab": {
          "base_uri": "https://localhost:8080/",
          "height": 0
        },
        "id": "NCjPjCpyVCln",
        "outputId": "145926a0-2d73-4be6-b6b7-5615e3c065bf"
      },
      "execution_count": 89,
      "outputs": [
        {
          "output_type": "stream",
          "name": "stdout",
          "text": [
            "\n",
            "- Classe i_4: [38 43]\n",
            "- Limite Inferior da Classe - l_4: 38\n",
            "- Limite Superior da Classe L_4: 43\n",
            "\n",
            "\n",
            "\n",
            "- Classe i_7: [53 58]\n",
            "- Limite Inferior da Classe - l_7: 53\n",
            "- Limite Superior da Classe L_7: 58\n",
            "\n"
          ]
        }
      ]
    },
    {
      "cell_type": "markdown",
      "source": [
        "<br>\n",
        "\n",
        "### c) Amplitude do Intervalo de Classe.\n",
        "\n",
        "$$h = 5$$\n",
        "\n",
        "<br>"
      ],
      "metadata": {
        "id": "C3cgs2ICYo8b"
      }
    },
    {
      "cell_type": "code",
      "source": [
        "hi = i_4[1] - i_4[0]\n",
        "\n",
        "print(f\"\\nAmplitude do Intervalo de Classe h: {hi}\\n\")"
      ],
      "metadata": {
        "colab": {
          "base_uri": "https://localhost:8080/",
          "height": 0
        },
        "id": "VaaYdHHRWwpw",
        "outputId": "f2e8de58-433a-4bc0-9357-1a5afef691a6"
      },
      "execution_count": 90,
      "outputs": [
        {
          "output_type": "stream",
          "name": "stdout",
          "text": [
            "\n",
            "Amplitude do Intervalo de Classe h: 5\n",
            "\n"
          ]
        }
      ]
    },
    {
      "cell_type": "markdown",
      "source": [
        "<br>\n",
        "\n",
        "### d) Amplitude Total da Distribuição.\n",
        "\n",
        "$$h_d = L_{max} - l_{min}$$\n",
        "\n",
        "$$h_d = 63 - 18$$\n",
        "\n",
        "$$h_d = 45$$\n",
        "\n",
        "<br>\n"
      ],
      "metadata": {
        "id": "_aNDw9jYa1x5"
      }
    },
    {
      "cell_type": "code",
      "source": [
        "l_min = freq_tab[:1,:1]\n",
        "l_max = freq_tab[-1:,-1:] \n",
        "hd = l_max - l_min\n",
        "\n",
        "print(f\"\\nLimite Mínimo: {l_min[0][0]}\")\n",
        "print(f\"Limite Máximo: {l_max[0][0]}\")\n",
        "print(f\"Amplitude Total da Distribuição: {hd[0][0]}\\n\")"
      ],
      "metadata": {
        "colab": {
          "base_uri": "https://localhost:8080/",
          "height": 0
        },
        "id": "xgzJnTFKbHr9",
        "outputId": "f433218b-e55f-4168-b43e-4d4427369f38"
      },
      "execution_count": 91,
      "outputs": [
        {
          "output_type": "stream",
          "name": "stdout",
          "text": [
            "\n",
            "Limite Mínimo: 18\n",
            "Limite Máximo: 63\n",
            "Amplitude Total da Distribuição: 45\n",
            "\n"
          ]
        }
      ]
    },
    {
      "cell_type": "markdown",
      "source": [
        "### e) Amplitude Total (Amplitude Total da Amostra).\n",
        "\n",
        "$$AT = AA = X_{max} - X_{min}$$\n",
        "\n",
        "<br>"
      ],
      "metadata": {
        "id": "U3OIZAj5bG6g"
      }
    },
    {
      "cell_type": "code",
      "source": [
        "X_max = np.max(rol)\n",
        "X_min = np.min(rol)\n",
        "AT = X_max - X_min\n",
        "\n",
        "print(f\"- X_max: {X_max},\\n- X_min: {X_min}\\n- Amplitude Total (AT): {AT}\")"
      ],
      "metadata": {
        "colab": {
          "base_uri": "https://localhost:8080/",
          "height": 0
        },
        "id": "-1UwBT-DapzN",
        "outputId": "ddeee099-d775-45ad-cc55-494b2a7e8ff4"
      },
      "execution_count": 119,
      "outputs": [
        {
          "output_type": "stream",
          "name": "stdout",
          "text": [
            "- X_max: 60,\n",
            "- X_min: 18\n",
            "- Amplitude Total (AT): 42\n"
          ]
        }
      ]
    },
    {
      "cell_type": "markdown",
      "source": [
        "### f) Ponto Médio da Classe.\n"
      ],
      "metadata": {
        "id": "Uqay1Ehtbf2S"
      }
    },
    {
      "cell_type": "markdown",
      "source": [
        "|Classes\t| Ponto Médio das Classes\t|\n",
        "|:--:\t|:----:\t|\n",
        "| x1 \t| 20.5 \t|\n",
        "| x2 \t| 25.5 \t|\n",
        "| x3 \t| 30.5 \t|\n",
        "| x4 \t| 35.5 \t|\n",
        "| x5 \t| 40.5 \t|\n",
        "| x6 \t| 45.5 \t|\n",
        "| x7 \t| 50.5 \t|\n",
        "| x8 \t| 55.5 \t|\n",
        "| x9 \t| 60.5 \t|"
      ],
      "metadata": {
        "id": "CVnpEdDI7vYz"
      }
    },
    {
      "cell_type": "code",
      "source": [
        "xi = np.zeros((1, 9))\n",
        "\n",
        "for j, i in enumerate(freq_tab):\n",
        "  xi[0][j] = i.sum()/2\n",
        "print(xi.T)"
      ],
      "metadata": {
        "colab": {
          "base_uri": "https://localhost:8080/",
          "height": 0
        },
        "id": "EsC-MlB_5jPf",
        "outputId": "fe9b42b7-6243-4460-c55b-1342370cf92b"
      },
      "execution_count": 133,
      "outputs": [
        {
          "output_type": "stream",
          "name": "stdout",
          "text": [
            "[[20.5]\n",
            " [25.5]\n",
            " [30.5]\n",
            " [35.5]\n",
            " [40.5]\n",
            " [45.5]\n",
            " [50.5]\n",
            " [55.5]\n",
            " [60.5]]\n"
          ]
        }
      ]
    },
    {
      "cell_type": "markdown",
      "source": [
        "# <center>**2.3.1 – Tipos de frequências**</center>"
      ],
      "metadata": {
        "id": "TyE2Av_J8IKc"
      }
    },
    {
      "cell_type": "markdown",
      "source": [
        "## Questão 4\n",
        "Considere TDF por Classes montada “questão 2”, elabore uma TDF por Classes, que contenha as seguintes frequências:\n",
        "\n",
        "- Frequência Simples ou Absoluta $(f_i)$\n",
        "- Frequência Relativa $(f_{ri})$\n",
        "- Frequência Percentual $(f_{i}\\%)$\n",
        "- Frequência Acumulada (Simples $(f_i)$, Relativa $(f_{ri})$, Percentual $(f_{i}\\%)$\n",
        "\n",
        "<br>\n",
        "\n"
      ],
      "metadata": {
        "id": "mIotx06K8PDS"
      }
    },
    {
      "cell_type": "code",
      "source": [
        ""
      ],
      "metadata": {
        "id": "g7KE4a6h58oJ"
      },
      "execution_count": null,
      "outputs": []
    }
  ]
}