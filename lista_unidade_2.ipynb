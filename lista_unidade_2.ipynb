{
  "nbformat": 4,
  "nbformat_minor": 0,
  "metadata": {
    "colab": {
      "name": "lista_unidade_2.ipynb",
      "provenance": [],
      "collapsed_sections": [],
      "authorship_tag": "ABX9TyNPzLCH9ysOA7XCctcPmYSF",
      "include_colab_link": true
    },
    "kernelspec": {
      "name": "python3",
      "display_name": "Python 3"
    },
    "language_info": {
      "name": "python"
    }
  },
  "cells": [
    {
      "cell_type": "markdown",
      "metadata": {
        "id": "view-in-github",
        "colab_type": "text"
      },
      "source": [
        "<a href=\"https://colab.research.google.com/github/Oseiasdfarias/ProbabilidadeProcessosEstocarticos/blob/main/lista_unidade_2.ipynb\" target=\"_parent\"><img src=\"https://colab.research.google.com/assets/colab-badge.svg\" alt=\"Open In Colab\"/></a>"
      ]
    },
    {
      "cell_type": "markdown",
      "source": [
        "\n",
        "# <center>**Probabilidade e Processos Estocásticos**</center>\n",
        "#<center>**Lista de Exemplos – Unidade 02**</center>\n",
        "\n",
        "<br><br>"
      ],
      "metadata": {
        "id": "qfTtChdRZCFg"
      }
    },
    {
      "cell_type": "markdown",
      "source": [
        "# <center>**2.1 – Tabela de Distribuição de Frequências**</center>\n",
        "\n"
      ],
      "metadata": {
        "id": "x06Hcxx9MjPw"
      }
    },
    {
      "cell_type": "markdown",
      "source": [
        "## Questão 1\n",
        "A tabela a seguir apresenta dados referentes às idades dos funcionários da\n",
        "empresa de engenharia fictícia. A média das idades é uma das informações que se deseja\n",
        "calcular com base no conjunto de dados da tabela 1.\n"
      ],
      "metadata": {
        "id": "4BMaSbHjiinN"
      }
    },
    {
      "cell_type": "code",
      "execution_count": 53,
      "metadata": {
        "id": "2tzNed1_MaA-"
      },
      "outputs": [],
      "source": [
        "import numpy as np\n",
        "import pandas as pd\n"
      ]
    },
    {
      "cell_type": "code",
      "source": [
        "primitiva = np.array([[18, 38, 36, 56, 52, 38, 39, 56, 54, 20],\n",
        "                      [20, 30, 40, 32, 44, 44, 24, 28, 18, 30],\n",
        "                      [48, 48, 42, 46, 40, 19, 27, 19, 42, 37],\n",
        "                      [44, 34, 60, 18, 19, 36, 56, 26, 22, 28],\n",
        "                      [30, 44, 48, 54, 36, 34, 36, 34, 21, 19],\n",
        "                      [24, 52, 18, 28, 34, 60, 22, 28, 36, 26],\n",
        "                      [24, 40, 27, 55, 60, 38, 24, 44, 36, 34],\n",
        "                      [32, 34, 36, 44, 38, 40, 26, 48, 26, 28]\n",
        "                      ])\n",
        "\n",
        "print(primitiva)"
      ],
      "metadata": {
        "id": "AlP150NRNelR",
        "colab": {
          "base_uri": "https://localhost:8080/"
        },
        "outputId": "b15e192a-a3c6-43b1-fdce-02f2c6a45a2d"
      },
      "execution_count": 54,
      "outputs": [
        {
          "output_type": "stream",
          "name": "stdout",
          "text": [
            "[[18 38 36 56 52 38 39 56 54 20]\n",
            " [20 30 40 32 44 44 24 28 18 30]\n",
            " [48 48 42 46 40 19 27 19 42 37]\n",
            " [44 34 60 18 19 36 56 26 22 28]\n",
            " [30 44 48 54 36 34 36 34 21 19]\n",
            " [24 52 18 28 34 60 22 28 36 26]\n",
            " [24 40 27 55 60 38 24 44 36 34]\n",
            " [32 34 36 44 38 40 26 48 26 28]]\n"
          ]
        }
      ]
    },
    {
      "cell_type": "markdown",
      "source": [
        "<br>\n",
        "\n",
        "### a) Considere a Tabela 1, monte o ROL:\n"
      ],
      "metadata": {
        "id": "suVB1bGkaocs"
      }
    },
    {
      "cell_type": "code",
      "source": [
        "sorted_array = np.sort(primitiva, axis= None) \n",
        "rol = np.reshape(sorted_array, (-1, 10))\n",
        "print(rol)"
      ],
      "metadata": {
        "colab": {
          "base_uri": "https://localhost:8080/"
        },
        "id": "B63aXk2xPztg",
        "outputId": "4ad2ba39-8d1b-4a31-e1a2-ef8ec0b3e993"
      },
      "execution_count": 55,
      "outputs": [
        {
          "output_type": "stream",
          "name": "stdout",
          "text": [
            "[[18 18 18 18 19 19 19 19 20 20]\n",
            " [21 22 22 24 24 24 24 26 26 26]\n",
            " [26 27 27 28 28 28 28 28 30 30]\n",
            " [30 32 32 34 34 34 34 34 34 36]\n",
            " [36 36 36 36 36 36 37 38 38 38]\n",
            " [38 39 40 40 40 40 42 42 44 44]\n",
            " [44 44 44 44 46 48 48 48 48 52]\n",
            " [52 54 54 55 56 56 56 60 60 60]]\n"
          ]
        }
      ]
    },
    {
      "cell_type": "markdown",
      "source": [
        "<br>\n",
        "\n",
        "### b) Considere o ROL montado no item “a”. Montar a Tabela de Distribuição de Frequência por Valores (TDF por Valores):\n"
      ],
      "metadata": {
        "id": "M6Dhnf_9aAmW"
      }
    },
    {
      "cell_type": "code",
      "source": [
        "unique, counts = np.unique(sorted_array, return_counts=True)\n",
        "dist = np.asarray((unique, counts)).T\n",
        "print(dist)"
      ],
      "metadata": {
        "colab": {
          "base_uri": "https://localhost:8080/"
        },
        "id": "vopMDvG2YO4_",
        "outputId": "d66e86da-4c22-441a-df40-0bfc8e50067c"
      },
      "execution_count": 56,
      "outputs": [
        {
          "output_type": "stream",
          "name": "stdout",
          "text": [
            "[[18  4]\n",
            " [19  4]\n",
            " [20  2]\n",
            " [21  1]\n",
            " [22  2]\n",
            " [24  4]\n",
            " [26  4]\n",
            " [27  2]\n",
            " [28  5]\n",
            " [30  3]\n",
            " [32  2]\n",
            " [34  6]\n",
            " [36  7]\n",
            " [37  1]\n",
            " [38  4]\n",
            " [39  1]\n",
            " [40  4]\n",
            " [42  2]\n",
            " [44  6]\n",
            " [46  1]\n",
            " [48  4]\n",
            " [52  2]\n",
            " [54  2]\n",
            " [55  1]\n",
            " [56  3]\n",
            " [60  3]]\n"
          ]
        }
      ]
    },
    {
      "cell_type": "markdown",
      "source": [
        "# <center>**2.2 – Elaboração da TDF**</center>"
      ],
      "metadata": {
        "id": "6_vjzIJIfcLg"
      }
    },
    {
      "cell_type": "markdown",
      "source": [
        "## Questão 2 – Considere o ROL (questão 1.a):\n"
      ],
      "metadata": {
        "id": "xO-vo_UKfny1"
      }
    },
    {
      "cell_type": "markdown",
      "source": [
        "### a) Calcular a Amplitude Total (AT):\n"
      ],
      "metadata": {
        "id": "Zl7e8ZPJfsWs"
      }
    },
    {
      "cell_type": "markdown",
      "source": [
        "Solução:\n",
        "\n",
        "$$AT = X_{max} - X_{min}$$\n",
        "\n",
        "$$AT = 60 - 18$$\n",
        "\n",
        "$$AT = 42$$\n",
        "\n",
        "<br>"
      ],
      "metadata": {
        "id": "Z2T69lSgwrt0"
      }
    },
    {
      "cell_type": "code",
      "source": [
        "x_max = np.max(rol)\n",
        "x_min = np.min(rol)\n",
        "at = x_max - x_min\n",
        "\n",
        "print(f\"\\n- X_max: {x_max}\\n- X_min: {x_min}\")\n",
        "print(f\"- Amplitude Total AT = {x_max} − {x_min} = {at}\\n\")"
      ],
      "metadata": {
        "colab": {
          "base_uri": "https://localhost:8080/"
        },
        "id": "ssCLgfU8xmQl",
        "outputId": "2ae9262b-64e0-4f48-9055-3a50bb6abc21"
      },
      "execution_count": 57,
      "outputs": [
        {
          "output_type": "stream",
          "name": "stdout",
          "text": [
            "\n",
            "- X_max: 60\n",
            "- X_min: 18\n",
            "- Amplitude Total AT = 60 − 18 = 42\n",
            "\n"
          ]
        }
      ]
    },
    {
      "cell_type": "markdown",
      "source": [
        "### b) Calcular o Número de Classes (K):\n"
      ],
      "metadata": {
        "id": "dFCaWVn4xjpP"
      }
    },
    {
      "cell_type": "markdown",
      "source": [
        "<br>\n",
        "\n",
        "Regra de Sturges\n",
        "\n",
        "$$K = \\sqrt{N}$$\n",
        "$$K = \\sqrt{80}$$\n",
        "$$K \\approx 9$$\n",
        "\n",
        "<br>\n"
      ],
      "metadata": {
        "id": "juxN46_xyv4n"
      }
    },
    {
      "cell_type": "code",
      "source": [
        "n = primitiva.shape[0]*primitiva.shape[1]\n",
        "k = np.sqrt(n)\n",
        "print(f\"Número de Classes (K): {round(k)}\")\n"
      ],
      "metadata": {
        "id": "zxoX4o1SfR7s",
        "colab": {
          "base_uri": "https://localhost:8080/"
        },
        "outputId": "d392642b-5afb-4cc3-d0c5-4f1b9073c70d"
      },
      "execution_count": 58,
      "outputs": [
        {
          "output_type": "stream",
          "name": "stdout",
          "text": [
            "Número de Classes (K): 9\n"
          ]
        }
      ]
    },
    {
      "cell_type": "markdown",
      "source": [
        "<br>\n",
        "\n",
        "### c) Calcular a Amplitude da Classe (h):\n"
      ],
      "metadata": {
        "id": "io2jvqSZ02KS"
      }
    },
    {
      "cell_type": "markdown",
      "source": [
        "$$h \\approx \\dfrac{AT}{K}$$\n",
        "\n",
        "$$Teste: h \\times K \\geq AT$$\n",
        "\n",
        "$$h \\approx \\dfrac{42}{9} = 5$$\n",
        "\n",
        "$$Teste: h \\times K \\geq AT = True$$ "
      ],
      "metadata": {
        "id": "TXN6oZ1K09J4"
      }
    },
    {
      "cell_type": "code",
      "source": [
        "h = at / k\n",
        "h = round(h)\n",
        "print(f\"Amplitude da Classe (h): {h}\")"
      ],
      "metadata": {
        "colab": {
          "base_uri": "https://localhost:8080/"
        },
        "id": "M91r5tj9zqe8",
        "outputId": "e30f14d2-622c-43f1-9c95-980bdc6d092e"
      },
      "execution_count": 59,
      "outputs": [
        {
          "output_type": "stream",
          "name": "stdout",
          "text": [
            "Amplitude da Classe (h): 5\n"
          ]
        }
      ]
    },
    {
      "cell_type": "markdown",
      "source": [
        "Teste:"
      ],
      "metadata": {
        "id": "BipcpWoP2CNL"
      }
    },
    {
      "cell_type": "code",
      "source": [
        "h*k >= at\n"
      ],
      "metadata": {
        "colab": {
          "base_uri": "https://localhost:8080/"
        },
        "id": "UX5oufef11SV",
        "outputId": "a92ff3d6-99c4-4b6d-f34c-bd21adabfdb8"
      },
      "execution_count": 60,
      "outputs": [
        {
          "output_type": "execute_result",
          "data": {
            "text/plain": [
              "True"
            ]
          },
          "metadata": {},
          "execution_count": 60
        }
      ]
    },
    {
      "cell_type": "markdown",
      "source": [
        "<br>\n",
        "\n",
        "### d) Montar a Tabela de Distribuição de Frequência por Classes (TDF por Classes) de acordo com os valores calculadas:"
      ],
      "metadata": {
        "id": "ZGmtDxuA27HK"
      }
    },
    {
      "cell_type": "markdown",
      "source": [
        "| index \t| início \t| fim \t| frequência | Percentual % \n",
        "|----\t    |----\t    |----\t  | ---        | ---\n",
        "| 1° \t    | 18 \t    | 23 \t  | 13         | 16.25%\n",
        "| 2° \t    | 23 \t    | 28   \t| 10         | 12.50%\n",
        "| 3° \t    | 28 \t    | 33 \t  | 10         | 12.50%\n",
        "| 4° \t    | 33    \t| 38 \t  | 14         | 17.50%\n",
        "| 5° \t    | 38 \t    | 43   \t| 11         | 13.75%\n",
        "| 6° \t    | 43    \t| 48 \t  | 07         | 08.75%\n",
        "| 7° \t    | 48    \t| 52 \t  | 04         | 05.00%\n",
        "| 8°    \t| 52    \t| 53 \t  | 02         | 02.50%\n",
        "| 9° \t    | 53 \t    | 63 \t  | 09         | 11.25%\n",
        "\n",
        "\n",
        "<br>"
      ],
      "metadata": {
        "id": "Lldd4vEjFrw5"
      }
    },
    {
      "cell_type": "code",
      "source": [
        "init = 18\n",
        "\n",
        "# Coluna de frequencia da tabela de frequencia\n",
        "freq_t = np.array([13, 10, 10, 14, 11, 7, 4, 2, 9])\n",
        "perc = np.zeros((1, 9), dtype=\"float32\")\n",
        "\n",
        "freq_t.sum()\n",
        "\n",
        "# Coluna de Percentual da tabela de frequencia\n",
        "for i, j in enumerate(freq_t):\n",
        "  perc[0][i] = (100*j)/80\n",
        "\n",
        "print(\"\\nTabela de Distribuição de Frequências\\n\")\n",
        "for i in range(9):\n",
        "  print(init, end=\" \")\n",
        "  init += 5\n",
        "  print(init, end=\"     \")\n",
        "  print(freq_t[i], end=\"\")\n",
        "  print(f\"         {perc[0][i]}%\")\n"
      ],
      "metadata": {
        "id": "WgpqlcPv2Kd1",
        "colab": {
          "base_uri": "https://localhost:8080/"
        },
        "outputId": "9399abe0-12a7-4434-8df4-3014971274fc"
      },
      "execution_count": 61,
      "outputs": [
        {
          "output_type": "stream",
          "name": "stdout",
          "text": [
            "\n",
            "Tabela de Distribuição de Frequências\n",
            "\n",
            "18 23     13         16.25%\n",
            "23 28     10         12.5%\n",
            "28 33     10         12.5%\n",
            "33 38     14         17.5%\n",
            "38 43     11         13.75%\n",
            "43 48     7         8.75%\n",
            "48 53     4         5.0%\n",
            "53 58     2         2.5%\n",
            "58 63     9         11.25%\n"
          ]
        }
      ]
    },
    {
      "cell_type": "code",
      "source": [
        "# Coluna dos intervalos da tabela de frequência\n",
        "\n",
        "freq_tab = np.array([ [18, 23],\n",
        "                      [23, 28],\n",
        "                      [28, 33],\n",
        "                      [33, 38],\n",
        "                      [38, 43],\n",
        "                      [43, 48],\n",
        "                      [48, 53],\n",
        "                      [53, 58],\n",
        "                      [58, 63]])\n",
        "print(freq_tab)"
      ],
      "metadata": {
        "colab": {
          "base_uri": "https://localhost:8080/"
        },
        "id": "n3y5TNLeKKLb",
        "outputId": "9a85b3bd-74b3-43e1-86b9-1589cd77e55a"
      },
      "execution_count": 62,
      "outputs": [
        {
          "output_type": "stream",
          "name": "stdout",
          "text": [
            "[[18 23]\n",
            " [23 28]\n",
            " [28 33]\n",
            " [33 38]\n",
            " [38 43]\n",
            " [43 48]\n",
            " [48 53]\n",
            " [53 58]\n",
            " [58 63]]\n"
          ]
        }
      ]
    },
    {
      "cell_type": "code",
      "source": [
        ""
      ],
      "metadata": {
        "id": "Ny5GHCzeEsdh"
      },
      "execution_count": 62,
      "outputs": []
    },
    {
      "cell_type": "markdown",
      "source": [
        "# <center>**2.3 – Elementos em uma TDF**</center>"
      ],
      "metadata": {
        "id": "nWsFN1uMRf2K"
      }
    },
    {
      "cell_type": "markdown",
      "source": [
        "## Questão 3 – Considere o ROL (questão 1.a) e a TDF (questão 2.d):\n"
      ],
      "metadata": {
        "id": "JdHNhZ2YRmKy"
      }
    },
    {
      "cell_type": "markdown",
      "source": [
        "### a) Definir as Classes (i) de dois intervalos distintos e o número total de classes (K).\n"
      ],
      "metadata": {
        "id": "og8lSjl8RtsT"
      }
    },
    {
      "cell_type": "markdown",
      "source": [
        "Classes:\n",
        "\n",
        "$$i_2 = 23 | 28$$\n",
        "\n",
        "$$i_5 = 38 | 43$$\n",
        "\n",
        "<br>"
      ],
      "metadata": {
        "id": "r8xSwSeRSH0h"
      }
    },
    {
      "cell_type": "code",
      "source": [
        "i_2 = freq_tab[2]\n",
        "print(f\"\\n- Classe I2: {i_2}\")\n",
        "\n",
        "i_5 = freq_tab[5]\n",
        "print(f\"- Classe I5: {i_5}\")"
      ],
      "metadata": {
        "colab": {
          "base_uri": "https://localhost:8080/"
        },
        "id": "t18y0KpzRlLg",
        "outputId": "50bbc501-8cb0-4718-d397-ee0122244a40"
      },
      "execution_count": 63,
      "outputs": [
        {
          "output_type": "stream",
          "name": "stdout",
          "text": [
            "\n",
            "- Classe I2: [28 33]\n",
            "- Classe I5: [43 48]\n"
          ]
        }
      ]
    },
    {
      "cell_type": "markdown",
      "source": [
        "Total de Classes:\n",
        "\n",
        "$$K = 9$$\n",
        "\n",
        "<br>"
      ],
      "metadata": {
        "id": "2PUBr1zeUmAQ"
      }
    },
    {
      "cell_type": "code",
      "source": [
        "print(f\"\\nTotal de classes k: {round(k)}\\n\")"
      ],
      "metadata": {
        "colab": {
          "base_uri": "https://localhost:8080/"
        },
        "id": "P4F_a8QKTApj",
        "outputId": "93158b97-8d93-497e-8a17-bac9795a5ad8"
      },
      "execution_count": 64,
      "outputs": [
        {
          "output_type": "stream",
          "name": "stdout",
          "text": [
            "\n",
            "Total de classes k: 9\n",
            "\n"
          ]
        }
      ]
    },
    {
      "cell_type": "markdown",
      "source": [
        "### b) Definir as Limites de Classe de duas classes aleatórias.\n"
      ],
      "metadata": {
        "id": "TXJprHTjVTKe"
      }
    },
    {
      "cell_type": "markdown",
      "source": [
        "<br>\n",
        "\n",
        "Limites das Classes:\n",
        "\n",
        "Classe $i_4$\n",
        "\n",
        "$$l_4 = 38$$\n",
        "$$L_4 = 43$$\n",
        "\n",
        "\n",
        "Classe $i_7$\n",
        "\n",
        "$$l_7 = 53$$\n",
        "$$L_7 = 58$$\n",
        "\n",
        "<br><br>"
      ],
      "metadata": {
        "id": "Gy1HluSyXyXT"
      }
    },
    {
      "cell_type": "code",
      "source": [
        "i_4 = freq_tab[4]\n",
        "i_7 = freq_tab[7]\n",
        "\n",
        "print(f\"\\n- Classe i_4: {i_4}\\n- Limite Inferior da Classe - l_4: {i_4[0]}\\n- Limite Superior da Classe L_4: {i_4[1]}\\n\\n\")\n",
        "print(f\"\\n- Classe i_7: {i_7}\\n- Limite Inferior da Classe - l_7: {i_7[0]}\\n- Limite Superior da Classe L_7: {i_7[1]}\\n\")"
      ],
      "metadata": {
        "colab": {
          "base_uri": "https://localhost:8080/"
        },
        "id": "NCjPjCpyVCln",
        "outputId": "49fd202b-742e-4b2a-ecf2-bc094bbc4ffe"
      },
      "execution_count": 65,
      "outputs": [
        {
          "output_type": "stream",
          "name": "stdout",
          "text": [
            "\n",
            "- Classe i_4: [38 43]\n",
            "- Limite Inferior da Classe - l_4: 38\n",
            "- Limite Superior da Classe L_4: 43\n",
            "\n",
            "\n",
            "\n",
            "- Classe i_7: [53 58]\n",
            "- Limite Inferior da Classe - l_7: 53\n",
            "- Limite Superior da Classe L_7: 58\n",
            "\n"
          ]
        }
      ]
    },
    {
      "cell_type": "markdown",
      "source": [
        "<br>\n",
        "\n",
        "### c) Amplitude do Intervalo de Classe.\n",
        "\n",
        "$$h = 5$$\n",
        "\n",
        "<br>"
      ],
      "metadata": {
        "id": "C3cgs2ICYo8b"
      }
    },
    {
      "cell_type": "code",
      "source": [
        "hi = i_4[1] - i_4[0]\n",
        "\n",
        "print(f\"\\nAmplitude do Intervalo de Classe h: {hi}\\n\")"
      ],
      "metadata": {
        "colab": {
          "base_uri": "https://localhost:8080/"
        },
        "id": "VaaYdHHRWwpw",
        "outputId": "771e77bb-9a28-4535-b3a9-dced3e5fb913"
      },
      "execution_count": 66,
      "outputs": [
        {
          "output_type": "stream",
          "name": "stdout",
          "text": [
            "\n",
            "Amplitude do Intervalo de Classe h: 5\n",
            "\n"
          ]
        }
      ]
    },
    {
      "cell_type": "markdown",
      "source": [
        "<br>\n",
        "\n",
        "### d) Amplitude Total da Distribuição.\n",
        "\n",
        "$$h_d = L_{max} - l_{min}$$\n",
        "\n",
        "$$h_d = 63 - 18$$\n",
        "\n",
        "$$h_d = 45$$\n",
        "\n",
        "<br>\n"
      ],
      "metadata": {
        "id": "_aNDw9jYa1x5"
      }
    },
    {
      "cell_type": "code",
      "source": [
        "l_min = freq_tab[:1,:1]\n",
        "l_max = freq_tab[-1:,-1:] \n",
        "hd = l_max - l_min\n",
        "\n",
        "print(f\"\\nLimite Mínimo: {l_min[0][0]}\")\n",
        "print(f\"Limite Máximo: {l_max[0][0]}\")\n",
        "print(f\"Amplitude Total da Distribuição: {hd[0][0]}\\n\")"
      ],
      "metadata": {
        "colab": {
          "base_uri": "https://localhost:8080/"
        },
        "id": "xgzJnTFKbHr9",
        "outputId": "14331a70-7b85-4443-85d8-2aded01b404a"
      },
      "execution_count": 67,
      "outputs": [
        {
          "output_type": "stream",
          "name": "stdout",
          "text": [
            "\n",
            "Limite Mínimo: 18\n",
            "Limite Máximo: 63\n",
            "Amplitude Total da Distribuição: 45\n",
            "\n"
          ]
        }
      ]
    },
    {
      "cell_type": "markdown",
      "source": [
        "### e) Amplitude Total (Amplitude Total da Amostra).\n",
        "\n",
        "$$AT = AA = X_{max} - X_{min}$$\n",
        "\n",
        "<br>"
      ],
      "metadata": {
        "id": "U3OIZAj5bG6g"
      }
    },
    {
      "cell_type": "code",
      "source": [
        "X_max = np.max(rol)\n",
        "X_min = np.min(rol)\n",
        "AT = X_max - X_min\n",
        "\n",
        "print(f\"- X_max: {X_max},\\n- X_min: {X_min}\\n- Amplitude Total (AT): {AT}\")"
      ],
      "metadata": {
        "colab": {
          "base_uri": "https://localhost:8080/"
        },
        "id": "-1UwBT-DapzN",
        "outputId": "c7248556-73be-45a3-b181-41acc56a1918"
      },
      "execution_count": 68,
      "outputs": [
        {
          "output_type": "stream",
          "name": "stdout",
          "text": [
            "- X_max: 60,\n",
            "- X_min: 18\n",
            "- Amplitude Total (AT): 42\n"
          ]
        }
      ]
    },
    {
      "cell_type": "markdown",
      "source": [
        "### f) Ponto Médio da Classe.\n"
      ],
      "metadata": {
        "id": "Uqay1Ehtbf2S"
      }
    },
    {
      "cell_type": "markdown",
      "source": [
        "|Classes\t| Ponto Médio das Classes\t|\n",
        "|:--:\t|:----:\t|\n",
        "| x1 \t| 20.5 \t|\n",
        "| x2 \t| 25.5 \t|\n",
        "| x3 \t| 30.5 \t|\n",
        "| x4 \t| 35.5 \t|\n",
        "| x5 \t| 40.5 \t|\n",
        "| x6 \t| 45.5 \t|\n",
        "| x7 \t| 50.5 \t|\n",
        "| x8 \t| 55.5 \t|\n",
        "| x9 \t| 60.5 \t|\n",
        "\n",
        "<br>"
      ],
      "metadata": {
        "id": "CVnpEdDI7vYz"
      }
    },
    {
      "cell_type": "code",
      "source": [
        "xi = np.zeros((1, 9))\n",
        "\n",
        "for j, i in enumerate(freq_tab):\n",
        "  xi[0][j] = i.sum()/2\n",
        "print(xi.T)"
      ],
      "metadata": {
        "colab": {
          "base_uri": "https://localhost:8080/"
        },
        "id": "EsC-MlB_5jPf",
        "outputId": "bbc4589f-9a2d-4a5b-dfed-c10a25c66b50"
      },
      "execution_count": 69,
      "outputs": [
        {
          "output_type": "stream",
          "name": "stdout",
          "text": [
            "[[20.5]\n",
            " [25.5]\n",
            " [30.5]\n",
            " [35.5]\n",
            " [40.5]\n",
            " [45.5]\n",
            " [50.5]\n",
            " [55.5]\n",
            " [60.5]]\n"
          ]
        }
      ]
    },
    {
      "cell_type": "markdown",
      "source": [
        "# <center>**2.3.1 – Tipos de frequências**</center>"
      ],
      "metadata": {
        "id": "TyE2Av_J8IKc"
      }
    },
    {
      "cell_type": "markdown",
      "source": [
        "## Questão 4\n",
        "Considere TDF por Classes montada “questão 2”, elabore uma TDF por Classes, que contenha as seguintes frequências:\n",
        "\n",
        "- Frequência Simples ou Absoluta $(f_i)$\n",
        "- Frequência Relativa $(f_{ri})$\n",
        "- Frequência Percentual $(f_{i}\\%)$\n",
        "- Frequência Acumulada (Simples $(f_i)$, Relativa $(f_{ri})$, Percentual $(f_{i}\\%)$\n",
        "\n",
        "<br>\n",
        "\n"
      ],
      "metadata": {
        "id": "mIotx06K8PDS"
      }
    },
    {
      "cell_type": "markdown",
      "source": [
        "### - Frequência Simples ou Absoluta $(f_i)$\n",
        "\n"
      ],
      "metadata": {
        "id": "JeRMW9aC1sAX"
      }
    },
    {
      "cell_type": "code",
      "source": [
        "freq_t"
      ],
      "metadata": {
        "id": "g7KE4a6h58oJ",
        "colab": {
          "base_uri": "https://localhost:8080/"
        },
        "outputId": "01b65065-c8df-475c-eccc-734b0375cf3d"
      },
      "execution_count": 70,
      "outputs": [
        {
          "output_type": "execute_result",
          "data": {
            "text/plain": [
              "array([13, 10, 10, 14, 11,  7,  4,  2,  9])"
            ]
          },
          "metadata": {},
          "execution_count": 70
        }
      ]
    },
    {
      "cell_type": "markdown",
      "source": [
        "### - Frequência Relativa $(f_{ri})$\n",
        "\n",
        "$N = $ Soma de todas as frequências\n",
        "\n",
        "$$f_{ri} = \\dfrac{f_i}{N}$$\n",
        "\n",
        "<br>"
      ],
      "metadata": {
        "id": "ZOyIgXqq3665"
      }
    },
    {
      "cell_type": "code",
      "source": [
        "freq_relativa = freq_t/freq_t.sum()\n",
        "\n",
        "print(f\"\\n- Frequência Relativa:\\n\")\n",
        "for i in freq_relativa:\n",
        "  print(i)\n",
        "\n",
        "print(f\"\\nTotal Frequência Relativa: {freq_relativa.sum()}\\n\")"
      ],
      "metadata": {
        "colab": {
          "base_uri": "https://localhost:8080/"
        },
        "id": "8oQIwQP72aWY",
        "outputId": "2ee56950-b941-4051-ff24-1a1b3ea0db08"
      },
      "execution_count": 71,
      "outputs": [
        {
          "output_type": "stream",
          "name": "stdout",
          "text": [
            "\n",
            "- Frequência Relativa:\n",
            "\n",
            "0.1625\n",
            "0.125\n",
            "0.125\n",
            "0.175\n",
            "0.1375\n",
            "0.0875\n",
            "0.05\n",
            "0.025\n",
            "0.1125\n",
            "\n",
            "Total Frequência Relativa: 1.0\n",
            "\n"
          ]
        }
      ]
    },
    {
      "cell_type": "markdown",
      "source": [
        "### - Frequência Percentual $(f_{i}\\%)$\n",
        "\n",
        "\n"
      ],
      "metadata": {
        "id": "F0y_N_xh7KwD"
      }
    },
    {
      "cell_type": "markdown",
      "source": [
        "$$f_i\\% = f_{ri} \\times 100$$\n",
        "\n",
        "<br>"
      ],
      "metadata": {
        "id": "m9MiOCVb7gRP"
      }
    },
    {
      "cell_type": "code",
      "source": [
        "freq_percent = freq_relativa*100\n",
        "\n",
        "print(\"\\nFrequência Percentual:\\n\")\n",
        "for i in freq_percent:\n",
        "  print(f\"{i:.2f}%\")\n",
        "print(f\"\\nTotal: {freq_percent.sum():.0f}%\")"
      ],
      "metadata": {
        "colab": {
          "base_uri": "https://localhost:8080/"
        },
        "id": "nyjuP6ZK2j0m",
        "outputId": "e0172954-2ef8-4f77-dff3-7be6cd53253a"
      },
      "execution_count": 72,
      "outputs": [
        {
          "output_type": "stream",
          "name": "stdout",
          "text": [
            "\n",
            "Frequência Percentual:\n",
            "\n",
            "16.25%\n",
            "12.50%\n",
            "12.50%\n",
            "17.50%\n",
            "13.75%\n",
            "8.75%\n",
            "5.00%\n",
            "2.50%\n",
            "11.25%\n",
            "\n",
            "Total: 100%\n"
          ]
        }
      ]
    },
    {
      "cell_type": "markdown",
      "source": [
        "### - Frequência Acumulada (Simples $(f_i)$, Relativa $(f_{ri})$, Percentual $(f_{i}\\%)$"
      ],
      "metadata": {
        "id": "dw4iGAg1_rj1"
      }
    },
    {
      "cell_type": "markdown",
      "source": [
        "Simples $(f_i)$"
      ],
      "metadata": {
        "id": "N72-ePFkGP3s"
      }
    },
    {
      "cell_type": "code",
      "source": [
        "freq_simp_ac = np.zeros((1, 9))\n",
        "\n",
        "for i in range(10):\n",
        "  temp = 0\n",
        "  for j in range(i):\n",
        "    temp += freq_t[j]\n",
        "  freq_simp_ac[0][i-1] = temp\n",
        "\n",
        "print(\"\\n- Frequência Simples Acumulada:\")\n",
        "for i in freq_simp_ac[0]:\n",
        "  print(i)\n"
      ],
      "metadata": {
        "colab": {
          "base_uri": "https://localhost:8080/"
        },
        "id": "8bGH-cHh8WZC",
        "outputId": "f4862b7a-a16a-4e57-b0eb-fd929422bfd1"
      },
      "execution_count": 73,
      "outputs": [
        {
          "output_type": "stream",
          "name": "stdout",
          "text": [
            "\n",
            "- Frequência Simples Acumulada:\n",
            "13.0\n",
            "23.0\n",
            "33.0\n",
            "47.0\n",
            "58.0\n",
            "65.0\n",
            "69.0\n",
            "71.0\n",
            "80.0\n"
          ]
        }
      ]
    },
    {
      "cell_type": "markdown",
      "source": [
        "Relativa $(f_{ri})$"
      ],
      "metadata": {
        "id": "Mc4-GqPXGUrK"
      }
    },
    {
      "cell_type": "code",
      "source": [
        "freq_relat_ac = np.zeros((1, 9))\n",
        "\n",
        "for i in range(10):\n",
        "  temp = 0\n",
        "  for j in range(i):\n",
        "    temp += freq_relativa[j]\n",
        "  freq_relat_ac[0][i-1] = temp\n",
        "\n",
        "print(\"\\n- Frequência Relativa Acumulada:\")\n",
        "for i in freq_relat_ac[0]:\n",
        "  print(f\"{i:.2f}\")\n"
      ],
      "metadata": {
        "colab": {
          "base_uri": "https://localhost:8080/"
        },
        "id": "ypXi8WDHCcFe",
        "outputId": "78e8906d-f453-418c-a5b0-d4d2454b612c"
      },
      "execution_count": 74,
      "outputs": [
        {
          "output_type": "stream",
          "name": "stdout",
          "text": [
            "\n",
            "- Frequência Relativa Acumulada:\n",
            "0.16\n",
            "0.29\n",
            "0.41\n",
            "0.59\n",
            "0.72\n",
            "0.81\n",
            "0.86\n",
            "0.89\n",
            "1.00\n"
          ]
        }
      ]
    },
    {
      "cell_type": "markdown",
      "source": [
        "Percentual $(f_{i}\\%)$"
      ],
      "metadata": {
        "id": "G5HabomdHL5o"
      }
    },
    {
      "cell_type": "code",
      "source": [
        "freq_perc_ac = np.zeros((1, 9))\n",
        "\n",
        "for i in range(10):\n",
        "  temp = 0\n",
        "  for j in range(i):\n",
        "    temp += freq_percent[j]\n",
        "  freq_perc_ac[0][i-1] = temp\n",
        "\n",
        "print(\"\\n\\n- Frequência Percentual Acumulada:\\n\")\n",
        "for i in freq_perc_ac[0]:\n",
        "  print(f\"{i:.2f}%\")\n"
      ],
      "metadata": {
        "colab": {
          "base_uri": "https://localhost:8080/"
        },
        "id": "9JfgwYU1GIpg",
        "outputId": "a3edf8d8-ba8b-4fab-c8a0-90b171215630"
      },
      "execution_count": 75,
      "outputs": [
        {
          "output_type": "stream",
          "name": "stdout",
          "text": [
            "\n",
            "\n",
            "- Frequência Percentual Acumulada:\n",
            "\n",
            "16.25%\n",
            "28.75%\n",
            "41.25%\n",
            "58.75%\n",
            "72.50%\n",
            "81.25%\n",
            "86.25%\n",
            "88.75%\n",
            "100.00%\n"
          ]
        }
      ]
    },
    {
      "cell_type": "markdown",
      "source": [
        "# <center>**2.4 – Medidas de Tendência Central**</center>"
      ],
      "metadata": {
        "id": "gprEBi6Z043N"
      }
    },
    {
      "cell_type": "markdown",
      "source": [
        "### **Questão 5 – Considere ROL montado na “questão 2” e na Tabela 2 a segui.**"
      ],
      "metadata": {
        "id": "JqPThJId0-UV"
      }
    },
    {
      "cell_type": "code",
      "source": [
        "tab_2 = [[\"id ≤ 20\", 7, 3, 10],\n",
        "         [\"20 < id ≤ 30\", 16, 5, 21],\n",
        "         [\"30 < id ≤ 40\", 18, 5, 25],\n",
        "         [\"id > 40\", 21, 3, 24],\n",
        "         [\"Total\", 64, 16, 80]]\n",
        "\n",
        "tab_2"
      ],
      "metadata": {
        "id": "x6qeqIIlHY8V",
        "colab": {
          "base_uri": "https://localhost:8080/"
        },
        "outputId": "c42d5373-9e1f-4c01-8c18-17fc223119ac"
      },
      "execution_count": 76,
      "outputs": [
        {
          "output_type": "execute_result",
          "data": {
            "text/plain": [
              "[['id ≤ 20', 7, 3, 10],\n",
              " ['20 < id ≤ 30', 16, 5, 21],\n",
              " ['30 < id ≤ 40', 18, 5, 25],\n",
              " ['id > 40', 21, 3, 24],\n",
              " ['Total', 64, 16, 80]]"
            ]
          },
          "metadata": {},
          "execution_count": 76
        }
      ]
    },
    {
      "cell_type": "code",
      "source": [
        "tabela2 = pd.DataFrame(tab_2, columns = ['Idade(id)','Homens','Mulheres', 'Total'])\n",
        "tabela2.head()"
      ],
      "metadata": {
        "colab": {
          "base_uri": "https://localhost:8080/",
          "height": 206
        },
        "id": "8NACJVGr297g",
        "outputId": "7544f0ef-0a55-4f44-9f5c-6c0278cdb0cf"
      },
      "execution_count": 77,
      "outputs": [
        {
          "output_type": "execute_result",
          "data": {
            "text/html": [
              "\n",
              "  <div id=\"df-3afd897b-2917-4d5b-985e-c1e4abd21590\">\n",
              "    <div class=\"colab-df-container\">\n",
              "      <div>\n",
              "<style scoped>\n",
              "    .dataframe tbody tr th:only-of-type {\n",
              "        vertical-align: middle;\n",
              "    }\n",
              "\n",
              "    .dataframe tbody tr th {\n",
              "        vertical-align: top;\n",
              "    }\n",
              "\n",
              "    .dataframe thead th {\n",
              "        text-align: right;\n",
              "    }\n",
              "</style>\n",
              "<table border=\"1\" class=\"dataframe\">\n",
              "  <thead>\n",
              "    <tr style=\"text-align: right;\">\n",
              "      <th></th>\n",
              "      <th>Idade(id)</th>\n",
              "      <th>Homens</th>\n",
              "      <th>Mulheres</th>\n",
              "      <th>Total</th>\n",
              "    </tr>\n",
              "  </thead>\n",
              "  <tbody>\n",
              "    <tr>\n",
              "      <th>0</th>\n",
              "      <td>id ≤ 20</td>\n",
              "      <td>7</td>\n",
              "      <td>3</td>\n",
              "      <td>10</td>\n",
              "    </tr>\n",
              "    <tr>\n",
              "      <th>1</th>\n",
              "      <td>20 &lt; id ≤ 30</td>\n",
              "      <td>16</td>\n",
              "      <td>5</td>\n",
              "      <td>21</td>\n",
              "    </tr>\n",
              "    <tr>\n",
              "      <th>2</th>\n",
              "      <td>30 &lt; id ≤ 40</td>\n",
              "      <td>18</td>\n",
              "      <td>5</td>\n",
              "      <td>25</td>\n",
              "    </tr>\n",
              "    <tr>\n",
              "      <th>3</th>\n",
              "      <td>id &gt; 40</td>\n",
              "      <td>21</td>\n",
              "      <td>3</td>\n",
              "      <td>24</td>\n",
              "    </tr>\n",
              "    <tr>\n",
              "      <th>4</th>\n",
              "      <td>Total</td>\n",
              "      <td>64</td>\n",
              "      <td>16</td>\n",
              "      <td>80</td>\n",
              "    </tr>\n",
              "  </tbody>\n",
              "</table>\n",
              "</div>\n",
              "      <button class=\"colab-df-convert\" onclick=\"convertToInteractive('df-3afd897b-2917-4d5b-985e-c1e4abd21590')\"\n",
              "              title=\"Convert this dataframe to an interactive table.\"\n",
              "              style=\"display:none;\">\n",
              "        \n",
              "  <svg xmlns=\"http://www.w3.org/2000/svg\" height=\"24px\"viewBox=\"0 0 24 24\"\n",
              "       width=\"24px\">\n",
              "    <path d=\"M0 0h24v24H0V0z\" fill=\"none\"/>\n",
              "    <path d=\"M18.56 5.44l.94 2.06.94-2.06 2.06-.94-2.06-.94-.94-2.06-.94 2.06-2.06.94zm-11 1L8.5 8.5l.94-2.06 2.06-.94-2.06-.94L8.5 2.5l-.94 2.06-2.06.94zm10 10l.94 2.06.94-2.06 2.06-.94-2.06-.94-.94-2.06-.94 2.06-2.06.94z\"/><path d=\"M17.41 7.96l-1.37-1.37c-.4-.4-.92-.59-1.43-.59-.52 0-1.04.2-1.43.59L10.3 9.45l-7.72 7.72c-.78.78-.78 2.05 0 2.83L4 21.41c.39.39.9.59 1.41.59.51 0 1.02-.2 1.41-.59l7.78-7.78 2.81-2.81c.8-.78.8-2.07 0-2.86zM5.41 20L4 18.59l7.72-7.72 1.47 1.35L5.41 20z\"/>\n",
              "  </svg>\n",
              "      </button>\n",
              "      \n",
              "  <style>\n",
              "    .colab-df-container {\n",
              "      display:flex;\n",
              "      flex-wrap:wrap;\n",
              "      gap: 12px;\n",
              "    }\n",
              "\n",
              "    .colab-df-convert {\n",
              "      background-color: #E8F0FE;\n",
              "      border: none;\n",
              "      border-radius: 50%;\n",
              "      cursor: pointer;\n",
              "      display: none;\n",
              "      fill: #1967D2;\n",
              "      height: 32px;\n",
              "      padding: 0 0 0 0;\n",
              "      width: 32px;\n",
              "    }\n",
              "\n",
              "    .colab-df-convert:hover {\n",
              "      background-color: #E2EBFA;\n",
              "      box-shadow: 0px 1px 2px rgba(60, 64, 67, 0.3), 0px 1px 3px 1px rgba(60, 64, 67, 0.15);\n",
              "      fill: #174EA6;\n",
              "    }\n",
              "\n",
              "    [theme=dark] .colab-df-convert {\n",
              "      background-color: #3B4455;\n",
              "      fill: #D2E3FC;\n",
              "    }\n",
              "\n",
              "    [theme=dark] .colab-df-convert:hover {\n",
              "      background-color: #434B5C;\n",
              "      box-shadow: 0px 1px 3px 1px rgba(0, 0, 0, 0.15);\n",
              "      filter: drop-shadow(0px 1px 2px rgba(0, 0, 0, 0.3));\n",
              "      fill: #FFFFFF;\n",
              "    }\n",
              "  </style>\n",
              "\n",
              "      <script>\n",
              "        const buttonEl =\n",
              "          document.querySelector('#df-3afd897b-2917-4d5b-985e-c1e4abd21590 button.colab-df-convert');\n",
              "        buttonEl.style.display =\n",
              "          google.colab.kernel.accessAllowed ? 'block' : 'none';\n",
              "\n",
              "        async function convertToInteractive(key) {\n",
              "          const element = document.querySelector('#df-3afd897b-2917-4d5b-985e-c1e4abd21590');\n",
              "          const dataTable =\n",
              "            await google.colab.kernel.invokeFunction('convertToInteractive',\n",
              "                                                     [key], {});\n",
              "          if (!dataTable) return;\n",
              "\n",
              "          const docLinkHtml = 'Like what you see? Visit the ' +\n",
              "            '<a target=\"_blank\" href=https://colab.research.google.com/notebooks/data_table.ipynb>data table notebook</a>'\n",
              "            + ' to learn more about interactive tables.';\n",
              "          element.innerHTML = '';\n",
              "          dataTable['output_type'] = 'display_data';\n",
              "          await google.colab.output.renderOutput(dataTable, element);\n",
              "          const docLink = document.createElement('div');\n",
              "          docLink.innerHTML = docLinkHtml;\n",
              "          element.appendChild(docLink);\n",
              "        }\n",
              "      </script>\n",
              "    </div>\n",
              "  </div>\n",
              "  "
            ],
            "text/plain": [
              "      Idade(id)  Homens  Mulheres  Total\n",
              "0       id ≤ 20       7         3     10\n",
              "1  20 < id ≤ 30      16         5     21\n",
              "2  30 < id ≤ 40      18         5     25\n",
              "3       id > 40      21         3     24\n",
              "4         Total      64        16     80"
            ]
          },
          "metadata": {},
          "execution_count": 77
        }
      ]
    },
    {
      "cell_type": "markdown",
      "source": [
        "<br>\n",
        "\n",
        "### **a) Calcular a média aritmética**\n",
        "<br>\n",
        "\n",
        ">- i. Populacional (com base no ROL – questão 2):\n",
        "\n",
        "<br>\n",
        "\n",
        "$$\\mu = \\dfrac{x_1 + x_2 + \\cdots + x_n}{N}$$\n",
        "\n",
        "<br>\n",
        "\n",
        "$$\\mu = 35.575$$\n",
        "\n",
        "<br><br>\n"
      ],
      "metadata": {
        "id": "K2FKkbExTx1W"
      }
    },
    {
      "cell_type": "code",
      "source": [
        "### a)Calcular a média aritmética\n",
        "x_total = rol.sum()\n",
        "N = rol.shape[0]*rol.shape[1]\n",
        "med_aritmetica = x_total/N\n",
        "\n",
        "print(f\"\\nMédia Aritimética do  ROL – questão 2: {med_aritmetica}\\n\")"
      ],
      "metadata": {
        "id": "A0hibCTrTtes",
        "colab": {
          "base_uri": "https://localhost:8080/"
        },
        "outputId": "61fd21f4-0d53-42ea-b8fd-077572928d65"
      },
      "execution_count": 78,
      "outputs": [
        {
          "output_type": "stream",
          "name": "stdout",
          "text": [
            "\n",
            "Média Aritimética do  ROL – questão 2: 35.575\n",
            "\n"
          ]
        }
      ]
    },
    {
      "cell_type": "markdown",
      "source": [
        "Error"
      ],
      "metadata": {
        "id": "ff3ZXV5jUSS2"
      }
    },
    {
      "cell_type": "code",
      "source": [
        "a = 0\n",
        "\n",
        "for i in rol:\n",
        "  #print(i)\n",
        "  for j in i:\n",
        "    a += j-med_aritmetica\n",
        "print(round(a))  \n"
      ],
      "metadata": {
        "colab": {
          "base_uri": "https://localhost:8080/"
        },
        "id": "7ENyXoTmS4nI",
        "outputId": "de545634-c738-4186-e5cc-0fbcab954814"
      },
      "execution_count": 79,
      "outputs": [
        {
          "output_type": "stream",
          "name": "stdout",
          "text": [
            "0\n"
          ]
        }
      ]
    },
    {
      "cell_type": "markdown",
      "source": [
        "<br>\n",
        "\n",
        ">- ii. Por classes de idade e populacional (com base na TDF por classes – Tab. 2):\n",
        "\n",
        "<br>\n",
        "\n",
        "$$\\overline{\\textbf{X}} = \\dfrac{\\sum_{k=1}^{K} (\\overline{X}_i \\times f_i)}{N} = \\dfrac{(\\overline{X}_1 \\times f_1)+(\\overline{X}_2 \\times f_2)+ \\cdots + (\\overline{X}_k \\times f_k)}{N}$$\n",
        "\n",
        "<br>\n",
        "\n",
        "$$\\overline{\\textbf{X}} = \\dfrac{(16,5 \\times 10)+(27,5 \\times 21)+(38,5 \\times 25)+(49,5 \\times 24)}{80} = 36.1625$$\n",
        "\n",
        "<br>"
      ],
      "metadata": {
        "id": "MVxqZvsuUuPL"
      }
    },
    {
      "cell_type": "code",
      "source": [
        "ampli_tab2 = 30-20\n",
        "inicio = 10\n",
        "elementos_tab = []\n",
        "total = 0\n",
        "x_n = []\n",
        "\n",
        "for i in range(4):\n",
        "  for j in range(ampli_tab2):\n",
        "    inicio += 1\n",
        "    elementos_tab.append(inicio)\n",
        "    total +=inicio\n",
        " \n",
        "  x_temp = total/10\n",
        "  x_n.append(x_temp)\n",
        "  total = 0\n",
        "\n",
        "med_class_pop = []\n",
        "for i in range(4):\n",
        "  f_i = tabela2[\"Total\"][i]\n",
        "  x_t = x_n[i]\n",
        "  med_class_pop.append(f_i*x_t)\n",
        "  \n",
        "N_mcp = tabela2[\"Total\"][4]\n",
        "med_class_pop = np.sum(med_class_pop)/N_mcp\n",
        "\n",
        "print(f\"\\n\\nMédia Aritmética por Classes de Idade e Populacional: {med_class_pop}\")"
      ],
      "metadata": {
        "id": "zyiCgu4D6QS0",
        "colab": {
          "base_uri": "https://localhost:8080/"
        },
        "outputId": "67251c93-68fc-43c9-ace2-b7fd1a4506b7"
      },
      "execution_count": 80,
      "outputs": [
        {
          "output_type": "stream",
          "name": "stdout",
          "text": [
            "\n",
            "\n",
            "Média Aritmética por Classes de Idade e Populacional: 33.375\n"
          ]
        }
      ]
    },
    {
      "cell_type": "markdown",
      "source": [
        "<br>\n",
        "\n",
        ">- iii. Por classes de idade e amostral (com base na TDF por classes – Tab. 2). Para uma amostra contendo apenas homens.\n",
        "\n",
        "<br>\n",
        "\n",
        "$$ \\overline{\\textbf{X}} = \\dfrac{\\sum_{k=1}^{K}(\\overline{X}_i \\times f_i)}{n} $$\n",
        "\n",
        "<br>"
      ],
      "metadata": {
        "id": "J-Ohxvo_XnmK"
      }
    },
    {
      "cell_type": "code",
      "source": [
        "ampli_tab2 = 30-20\n",
        "inicio = 10\n",
        "elementos_tab = []\n",
        "total = 0\n",
        "x_n = []\n",
        "\n",
        "for i in range(4):\n",
        "  for j in range(ampli_tab2):\n",
        "    inicio += 1\n",
        "    elementos_tab.append(inicio)\n",
        "    total +=inicio\n",
        "\n",
        "  x_temp = total/tabela2[\"Homens\"][i]\n",
        "  x_n.append(x_temp)\n",
        "  total = 0\n",
        "\n",
        "print(x_n)\n",
        "med_class_pop = []\n",
        "for i in range(4):\n",
        "  f_i = tabela2[\"Homens\"][i]\n",
        "  x_t = x_n[i]\n",
        "  med_class_pop.append(f_i*x_t)\n",
        "  \n",
        "N_mcp = tabela2[\"Homens\"][4]\n",
        "med_class_pop = np.sum(med_class_pop)/N_mcp\n",
        "\n",
        "print(f\"\\n\\nMédia Aritmética por Classes de Idade e Amostral [Homens]: {med_class_pop}\")"
      ],
      "metadata": {
        "id": "0ND2IG3AYcQX",
        "colab": {
          "base_uri": "https://localhost:8080/"
        },
        "outputId": "536f04fa-abc5-40ba-f1bd-a0a6f811d185"
      },
      "execution_count": 81,
      "outputs": [
        {
          "output_type": "stream",
          "name": "stdout",
          "text": [
            "[22.142857142857142, 15.9375, 19.72222222222222, 21.666666666666668]\n",
            "\n",
            "\n",
            "Média Aritmética por Classes de Idade e Amostral [Homens]: 19.0625\n"
          ]
        }
      ]
    },
    {
      "cell_type": "markdown",
      "source": [
        ">- iv.Por classes de idade e amostral (com base na TDF por classes – Tab. 2). Para uma amostra contendo apenas mulheres.\n",
        "\n",
        "<br>\n",
        "\n",
        "$$ \\overline{\\textbf{X}} = \\dfrac{\\sum_{k=1}^{K}(\\overline{X}_i \\times f_i)}{n} $$\n",
        "\n",
        "<br>"
      ],
      "metadata": {
        "id": "9oQ79QuHYnOL"
      }
    },
    {
      "cell_type": "code",
      "source": [
        "ampli_tab2 = 30-20\n",
        "inicio = 10\n",
        "elementos_tab = []\n",
        "total = 0\n",
        "x_n = []\n",
        "\n",
        "for i in range(4):\n",
        "  for j in range(ampli_tab2):\n",
        "    inicio += 1\n",
        "    elementos_tab.append(inicio)\n",
        "    total +=inicio\n",
        "\n",
        "  x_temp = total/tabela2[\"Mulheres\"][i]\n",
        "  x_n.append(x_temp)\n",
        "  print(total)\n",
        "  total = 0\n",
        "\n",
        "print(x_n)\n",
        "med_class_pop = []\n",
        "for i in range(4):\n",
        "  f_i = tabela2[\"Mulheres\"][i]\n",
        "  x_t = x_n[i]\n",
        "  med_class_pop.append(f_i*x_t)\n",
        "  \n",
        "N_mcp = tabela2[\"Mulheres\"][4]\n",
        "med_class_pop = np.sum(med_class_pop)/N_mcp\n",
        "\n",
        "print(f\"\\n\\nMédia Aritmética por Classes de Idade e Amostral [Mulheres]: {med_class_pop}\")"
      ],
      "metadata": {
        "id": "iMeVJ_u_Y05x",
        "colab": {
          "base_uri": "https://localhost:8080/"
        },
        "outputId": "d2c662cf-2bdd-4eac-aa35-8e7407016032"
      },
      "execution_count": 82,
      "outputs": [
        {
          "output_type": "stream",
          "name": "stdout",
          "text": [
            "155\n",
            "255\n",
            "355\n",
            "455\n",
            "[51.666666666666664, 51.0, 71.0, 151.66666666666666]\n",
            "\n",
            "\n",
            "Média Aritmética por Classes de Idade e Amostral [Mulheres]: 76.25\n"
          ]
        }
      ]
    },
    {
      "cell_type": "markdown",
      "source": [
        "### **b)Calcular a moda (total e por classes de idade):**\n"
      ],
      "metadata": {
        "id": "fHX2bVXPZzwF"
      }
    },
    {
      "cell_type": "markdown",
      "source": [
        "<br>\n",
        "\n",
        ">- i. Por classes de idade e populacional (com base na TDF por classes – Tab. 2\n",
        "\n",
        ">>> ![image.png](data:image/png;base64,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)"
      ],
      "metadata": {
        "id": "YwY3JFfNZ5S9"
      }
    },
    {
      "cell_type": "code",
      "source": [
        "\n",
        "m_freq_clas = [30, 40]\n",
        "lim_inf = m_freq_clas[0]\n",
        "h_mo = 10\n",
        "\n",
        "fa = 21; fp = 34\n",
        "delta_1 = 25 - fa\n",
        "delta_2 = 25 - fp\n",
        "\n",
        "moda_total = lim_inf + ((delta_1*h_mo)/delta_1+delta_2)\n",
        "\n",
        "print(f\"\\nCalcular a moda total: {moda_total}\\n\")"
      ],
      "metadata": {
        "id": "rw4YDS_NZ4nT",
        "colab": {
          "base_uri": "https://localhost:8080/"
        },
        "outputId": "dd9b8e74-141c-4744-860e-a6c3edb8f732"
      },
      "execution_count": 83,
      "outputs": [
        {
          "output_type": "stream",
          "name": "stdout",
          "text": [
            "\n",
            "Calcular a moda total: 31.0\n",
            "\n"
          ]
        }
      ]
    },
    {
      "cell_type": "code",
      "source": [
        "m_freq_clas = [30, 40]\n",
        "lim_inf = m_freq_clas[0]\n",
        "h_mo = 10\n",
        "\n",
        "fa = 21; fp = 34\n",
        "delta_1 = 25 - fa\n",
        "delta_2 = 25 - fp\n",
        "\n",
        "moda_total = lim_inf + ((delta_1*h_mo)/delta_1+delta_2)\n",
        "\n",
        "print(f\"\\nPor classes de idade e populacional : {moda_total}\\n\")"
      ],
      "metadata": {
        "colab": {
          "base_uri": "https://localhost:8080/"
        },
        "id": "6zGvf4qvubme",
        "outputId": "6386d572-ad6f-44dd-f12c-1caca5f079fa"
      },
      "execution_count": 88,
      "outputs": [
        {
          "output_type": "stream",
          "name": "stdout",
          "text": [
            "\n",
            "Por classes de idade e populacional : 31.0\n",
            "\n"
          ]
        }
      ]
    },
    {
      "cell_type": "markdown",
      "source": [
        ">- ii. Populacional (com base no ROL – questão 2):\n",
        "\n",
        "\n"
      ],
      "metadata": {
        "id": "CNfmz4WUaerq"
      }
    },
    {
      "cell_type": "code",
      "source": [
        "freq_modal_rol = np.max(dist[:,1:])\n",
        "\n",
        "for i, n in enumerate(dist[:,1:]):\n",
        "  if (n == freq_modal_rol):\n",
        "    class_modal_rol = dist[i]\n",
        "\n",
        "moda_rol = class_modal_rol[0]\n",
        "\n",
        "print(f\"\\n Populacional (com base no ROL – questão 2): {moda_rol}\\n\")\n"
      ],
      "metadata": {
        "id": "cUzTx4beamT6",
        "colab": {
          "base_uri": "https://localhost:8080/"
        },
        "outputId": "31dabc47-730e-45d7-b639-0fe6eaa6e10d"
      },
      "execution_count": 90,
      "outputs": [
        {
          "output_type": "stream",
          "name": "stdout",
          "text": [
            "\n",
            " Populacional (com base no ROL – questão 2): 36\n",
            "\n"
          ]
        }
      ]
    },
    {
      "cell_type": "markdown",
      "source": [
        "### **c) Calcular a mediana**\n"
      ],
      "metadata": {
        "id": "0ExY3lqlam6m"
      }
    },
    {
      "cell_type": "markdown",
      "source": [
        ">- i. Populacional (com base na TDF por classes – Tab. 2):\n",
        "\n",
        ">>> 1° Encontrar a classe mediana:\n",
        "![image.png](data:image/png;base64,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)\n",
        "\n",
        ">>> 2° Calcular a Mediana:\n",
        "\n",
        ">>>![image.png](data:image/png;base64,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)\n",
        "\n"
      ],
      "metadata": {
        "id": "FPgXPDVFatsK"
      }
    },
    {
      "cell_type": "code",
      "source": [
        "80/2\n",
        "\n",
        "print(\"Classe Mediana: 30 < id ≤ 40\")"
      ],
      "metadata": {
        "id": "aoqMxxVUarwB",
        "colab": {
          "base_uri": "https://localhost:8080/"
        },
        "outputId": "adb8fc92-98f7-4dd0-bb6f-4eb596695fc8"
      },
      "execution_count": 92,
      "outputs": [
        {
          "output_type": "stream",
          "name": "stdout",
          "text": [
            "Classe Mediana: 30 < id ≤ 40\n"
          ]
        }
      ]
    },
    {
      "cell_type": "code",
      "source": [
        "# Calculando a Mediana\n",
        "l_inf_cmediana = 30\n",
        "int_class_mediana = 10\n",
        "freq_simp_medan = 25\n",
        "freq_ac_abs = 31\n",
        "\n",
        "mediana_tab2 = l_inf_cmediana + int_class_mediana * ((80/2)-freq_ac_abs)/ freq_simp_medan\n",
        "\n",
        "print(f\"\\nCalcular a Mediana Tab2: {mediana_tab2}\")"
      ],
      "metadata": {
        "colab": {
          "base_uri": "https://localhost:8080/"
        },
        "id": "oENCZwZG4tR7",
        "outputId": "462c8dfa-76ae-4406-a916-d69e6e9fbfdd"
      },
      "execution_count": 95,
      "outputs": [
        {
          "output_type": "stream",
          "name": "stdout",
          "text": [
            "\n",
            "Calcular a Mediana Tab2: 33.6\n"
          ]
        }
      ]
    },
    {
      "cell_type": "markdown",
      "source": [
        ">- ii. Populacional (com base no ROL – questão 2):\n",
        "\n",
        "![image.png](data:image/png;base64,iVBORw0KGgoAAAANSUhEUgAAAtoAAACACAIAAAC6BlncAAAACXBIWXMAAA7EAAAOxAGVKw4bAAAgAElEQVR4nO3deVxU1f8/8APIPqAgyCBoLKnlRwJRNiV0fGBqJosMSCCfMEXyk7iT5YL5icpPJpgUqGVmogKauBu4AGKC4IKCFCrCCAaBLMKwMzO/P873N49pgHEgmMvyev4199xzz7zvHYb7nnPOvVdJJBIRAAAAAOYoMx0AAAAADHVIRwAAAIBhSEcAAACAYUhHAAAAgGFIRwAAAIBhSEcAAACAYUhHAAAAgGFIRwAAAIBhSEcAAACAYUhHAAAAgGFIRwAAAIBhSEcAAACAYUhHAAAAgGFIRwAAAIBhSEcAAACAYUhHAAAAgGFIRwAAAIBhw5gOAEChlJSUmA5hABCJREyHAABDC3pHAAAAgGHoHYEhBz/9ZUMHEgAoHtKRAamhoSE7O5sQMnz48MmTJ0sVKisru7i4dNxKKBTu2bMnLS0tNzf3nXfe2b17tyJj7rfEx40Q4uzsPGzY374U9+/fr66uJoQ4ODhoamoqJiQej1dUVERfOzo6amhoFBQUlJWVEUL09PSsra0VEwYAgMJgsGZAEgqFsbGxHA7HxcWlqamJFgoEggMHDnA4nMePH3e61datWy9evHjixInw8PD29nYFxtuviQ8mh8N58uSJ5KrHjx/b29tzOJyLFy9KpSl9qq6uzsfHh8PhJCQk0PctKiricDg+Pj41NTUKCwMAQGGQjgxIOjo6U6ZMYbPZfD7/woULtFBXV9fBwWHy5Mnvv/9+x034fP7XX3/t6empoqLi6+v77bffKjbk/osezDFjxhBCnj59Krlq1apVampqmpqa27dvV1VVVVhIVlZWoaGhhBB3d3eajvD5fBaLlZSUNHPmTIWFAQCgMEhHBqq8vLygoCA9Pb2EhARxYW5ubqfDNISQgoKC1tbWESNGKCrAgSQvL2/hwoWEEB6PJy5MTEwsLy+3sLCwt7fX0NBQcEgBAQEqKippaWmEkGfPnoWEhBw9elQ8MAcAMMggHRmoMjMz7ezs5s2bd+7cucbGRnGhk5NTx8p8Pj82NpYQcvDgwZUrV4o7VF68eLFz504fHx9vb+9du3bx+XxaXlxcvGLFioCAgNTU1OLi4nXr1rm5uWVlZUm2ee/evaCgoMWLF9+5cycvLy84ONjT0zMqKkogEIjr3Lp1KywszNvbe9GiRSdPnpS/8W7Zv3//zz//3OPNCSGZmZkuLi5aWlri3pHGxsZ169Zt3749Nze34yFtamrat2+fv7+/t7f3oUOH/slbd4XNZs+ePTs+Pr6lpYXL5W7YsGHBggV98UYAAP0BprIOSI2Njffv358yZUpzc/PRo0fPnTvn4+NTX1+fl5fXVTpiYmJCCJk4ceL06dPNzMwIIZWVlU5OTk5OTt999119fb2Xl9ehQ4du3bqlpqZmZmY2Y8aMd99919jYuKioaOTIkWfPnpUaA7K2tp40adKaNWsMDAwqKyudnZ1//fXXVatW8Xi8r7/+mhDi4+Nz8+bNuLi4RYsWbd26lcvl5uTkvPHGG/I03i2+vr6Ojo4tLS1BQUE92JwezKlTp77yyividCQ8PJwOiwiFQkdHR8n6BQUFb7/9tre3d1RU1E8//RQYGGhra2tlZSXV7FdffXXt2jUZ77t8+XI3NzcZFQICAvz9/d96661JkyatX79ecpVQKKShmpiY0FEkHo8nEolGjRqlpaUl5463traqqanJWRkAoG+JYABKTU1ls9kikaihoYHFYi1cuFAkEl25cmX06NFdbXL37l1CyLFjx8QlQUFBLBaLz+eL2ySE7Nmzhy7m5+cTQlxdXYVCoUgkOn36ND3hSaKn28DAQLooEAhsbGzU1dXr6upEItFXX32VnJws+e4xMTHyN94tv//+u66ublRU1EtrdvybT01NNTIyEolE8+bN43A4IpGooKCAzWZXVFR88sknhJDy8nJx5bq6uldeeUW8y8nJyYSQ9PT0jm90/PjxbTJlZGTIDrWhoUFTU3PixImtra1Sq5qamjw9PQkhBw8eFIlE7e3t/v7+Dg4OlZWVktUOHTokGbxYQUGBt7d3cHBwp++LfwsAoHjoHRmQMjIy7O3tCSFaWloLFiw4deoUn8/PysrqtGukK4mJiXZ2dtra2nTR2dlZU1MzJSUlJCSE/P+bT3h4eNAXnf6Op6vmz59PF5WVld3c3HJycnJzc6dNm0YnY1KjR48mhDQ0NEhuKLtxKdbW1uLNOyUUCkNCQsaMGePu7v7S1iRlZGQ4ODgQQszNzZOSkgghK1eu3LZtm6GhYUZGhrm5uZGRkbhyVFRUaWnp559/TggpLy/fvn27tbW1VPcJxeVyuVxutyKRcvjwYYFA8PTp09bWVqmJtBoaGrSTiXbPqKiojBs3bsaMGQYGBpLVIiIiJk6cKBk/ISQ8PPzZs2cPHz7sNGwAAEYgHRmQMjMzxecSX1/fY8eOnTt3Ljs7e9q0aXK20Nzc/Pz5c0NDQ3GJioqKgYFBSUmJZDV1dfWXNiV5BayxsTEhRHwxak5OTmJi4r1792iJ6O/3H5OncbGwsLC2trau1gqFwtDQUBMTk6lTp8rfJiU+mGZmZiUlJfHx8TU1NcuXLxcIBNnZ2VKpUlxcnI6Ozpo1a54+fcrn893d3Tdu3NgX1wAnJyfv2LHj+PHj7u7uJ0+eDAgI6Bj2rl27pk+fXlhYaGlpefv2bS8vL3laXrt2rba29rJly3o9ZgCAHkM6MiBlZmauXr2avp47d66ent6pU6fu3LkjNcNABhUVFULIixcvJAubmppYLNY/Cay1tZUQoqurSwj58MMPz507t2fPno8++qipqUky9ekB2efasLAwfX39y5cvS/UEyEN8MM3NzVtbW0NCQs6fP6+srHz37t2GhgbJLgSBQPDgwYMlS5Z8+umnhoaGstMpf3//+Ph4GRUiIiJWrVrV6ar8/Px///vfZ8+etbOzMzc3//nnn6XSkZaWloqKCicnJ3t7+4MHD3722Wf5+fkTJ06kax89ekQnFLe0tPB4PPqZmpqa0hfi/jAAgP4D6cjA8+TJk8rKSjs7O7qopqbm6ekZFxcnEAhsbW3lbERVVXXChAn5+fkikYiOmPz1119VVVV0DKhbxPdhI4QUFhYOGzbMysoqJycnOjo6NjaWDp2UlpZ2t1n5nT179sKFC6mpqSNHjuzutpIH09zcnBDi5eVFFzMzMwkhkumIUChUUlIyNjY2NTWlJRUVFRoaGjT9kvLZZ5+tXbtWxluPHTu20/LKysr58+eHh4fTMLy8vCIiIp49e0YnI1O3bt2iawMDA3fs2OHn52dpaams/H8Xyr3//vv19fWEkOLi4k2bNtGbyUZGRnI4HHmPCwCAYuFC34HnypUrxsbGkt0Yvr6+jY2NNjY2Mm6PQS/iraurE5esWLGipKREfNuS3bt3a2lprVixgi7SiRriS39l+PXXX+mLqqqqhISExYsXjxgxgt71lU5Zramp2bJli6qqqnjyh/yNy2P8+PFXrlzpQS5C/n4wx40bt3Llyi+++IKuSklJIYRMmDBBXFlVVdXW1vby5cuNjY0ikSg5OXnWrFl5eXmdtmxhYTFVplGjRnXcqrGx0d3dnc1miwdTrK2thULhjz/+KFntxo0bzs7OhBA/P7/KyspvvvlGcpwuPT09JycnJydnwoQJR44coa+RiwBAv8bwVFropt9++83ExERJSenAgQPiwvb2diMjo9WrV3e1VWlpKf0xbWZmlpaWRguFQmFYWJiBgQGXy/X09LS1tRVf61FbW0vPdiYmJklJSV01m56eTggxNTXlcDhLly4dN25cYGAgvVRHKBQGBwcrKysbGBi4uro+evSIxWKx2exLly7J2Xgfkfyb7/RgUt999x0dz9qwYYNk+Z07dywsLNTU1FgsFofDuX//fi/GVlNTQz+msWPHlpaWikSisrIy2uOlo6Mjef2Om5vbjRs36OvAwEBlZeVOj6S1tXV2dnan7xUQELBs2bJOV+HfAgAonpIITzcd2trb28vKynR0dHpww9br16+/+eabiYmJrq6uNTU1hoaGUt0zfD6/ublZ6nIPZikp9cLffHl5uba2to6OTq+E1F1Xr16dP3/+1q1bN23aRAjJzMycPn16TU1NxzEjGxubH374QWp6b1JSUnx8fEJCgqqqKpfL9fHxmT17tmSFXjlEAADdgv870HPidMTDw4PpWOQ1pM61FRUVenp63X3azpA6RADQT2AqK/RcdXU1IaS2tpbpQKBznU5PAQDohzCVFXqIx+NFRERYWlru27fv5s2bTIcDAAADGHplYWjBSMRL4RABgOJhsAZg4KG3iulFyD8AgFlIRwAGHmQPADDIYO4IwOBUXV1N79kPAND/IR0BGGyCgoLefPPNL7/8ctKkSfT5zAAA/RzmrMHQMhTmaXp6eh44cEBfXz89Pd3FxYXH43X1fJxODYVDBAD9DeaOAAw2iYmJ9IVAIFBTUxs+fDiz8QAAvBQGawAGp7a2tk2bNn355ZdIRwCg/0OvLAwtQ2QkQiAQ+Pr6jh8//vPPP+/utkPkEAFAv4L/OzC0DJFzbWBgIJvN3rFjRw+2HSKHCAD6FQzWAAw2kZGRQqEwPDy8vb09JiYmKyuL6YgAAF4CP4NgaBn0P/1ra2tNTEwaGxvFJdnZ2VOnTpW/hUF/iACgH8L/HRhacK59KRwiAFA8DNYAAAAAw5COAAAAAMNwGzQYcnr9cbgAAPAPoXcEAAAAGIY5awAAAMAw9I4AAAAAwzB3BKAbMO9kaEIvMkBfQzoC0D04Mw01yEEBFACDNQAAAMAw9I4ADDY8Hq+oqIi+dnR01NDQKCgoKCsrI4To6elZW1szGt3fDKBQAaBPoXcEYLCpq6vz8fHhcDgJCQnDhg0jhBQVFXE4HB8fn5qaGgUEIBAIhEKhPDUZDxUA+gmkIwCDjZWVVWhoKCHE3d2dnuP5fD6LxUpKSpo5c6YCApgxY0ZYWJg8NRkPFQD6CaQjAINQQECAiopKWloaIeTZs2chISFHjx6dPHky03F1YgCFCgB9B+kIwCDEZrNnz54dHx/f0tLC5XI3bNiwYMECpoPq3AAKFQD6DtIRgMEpICDgyZMnb7311qRJk9avXy+7slAoLC4uLi4ubmtroyU8Hq+4uLixsbHvI+1eqITpaAGgLyAdARicPDw8NDU1nz9/Hh0d/dLKra2t69atMzc3P3LkCCFEIBBs3rzZ19dXMSf4boVKmI4WAPoC0hGAwenw4cMCgeDp06etra0yqtELWDQ0NMzMzGbMmPHTTz8RQlRUVMaNG7d06VIDAwN5rnBZs2bNqxJu374dHR0tWUKb7ZVQZUf70lBlNAsADMJ9RwAGoeTk5B07dhw/ftzd3f3kyZMBAQGdVtu7d++ff/753//+lxCSmZm5a9eu6dOnFxYWWlpa3r5928vLixBy9+7dI0eOREdHq6urd/V2ixYtcnR0FC9++umnEydO9PHxEZfY2tr2Yqgyou0BeXYQAPqcCADkNiC+Mg8ePDAyMsrKyhKJRObm5q6urp1WO3z48PLly+nr5uZmS0tLkUjk4OCwefNmoVBoaWkpEAjo2osXL/r4+MgfwPTp0zdv3txHob402h6QvYMD4kMHGOgwWAMwqFRWVs6fPz88PNzOzo4Q4uXldfXq1WfPnklVKysrCw8P37VrF128desWrR8YGBgbG/v7779bWloqK//f/4e5c+dqamrGxcX1h1BfGm0P9NEOAoD8kI4ADB6NjY3u7u5sNnvZsmW0xNraWigU/vjjj1I1d+zYsWTJEhaLRRdv3Ljh7OxMCPHz86usrPzmm2+mTZsmWf/jjz/etm2bnPda7dNQ5Ym2B3p9BwGgW5COAAwStbW1M2fOzMjI+PPPP2kfQ3l5eWRkJCFk586d169fF9dsaWk5fPjw4sWLxSXXr1+n0zt0dXV9fHx++OEHJycnycZfe+01XV3dlJQUxkOVJ9oe6N0dBIDuQjoCMEiMGDGCTsLg8XgmJiaEEDabffv2bZFIVFdXR7sTqJSUFBMTE1qHEHL16tXk5GTxmTg4OJgQIjk1lZo3b97JkyflieS9996TfYv3Hocqf7SydXoJj/w7CAC9DlfWAAw56enpU6dOFS/OmjWrqalJvOjo6CgQCDpuZWdnt2nTJnnaDwoK+udBUlKhErmjJYT8/PPPc+bMMTIykix8+PDhli1b9PX19+7dK1Vf/h0EgF6H3hGAISc/P//VV1/t7lavvvpqQUFBV+f+PtKzUKmIiIiSkhLJkvDw8MjIyIcPH3Zan5EdBAAK6QjAkMPj8UaPHt3drUaPHt3W1vbnn3/2RUhd6VmoXVm7dm1MTIxUd4sYIzsIABQGawCGnLq6Om1t7e5uRa9tqa+v74OIutSDUB89ekR7OFpaWng8Hg3b1NSUxWLJboqRHQQACukIwJDT1tYmdZcOJSUlGfVFIhEhRFlZWUlJSfZ93HtdD0J9//33aUpRXFy8adMmTU1NQkhkZCSHw5H9XozsIABQSEcAhhxNTc3a2lrJEppwyFZbWysSibS0tPosrk70INT09HT6wsbG5ocffuhqaKYjRnYQACjMHQEYckaOHFldXd3pqurq6q66B+gm+vr6fRhZBzJCJTKjlaG1tbXT+aqM7CAAUOgdARhyLC0tq6qqpAqDgoL++OMPR0fH06dPz5kzJyoqSqpCVVWVrq5uz56a22OdhkrkiLZTSUlJ8fHxJ0+eVFVVJYT4+PjMnj1bvJaRHQQACukIwJBja2t7/vx5qcLnz5+fPn1aX1/fzc3NxcUlNDR07NixkhXu3LkzZcoUBYZJSBehEjmiJYQkJyfr6elJlsyZM2fOnDkd70NPMbKDAEBhsAZgyOFwODdu3Ghra5MsTExMpOMUAoFATU1t+PDhUlulpaXNmjVLcVESQroIlcgRLSFk1KhRtBdETozsIABQSvJMYYP+pqGhITs7mxAyfPjwyZMnSxUqKyu7uLh03EooFO7ZsyctLS03N/edd97ZvXv3Pwyjvb39+fPnurq6Q2f2n5LS374y4mNOCHF2dh427G/djffv36fTERwcHOj1Hf3HxIkTv//+++nTp0uVt7W1zZgxg8vlrlu3TrJcJBKZmppeu3bN0tJSgWES0nWopOtoe0DGDkp96ADQF9A7MiAJhcLY2FgOh+Pi4iK+YbZAIDhw4ACHw3n8+HGnW23duvXixYsnTpwIDw9vb2//52Hk5OQYGxvv37//nzc1QIk/CA6H8+TJE8lVjx8/tre353A4Fy9elEpT+oPVq1d3HLMQCAR+fn4cDqfj2f3ixYtTpkxRfC5CugiVyIy2BxjcQQAghBARDEzR0dFsNpsQcuLECXFhVFTU5MmTO61fX1+vpqYWExPTizEUFhYuWrTowoULvdhmP9fxKxMdHT1mzBhCyKVLlyTL582bp6Ojo6mp2dTUpMAA5dXa2jp16tT8/HzJwvfee2/jxo0dKwsEAicnp7y8PEVF9zedhirqOtoekL2D+D8JoADoHRmo8vLygoKC9PT0EhISxIW5ubmdDtMQQgoKClpbW0eMGNGLMVhYWMTFxc2bN68X2xxw8vLyFi5cSAjh8XjiwsTExPLycgsLC3t7ew0NDeai65KqqmpsbGxISMiLFy9oSWRkpFAopD1nMTExWVlZ4sqhoaFLly7917/+1U9CJTKj7QFmdxAACEHWP2DZ2tqeOXPGz89PS0uroaGBFr7xxhtxcXEdK9fX169Zs4YQ8tZbb3344Yfnz5+n5bW1tV999ZW3tzeXy/3666/r6+tpeVFR0QcffLB48eKUlJSioqK1a9cuWLDg5s2bkm0+efIkKCjI39//6tWrkoupqamFhYX/+c9/vLy8jh8/LhKJysvLQ0NDuVzu/v376bY5OTnLli3z9/e/fft2bm7u8uXLPTw89uzZ097eLm4/Ozt769atXC7Xx8fnl19+kT+wbtm3b9+hQ4fkr9/xK2Nra/vLL79oaWmFhYXRkoaGBjMzszNnzigrK3/88cdS9RsbG/fu3evn58flcn/66aceR94rHj58SMOuqamRmgCUnZ1N6/zyyy+SPXBMEYcqkhltD7x0B/F/EkAB8DUbkBoaGoYNG/bs2TPaNRIfHy8Sierq6pSVlXk8Xsf6ZWVlO3fuJISsWbPm+PHjDx48EIlEFRUVlpaWixcvrqioKCwstLGxsbKyamlpoZscO3aMEELTiODgYEJIYmKiVLO0zvfffy+5+MEHH3h7e+/bt8/JyYkQEh0dvXDhwpiYmAULFhCJoSU6kXb16tV+fn7R0dFubm6EkPXr19O13t7eY8eOvXHjRl5enqenp5KS0r179+QPTH4vXrx4/fXXxXnSS0mdmegHwePxXn/99cDAQFr4ySefBAYGnjlzhhBy6tQpyfp//PGHhYXFxo0bq6qqdu3aRQi5f/9+p2/0v//9b75Mp0+f7v7uQk8gHQFQgH43ww7kkZ2dbWBgMHr06Pnz57NYrPj4eB8fn+zsbDab3fHuC4QQNpvt6upKCHFwcOByubRw8+bNf/311969e7W1tQ0NDXfv3j1z5sx9+/aFhIQQQqytrQkhd+/eTU5OVlJSevvtt21sbKSapXWkFouLiy9cuKCkpGRnZ2draxsTE5Odna2urv7uu+/q6elduHDBy8uLEGJra0sIefHixZEjRwghwcHBU6ZM+fbbb7dt26ajo2NnZxcUFEQTmrCwsMTExBs3brzxxhtyBiY/XV3dkydPOjg4tLS0rFy5srubZ2dnjxw5cuzYsWZmZnSw5uHDhwcPHrx//35kZCQhxNHRUVy5vr5+zpw5HA5nx44dhBArKyt6BDpt2cLCorGxUcZbjxo1qrvRAgD0W0hHBqSMjAx7e3tCiJaW1oIFC06dOsXn87Oysuj5W06JiYl2dnbiZ5w6OztramqmpKTQdIQ+qMzDw4O+oL0XUqQeZkYX3d3d6YvXXnuNEDJ79mx1dXVCyPDhw42MjOrq6iQrz58/ny4qKyu7ubnl5OTk5uZOmzYtNDRU3Cx9vnxDQ4PkhrIDk2JtbS3evFNCoTAkJGTMmDHu7u4vbU1SRkaGg4MDIcTc3DwpKYkQsnLlym3bthkaGmZkZJibmxsZGYkrR0VFlZaWfv7554SQ8vLy7du3W1tbS+YrkrhcrjhxBAAY9JCODEiZmZni05ivr++xY8fOnTuXnZ09bdo0OVtobm5+/vy5oaGhuERFRcXAwKCkpESyGs0kukV8USu904bkfajU1dVFf79/g+QVsMbGxoSQmpoaupiTk5OYmHjv3j1aIrVhtwILCwvreB8tMaFQGBoaamJiIv+z1sTEH4SZmVlJSUl8fHxNTc3y5csFAkF2drZUqhQXF6ejo7NmzZqnT5/y+Xx3d/eNGzf27jXAsp92C/IT4UYjAIqFdGRAyszMXL16NX09d+5cPT29U6dO3blzZ/369XK2oKKiQjqMFDQ1NbFYrN4NVX70WWi6urqEkA8//PDcuXN79uz56KOPmpqaJNOmHqDDQ10JCwvT19e/fPmyZE+GnMQfhLm5eWtra0hIyPnz55WVle/evdvQ0CDZ8yEQCB48eLBkyZJPP/3U0NDwpemUv79/fHy8jAoRERGrVq2SKsRJFAAGKKQjA8+TJ08qKyvt7OzoopqamqenZ1xcnEAgoBMy5KGqqjphwgR6Lwf6k/qvv/6qqqqiY0AKI76HGyGksLBw2LBhVlZWOTk50dHRsbGxdOiktLS07wI4e/bshQsXUlNTR44c2d1tJT8Ic3NzQoiXlxddzMzMJH+fOCIUCpWUlIyNjU1NTWlJRUWFhoYGTb86+uyzz9auXSvj3TudJAQAMEDhviMDz5UrV4yNjSW7MXx9fRsbG21sbGTc4oLP5xNCxFM3CCErVqwoKSkR37Zk9+7dWlpaK1asoIt0sgXdqiv19fWEEPGMS7qJOMOgXS+S8zH5fL7U9Mxff/2VvqiqqkpISFi8ePGIESPoHWPz8/MJITU1NVu2bFFVVRVP/pAnMPmNHz/+ypUrPchFyN8/iHHjxq1cufKLL76gq1JSUgghEyZMEFdWVVW1tbW9fPlyY2OjSCRKTk6eNWtWXl5eV41bWFhMlQlTWQFgUGHysh7ovt9++83ExERJSenAgQPiwvb2diMjo9WrV3e1VWlpKf3VbmZmlpaWRguFQmFYWJiBgQGXy/X09LS1tc3IyKCramtrnZ2dCSEmJiZJSUmdtimuM3bs2KysLPGimZlZZmamSCSiV/aOHDmS3raV/tZXV1enkaenpxNCTE1NORzO0qVLx40bFxgYyOfzaWDBwcHKysoGBgaurq6PHj1isVhsNvvSpUvyBNanxF+ZTj8I6rvvvqNjYRs2bJAsv3PnjoWFhZqaGovF4nA4XV3iC/0N/k8CKAAeDTXUtbe3l5WV6ejo9O4NW1/q+vXrb775ZmJioqura01NjaGhoVTXDp/Pb25uNjAwUGRUL/XPn6ZWXl6ura2to6PTWyENII8fPy4oKKivrx8/frz8A4uMwyP0ABQAgzVD3bBhw8aMGaPgXEQSi8UaM2ZMx2EmFovV33KRXsFms4dgLnL69OnXXnvNw8Pj7t276enpdnZ2c+fOlXG5EwAMNZjKCsyorq4mhNTW1jIdCCjCpUuXmpubc3NzaSqmra29c+fOI0eOBAYGMh0aAPQL6B0BBvB4vIiICEtLy3379t28eZPpcKDPrVix4uzZs+JuIXqP4IcPHzIaFAD0I+gdAQa88sorqampTEcBiiP1sFx6azsLCwuGwgGAfgdTtAC6AbMae8W8efPy8/MfPHjA4G335IcPHUAB0DsCAAr1448/pqWlpaamDohcBAAUA1k/QDfgh/I/dO3atbfffvvo0aPyPPuwn8CHDqAAmMoKAAry+++/e3h4fPvttwMoFwEAxUDWD9AN+KHcY9XV1XZ2dkuWLNmyZU4R2EMAAAEOSURBVAvTsXQPPnQABcDXDKAbcGbqMU9PTxUVlRMnTtDFsrKyEydOhISEMBuVPPChAygAvmYA3YAzU8+cOXPGw8Njy5Yt+vr6hBCBQHDq1CkTE5O4uDimQ3s5fOgACoCvGUA34MzUMzNmzLh27ZpUYVBQ0P79+xmJp1vwoQMoAL5mAN2AM9MQhA8dQAFwZQ0AAAAwDOkIAAAAMAx3ZQXoHiUlJaZDAAAYbDAmCgAAAAzDYA0AAAAwDOkIAAAAMAzpCAAAADAM6QgAAAAwDOkIAAAAMAzpCAAAADAM6QgAAAAwDOkIAAAAMAzpCAAAADAM6QgAAAAwDOkIAAAAMAzpCAAAADAM6QgAAAAw7P8BuicJsd75R1AAAAAASUVORK5CYII=)"
      ],
      "metadata": {
        "id": "5yLbkFInbHNc"
      }
    },
    {
      "cell_type": "code",
      "source": [
        "n = primitiva.shape[0]*primitiva.shape[1]\n",
        "x_n2 = rol[3:4,-1:]\n",
        "x_np = rol[4:5,:1]\n",
        "\n",
        "mediana_rol = (x_n2 + x_np)/2\n",
        "\n",
        "print(f\"Populacional (com base no ROL – questão 2): {mediana_rol[0][0]}\")"
      ],
      "metadata": {
        "id": "4W7ZhHOBbLvP",
        "colab": {
          "base_uri": "https://localhost:8080/"
        },
        "outputId": "9bea4f4e-55a7-430c-e26b-fb5a86fca65a"
      },
      "execution_count": 115,
      "outputs": [
        {
          "output_type": "stream",
          "name": "stdout",
          "text": [
            "Populacional (com base no ROL – questão 2): 36.0\n"
          ]
        }
      ]
    },
    {
      "cell_type": "markdown",
      "source": [
        "### **d) Verificar a assimetria.**\n",
        "\n",
        "![image.png](data:image/png;base64,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)"
      ],
      "metadata": {
        "id": "1PdPJrbxbK7k"
      }
    },
    {
      "cell_type": "markdown",
      "source": [
        "> ### Assimetria para o ROL:\n",
        ">>- $$Média = 35,575$$ \n",
        ">>- $$Mediana = 36$$\n",
        "\n",
        ">>- $$35,575 < 36 $$\n",
        "\n",
        ">>- Logo - A Distribuição é Assimétrica a Esquerda\n",
        "\n",
        "<br>\n",
        "\n",
        "> ### Assimetria para a Tabela 2:\n",
        ">>- $$Média = 33,375$$ \n",
        ">>- $$Mediana = 33,6$$\n",
        ">>- $$33,375 \\approx 33,6$$\n",
        "\n",
        ">>- Logo - A Distribuição é Assimétrica\n",
        "\n",
        "<br>"
      ],
      "metadata": {
        "id": "Ona-gpI8-gGU"
      }
    },
    {
      "cell_type": "code",
      "source": [
        ""
      ],
      "metadata": {
        "id": "c0YMM-YhbWYD"
      },
      "execution_count": 86,
      "outputs": []
    }
  ]
}