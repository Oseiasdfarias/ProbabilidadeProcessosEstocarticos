{
  "nbformat": 4,
  "nbformat_minor": 0,
  "metadata": {
    "colab": {
      "name": "lista_unidade_2.ipynb",
      "provenance": [],
      "authorship_tag": "ABX9TyP9mGQ8c4VHv34YuLkQDVc5",
      "include_colab_link": true
    },
    "kernelspec": {
      "name": "python3",
      "display_name": "Python 3"
    },
    "language_info": {
      "name": "python"
    }
  },
  "cells": [
    {
      "cell_type": "markdown",
      "metadata": {
        "id": "view-in-github",
        "colab_type": "text"
      },
      "source": [
        "<a href=\"https://colab.research.google.com/github/Oseiasdfarias/ProbabilidadeProcessosEstocarticos/blob/main/lista_unidade_2.ipynb\" target=\"_parent\"><img src=\"https://colab.research.google.com/assets/colab-badge.svg\" alt=\"Open In Colab\"/></a>"
      ]
    },
    {
      "cell_type": "markdown",
      "source": [
        "# <center>**2.1 – Tabela de Distribuição de Frequências**</center>\n",
        "\n"
      ],
      "metadata": {
        "id": "x06Hcxx9MjPw"
      }
    },
    {
      "cell_type": "markdown",
      "source": [
        "## Questão 1\n",
        "A tabela a seguir apresenta dados referentes às idades dos funcionários da\n",
        "empresa de engenharia fictícia. A média das idades é uma das informações que se deseja\n",
        "calcular com base no conjunto de dados da tabela 1.\n"
      ],
      "metadata": {
        "id": "4BMaSbHjiinN"
      }
    },
    {
      "cell_type": "code",
      "execution_count": null,
      "metadata": {
        "id": "2tzNed1_MaA-"
      },
      "outputs": [],
      "source": [
        "import numpy as np\n"
      ]
    },
    {
      "cell_type": "code",
      "source": [
        "primitiva = np.array([[18, 38, 36, 56, 52, 38, 39, 56, 54, 20],\n",
        "                      [20, 30, 40, 32, 44, 44, 24, 28, 18, 30],\n",
        "                      [48, 48, 42, 46, 40, 19, 27, 19, 42, 37],\n",
        "                      [44, 34, 60, 18, 19, 36, 56, 26, 22, 28],\n",
        "                      [30, 44, 48, 54, 36, 34, 36, 34, 21, 19],\n",
        "                      [24, 52, 18, 28, 34, 60, 22, 28, 36, 26],\n",
        "                      [24, 40, 27, 55, 60, 38, 24, 44, 36, 34],\n",
        "                      [32, 34, 36, 44, 38, 40, 26, 48, 26, 28]\n",
        "                      ])"
      ],
      "metadata": {
        "id": "AlP150NRNelR"
      },
      "execution_count": null,
      "outputs": []
    },
    {
      "cell_type": "code",
      "source": [
        "primitiva"
      ],
      "metadata": {
        "colab": {
          "base_uri": "https://localhost:8080/"
        },
        "id": "6mQkINYSPFh9",
        "outputId": "d98ea657-69dd-4ed5-bd4f-a97089e69d30"
      },
      "execution_count": null,
      "outputs": [
        {
          "output_type": "execute_result",
          "data": {
            "text/plain": [
              "array([[18, 38, 36, 56, 52, 38, 39, 56, 54, 20],\n",
              "       [20, 30, 40, 32, 44, 44, 24, 28, 18, 30],\n",
              "       [48, 48, 42, 46, 40, 19, 27, 19, 42, 37],\n",
              "       [44, 34, 60, 18, 19, 36, 56, 26, 22, 28],\n",
              "       [30, 44, 48, 54, 36, 34, 36, 34, 21, 19],\n",
              "       [24, 52, 18, 28, 34, 60, 22, 28, 36, 26],\n",
              "       [24, 40, 27, 55, 60, 38, 24, 44, 36, 34],\n",
              "       [32, 34, 36, 44, 38, 40, 26, 48, 26, 28]])"
            ]
          },
          "metadata": {},
          "execution_count": 46
        }
      ]
    },
    {
      "cell_type": "markdown",
      "source": [
        "<br>\n",
        "\n",
        "## a) Considere a Tabela 1, monte o ROL:\n"
      ],
      "metadata": {
        "id": "suVB1bGkaocs"
      }
    },
    {
      "cell_type": "code",
      "source": [
        "sorted_array = np.sort(primitiva, axis= None) \n",
        "print('The sorted array is:')\n",
        "print(sorted_array)"
      ],
      "metadata": {
        "colab": {
          "base_uri": "https://localhost:8080/"
        },
        "id": "B63aXk2xPztg",
        "outputId": "1c0ec9b1-1feb-4af3-826e-352e3a6cb087"
      },
      "execution_count": null,
      "outputs": [
        {
          "output_type": "stream",
          "name": "stdout",
          "text": [
            "The sorted array is:\n",
            "[18 18 18 18 19 19 19 19 20 20 21 22 22 24 24 24 24 26 26 26 26 27 27 28\n",
            " 28 28 28 28 30 30 30 32 32 34 34 34 34 34 34 36 36 36 36 36 36 36 37 38\n",
            " 38 38 38 39 40 40 40 40 42 42 44 44 44 44 44 44 46 48 48 48 48 52 52 54\n",
            " 54 55 56 56 56 60 60 60]\n"
          ]
        }
      ]
    },
    {
      "cell_type": "markdown",
      "source": [
        "<br>\n",
        "\n",
        "## b) Considere o ROL montado no item “a”. Montar a Tabela de Distribuição de Frequência por Valores (TDF por Valores):\n"
      ],
      "metadata": {
        "id": "M6Dhnf_9aAmW"
      }
    },
    {
      "cell_type": "code",
      "source": [
        "unique, counts = np.unique(sorted_array, return_counts=True)\n",
        "\n",
        "print(np.asarray((unique, counts)).T)"
      ],
      "metadata": {
        "colab": {
          "base_uri": "https://localhost:8080/"
        },
        "id": "vopMDvG2YO4_",
        "outputId": "f9b48d1e-7fc4-4cc4-d138-ac1d335400fe"
      },
      "execution_count": null,
      "outputs": [
        {
          "output_type": "stream",
          "name": "stdout",
          "text": [
            "[[18  4]\n",
            " [19  4]\n",
            " [20  2]\n",
            " [21  1]\n",
            " [22  2]\n",
            " [24  4]\n",
            " [26  4]\n",
            " [27  2]\n",
            " [28  5]\n",
            " [30  3]\n",
            " [32  2]\n",
            " [34  6]\n",
            " [36  7]\n",
            " [37  1]\n",
            " [38  4]\n",
            " [39  1]\n",
            " [40  4]\n",
            " [42  2]\n",
            " [44  6]\n",
            " [46  1]\n",
            " [48  4]\n",
            " [52  2]\n",
            " [54  2]\n",
            " [55  1]\n",
            " [56  3]\n",
            " [60  3]]\n"
          ]
        }
      ]
    },
    {
      "cell_type": "markdown",
      "source": [
        "# <center>**Elaboração da TDF**</center>"
      ],
      "metadata": {
        "id": "6_vjzIJIfcLg"
      }
    },
    {
      "cell_type": "markdown",
      "source": [
        "## Questão 2 – Considere o ROL (questão 1.a):\n"
      ],
      "metadata": {
        "id": "xO-vo_UKfny1"
      }
    },
    {
      "cell_type": "markdown",
      "source": [
        "## a) Calcular a Amplitude Total (AT):\n"
      ],
      "metadata": {
        "id": "Zl7e8ZPJfsWs"
      }
    },
    {
      "cell_type": "markdown",
      "source": [
        "Solução:\n",
        "\n",
        "$$AT = X_{max} - X_{min}$$\n",
        "\n",
        "$$AT = 60 - 18$$\n",
        "\n",
        "$$AT = 42$$\n",
        "\n",
        "<br>"
      ],
      "metadata": {
        "id": "Z2T69lSgwrt0"
      }
    },
    {
      "cell_type": "code",
      "source": [
        "at = np.max(primitiva) - np.min(primitiva[:1,:1])\n",
        "print(f\"Amplitude Total: {at}\")"
      ],
      "metadata": {
        "colab": {
          "base_uri": "https://localhost:8080/"
        },
        "id": "ssCLgfU8xmQl",
        "outputId": "f8aac801-12c8-42ed-9473-d62bf32d1eb8"
      },
      "execution_count": null,
      "outputs": [
        {
          "output_type": "stream",
          "name": "stdout",
          "text": [
            "Amplitude Total: 42\n"
          ]
        }
      ]
    },
    {
      "cell_type": "markdown",
      "source": [
        "## b) Calcular o Número de Classes (K):\n"
      ],
      "metadata": {
        "id": "dFCaWVn4xjpP"
      }
    },
    {
      "cell_type": "markdown",
      "source": [
        "<br>\n",
        "\n",
        "Regra de Sturges\n",
        "\n",
        "$$K = \\sqrt{N}$$\n",
        "$$K = \\sqrt{80}$$\n",
        "$$K \\approx 9$$\n",
        "\n",
        "<br>\n"
      ],
      "metadata": {
        "id": "juxN46_xyv4n"
      }
    },
    {
      "cell_type": "code",
      "source": [
        "n = primitiva.shape[0]*primitiva.shape[1]\n",
        "k = np.sqrt(n)\n",
        "print(f\"Número de Classes (K): {k}\")\n"
      ],
      "metadata": {
        "id": "zxoX4o1SfR7s",
        "colab": {
          "base_uri": "https://localhost:8080/"
        },
        "outputId": "7a77c395-832e-44c9-e64d-c8bcd0774ca9"
      },
      "execution_count": null,
      "outputs": [
        {
          "output_type": "stream",
          "name": "stdout",
          "text": [
            "Número de Classes (K): 8.94427190999916\n"
          ]
        }
      ]
    },
    {
      "cell_type": "markdown",
      "source": [
        "<br>\n",
        "\n",
        "## c) Calcular a Amplitude da Classe (h):\n"
      ],
      "metadata": {
        "id": "io2jvqSZ02KS"
      }
    },
    {
      "cell_type": "markdown",
      "source": [
        "$$h \\approx \\dfrac{AT}{K}$$\n",
        "\n",
        "$$Teste: h \\times K \\geq AT$$\n",
        "\n",
        "$$h \\approx \\dfrac{42}{9} = 5$$\n",
        "\n",
        "$$Teste: h \\times K \\geq AT = True$$ "
      ],
      "metadata": {
        "id": "TXN6oZ1K09J4"
      }
    },
    {
      "cell_type": "code",
      "source": [
        "h = at / k\n",
        "h = round(h)\n",
        "print(f\"Amplitude da Classe (h): {h}\")"
      ],
      "metadata": {
        "colab": {
          "base_uri": "https://localhost:8080/"
        },
        "id": "M91r5tj9zqe8",
        "outputId": "559f195c-4d9c-4106-a9fb-18965dfb6af5"
      },
      "execution_count": null,
      "outputs": [
        {
          "output_type": "stream",
          "name": "stdout",
          "text": [
            "Amplitude da Classe (h): 5\n"
          ]
        }
      ]
    },
    {
      "cell_type": "markdown",
      "source": [
        "Teste:"
      ],
      "metadata": {
        "id": "BipcpWoP2CNL"
      }
    },
    {
      "cell_type": "code",
      "source": [
        "h*k >= at\n"
      ],
      "metadata": {
        "colab": {
          "base_uri": "https://localhost:8080/"
        },
        "id": "UX5oufef11SV",
        "outputId": "f1f6f44b-6a9d-4d0d-f5df-80a997be79a4"
      },
      "execution_count": null,
      "outputs": [
        {
          "output_type": "execute_result",
          "data": {
            "text/plain": [
              "True"
            ]
          },
          "metadata": {},
          "execution_count": 67
        }
      ]
    },
    {
      "cell_type": "markdown",
      "source": [
        "<br>\n",
        "\n",
        "## d) Montar a Tabela de Distribuição de Frequência por Classes (TDF por Classes) de acordo com os valores calculadas:\n",
        "\n",
        "<br>"
      ],
      "metadata": {
        "id": "ZGmtDxuA27HK"
      }
    },
    {
      "cell_type": "code",
      "source": [
        ""
      ],
      "metadata": {
        "id": "WgpqlcPv2Kd1"
      },
      "execution_count": null,
      "outputs": []
    }
  ]
}