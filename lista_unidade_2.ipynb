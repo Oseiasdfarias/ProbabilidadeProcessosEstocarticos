{
  "nbformat": 4,
  "nbformat_minor": 0,
  "metadata": {
    "colab": {
      "name": "lista_unidade_2.ipynb",
      "provenance": [],
      "collapsed_sections": [],
      "authorship_tag": "ABX9TyMPyBblUnApfBUUFl1xY1yC",
      "include_colab_link": true
    },
    "kernelspec": {
      "name": "python3",
      "display_name": "Python 3"
    },
    "language_info": {
      "name": "python"
    }
  },
  "cells": [
    {
      "cell_type": "markdown",
      "metadata": {
        "id": "view-in-github",
        "colab_type": "text"
      },
      "source": [
        "<a href=\"https://colab.research.google.com/github/Oseiasdfarias/ProbabilidadeProcessosEstocarticos/blob/main/lista_unidade_2.ipynb\" target=\"_parent\"><img src=\"https://colab.research.google.com/assets/colab-badge.svg\" alt=\"Open In Colab\"/></a>"
      ]
    },
    {
      "cell_type": "markdown",
      "source": [
        "# <center>**2.1 – Tabela de Distribuição de Frequências**</center>\n",
        "\n"
      ],
      "metadata": {
        "id": "x06Hcxx9MjPw"
      }
    },
    {
      "cell_type": "markdown",
      "source": [
        "## Questão 1\n",
        "A tabela a seguir apresenta dados referentes às idades dos funcionários da\n",
        "empresa de engenharia fictícia. A média das idades é uma das informações que se deseja\n",
        "calcular com base no conjunto de dados da tabela 1.\n"
      ],
      "metadata": {
        "id": "4BMaSbHjiinN"
      }
    },
    {
      "cell_type": "code",
      "execution_count": 1,
      "metadata": {
        "id": "2tzNed1_MaA-"
      },
      "outputs": [],
      "source": [
        "import numpy as np\n"
      ]
    },
    {
      "cell_type": "code",
      "source": [
        "primitiva = np.array([[18, 38, 36, 56, 52, 38, 39, 56, 54, 20],\n",
        "                      [20, 30, 40, 32, 44, 44, 24, 28, 18, 30],\n",
        "                      [48, 48, 42, 46, 40, 19, 27, 19, 42, 37],\n",
        "                      [44, 34, 60, 18, 19, 36, 56, 26, 22, 28],\n",
        "                      [30, 44, 48, 54, 36, 34, 36, 34, 21, 19],\n",
        "                      [24, 52, 18, 28, 34, 60, 22, 28, 36, 26],\n",
        "                      [24, 40, 27, 55, 60, 38, 24, 44, 36, 34],\n",
        "                      [32, 34, 36, 44, 38, 40, 26, 48, 26, 28]\n",
        "                      ])"
      ],
      "metadata": {
        "id": "AlP150NRNelR"
      },
      "execution_count": 2,
      "outputs": []
    },
    {
      "cell_type": "code",
      "source": [
        "primitiva"
      ],
      "metadata": {
        "colab": {
          "base_uri": "https://localhost:8080/"
        },
        "id": "6mQkINYSPFh9",
        "outputId": "ee8de7bc-d685-4df4-e9c3-cca58926da60"
      },
      "execution_count": 3,
      "outputs": [
        {
          "output_type": "execute_result",
          "data": {
            "text/plain": [
              "array([[18, 38, 36, 56, 52, 38, 39, 56, 54, 20],\n",
              "       [20, 30, 40, 32, 44, 44, 24, 28, 18, 30],\n",
              "       [48, 48, 42, 46, 40, 19, 27, 19, 42, 37],\n",
              "       [44, 34, 60, 18, 19, 36, 56, 26, 22, 28],\n",
              "       [30, 44, 48, 54, 36, 34, 36, 34, 21, 19],\n",
              "       [24, 52, 18, 28, 34, 60, 22, 28, 36, 26],\n",
              "       [24, 40, 27, 55, 60, 38, 24, 44, 36, 34],\n",
              "       [32, 34, 36, 44, 38, 40, 26, 48, 26, 28]])"
            ]
          },
          "metadata": {},
          "execution_count": 3
        }
      ]
    },
    {
      "cell_type": "markdown",
      "source": [
        "<br>\n",
        "\n",
        "## a) Considere a Tabela 1, monte o ROL:\n"
      ],
      "metadata": {
        "id": "suVB1bGkaocs"
      }
    },
    {
      "cell_type": "code",
      "source": [
        "sorted_array = np.sort(primitiva, axis= None) \n",
        "print('The sorted array is:')\n",
        "print(sorted_array)"
      ],
      "metadata": {
        "colab": {
          "base_uri": "https://localhost:8080/"
        },
        "id": "B63aXk2xPztg",
        "outputId": "27427a71-c783-41d8-f20e-b8d5c2707127"
      },
      "execution_count": 4,
      "outputs": [
        {
          "output_type": "stream",
          "name": "stdout",
          "text": [
            "The sorted array is:\n",
            "[18 18 18 18 19 19 19 19 20 20 21 22 22 24 24 24 24 26 26 26 26 27 27 28\n",
            " 28 28 28 28 30 30 30 32 32 34 34 34 34 34 34 36 36 36 36 36 36 36 37 38\n",
            " 38 38 38 39 40 40 40 40 42 42 44 44 44 44 44 44 46 48 48 48 48 52 52 54\n",
            " 54 55 56 56 56 60 60 60]\n"
          ]
        }
      ]
    },
    {
      "cell_type": "markdown",
      "source": [
        "<br>\n",
        "\n",
        "## b) Considere o ROL montado no item “a”. Montar a Tabela de Distribuição de Frequência por Valores (TDF por Valores):\n"
      ],
      "metadata": {
        "id": "M6Dhnf_9aAmW"
      }
    },
    {
      "cell_type": "code",
      "source": [
        "unique, counts = np.unique(sorted_array, return_counts=True)\n",
        "dist = np.asarray((unique, counts)).T\n",
        "print(dist)"
      ],
      "metadata": {
        "colab": {
          "base_uri": "https://localhost:8080/"
        },
        "id": "vopMDvG2YO4_",
        "outputId": "52b27085-0db9-4082-c764-a3329de3bb4d"
      },
      "execution_count": 5,
      "outputs": [
        {
          "output_type": "stream",
          "name": "stdout",
          "text": [
            "[[18  4]\n",
            " [19  4]\n",
            " [20  2]\n",
            " [21  1]\n",
            " [22  2]\n",
            " [24  4]\n",
            " [26  4]\n",
            " [27  2]\n",
            " [28  5]\n",
            " [30  3]\n",
            " [32  2]\n",
            " [34  6]\n",
            " [36  7]\n",
            " [37  1]\n",
            " [38  4]\n",
            " [39  1]\n",
            " [40  4]\n",
            " [42  2]\n",
            " [44  6]\n",
            " [46  1]\n",
            " [48  4]\n",
            " [52  2]\n",
            " [54  2]\n",
            " [55  1]\n",
            " [56  3]\n",
            " [60  3]]\n"
          ]
        }
      ]
    },
    {
      "cell_type": "markdown",
      "source": [
        "# <center>**2.2 – Elaboração da TDF**</center>"
      ],
      "metadata": {
        "id": "6_vjzIJIfcLg"
      }
    },
    {
      "cell_type": "markdown",
      "source": [
        "## Questão 2 – Considere o ROL (questão 1.a):\n"
      ],
      "metadata": {
        "id": "xO-vo_UKfny1"
      }
    },
    {
      "cell_type": "markdown",
      "source": [
        "## a) Calcular a Amplitude Total (AT):\n"
      ],
      "metadata": {
        "id": "Zl7e8ZPJfsWs"
      }
    },
    {
      "cell_type": "markdown",
      "source": [
        "Solução:\n",
        "\n",
        "$$AT = X_{max} - X_{min}$$\n",
        "\n",
        "$$AT = 60 - 18$$\n",
        "\n",
        "$$AT = 42$$\n",
        "\n",
        "<br>"
      ],
      "metadata": {
        "id": "Z2T69lSgwrt0"
      }
    },
    {
      "cell_type": "code",
      "source": [
        "at = np.max(primitiva) - np.min(primitiva[:1,:1])\n",
        "print(f\"Amplitude Total: {at}\")"
      ],
      "metadata": {
        "colab": {
          "base_uri": "https://localhost:8080/"
        },
        "id": "ssCLgfU8xmQl",
        "outputId": "e92d40eb-09b6-45b8-bd8b-6ad70e6fb012"
      },
      "execution_count": 6,
      "outputs": [
        {
          "output_type": "stream",
          "name": "stdout",
          "text": [
            "Amplitude Total: 42\n"
          ]
        }
      ]
    },
    {
      "cell_type": "markdown",
      "source": [
        "## b) Calcular o Número de Classes (K):\n"
      ],
      "metadata": {
        "id": "dFCaWVn4xjpP"
      }
    },
    {
      "cell_type": "markdown",
      "source": [
        "<br>\n",
        "\n",
        "Regra de Sturges\n",
        "\n",
        "$$K = \\sqrt{N}$$\n",
        "$$K = \\sqrt{80}$$\n",
        "$$K \\approx 9$$\n",
        "\n",
        "<br>\n"
      ],
      "metadata": {
        "id": "juxN46_xyv4n"
      }
    },
    {
      "cell_type": "code",
      "source": [
        "n = primitiva.shape[0]*primitiva.shape[1]\n",
        "k = np.sqrt(n)\n",
        "print(f\"Número de Classes (K): {k}\")\n"
      ],
      "metadata": {
        "id": "zxoX4o1SfR7s",
        "colab": {
          "base_uri": "https://localhost:8080/"
        },
        "outputId": "76a8a9c3-5701-41ae-ff57-93802a10306c"
      },
      "execution_count": 7,
      "outputs": [
        {
          "output_type": "stream",
          "name": "stdout",
          "text": [
            "Número de Classes (K): 8.94427190999916\n"
          ]
        }
      ]
    },
    {
      "cell_type": "markdown",
      "source": [
        "<br>\n",
        "\n",
        "## c) Calcular a Amplitude da Classe (h):\n"
      ],
      "metadata": {
        "id": "io2jvqSZ02KS"
      }
    },
    {
      "cell_type": "markdown",
      "source": [
        "$$h \\approx \\dfrac{AT}{K}$$\n",
        "\n",
        "$$Teste: h \\times K \\geq AT$$\n",
        "\n",
        "$$h \\approx \\dfrac{42}{9} = 5$$\n",
        "\n",
        "$$Teste: h \\times K \\geq AT = True$$ "
      ],
      "metadata": {
        "id": "TXN6oZ1K09J4"
      }
    },
    {
      "cell_type": "code",
      "source": [
        "h = at / k\n",
        "h = round(h)\n",
        "print(f\"Amplitude da Classe (h): {h}\")"
      ],
      "metadata": {
        "colab": {
          "base_uri": "https://localhost:8080/"
        },
        "id": "M91r5tj9zqe8",
        "outputId": "c655f97f-5a31-4c16-a092-846c121e399e"
      },
      "execution_count": 8,
      "outputs": [
        {
          "output_type": "stream",
          "name": "stdout",
          "text": [
            "Amplitude da Classe (h): 5\n"
          ]
        }
      ]
    },
    {
      "cell_type": "markdown",
      "source": [
        "Teste:"
      ],
      "metadata": {
        "id": "BipcpWoP2CNL"
      }
    },
    {
      "cell_type": "code",
      "source": [
        "h*k >= at\n"
      ],
      "metadata": {
        "colab": {
          "base_uri": "https://localhost:8080/"
        },
        "id": "UX5oufef11SV",
        "outputId": "b156e218-023b-473b-c9a6-8449682c9df5"
      },
      "execution_count": 9,
      "outputs": [
        {
          "output_type": "execute_result",
          "data": {
            "text/plain": [
              "True"
            ]
          },
          "metadata": {},
          "execution_count": 9
        }
      ]
    },
    {
      "cell_type": "markdown",
      "source": [
        "<br>\n",
        "\n",
        "## d) Montar a Tabela de Distribuição de Frequência por Classes (TDF por Classes) de acordo com os valores calculadas:"
      ],
      "metadata": {
        "id": "ZGmtDxuA27HK"
      }
    },
    {
      "cell_type": "markdown",
      "source": [
        "| index \t| início \t| fim \t| frequência | Percentual % \n",
        "|----\t    |----\t    |----\t  | ---        | ---\n",
        "| 1° \t    | 18 \t    | 23 \t  | 13         | 16.25%\n",
        "| 2° \t    | 23 \t    | 28   \t| 10         | 12.50%\n",
        "| 3° \t    | 28 \t    | 33 \t  | 10         | 12.50%\n",
        "| 4° \t    | 33    \t| 38 \t  | 14         | 17.50%\n",
        "| 5° \t    | 38 \t    | 43   \t| 11         | 13.75%\n",
        "| 6° \t    | 43    \t| 48 \t  | 07         | 08.75%\n",
        "| 7° \t    | 48    \t| 52 \t  | 04         | 05.00%\n",
        "| 8°    \t| 52    \t| 53 \t  | 02         | 02.50%\n",
        "| 9° \t    | 53 \t    | 63 \t  | 09         | 11.25%\n",
        "\n",
        "\n",
        "<br>"
      ],
      "metadata": {
        "id": "Lldd4vEjFrw5"
      }
    },
    {
      "cell_type": "code",
      "source": [
        "init = 18\n",
        "\n",
        "# Coluna de frequencia da tabela de frequencia\n",
        "freq_t = np.array([13, 10, 10, 14, 11, 7, 4, 2, 9])\n",
        "perc = np.zeros((1, 9), dtype=\"float32\")\n",
        "\n",
        "freq_t.sum()\n",
        "\n",
        "# Coluna de Percentual da tabela de frequencia\n",
        "for i, j in enumerate(freq_t):\n",
        "  perc[0][i] = (100*j)/80\n",
        "\n",
        "print(\"\\nTabela de Distribuição de Frequências\\n\")\n",
        "for i in range(9):\n",
        "  print(init, end=\" \")\n",
        "  init += 5\n",
        "  print(init, end=\"     \")\n",
        "  print(freq_t[i], end=\"\")\n",
        "  print(f\"         {perc[0][i]}%\")\n"
      ],
      "metadata": {
        "id": "WgpqlcPv2Kd1",
        "colab": {
          "base_uri": "https://localhost:8080/"
        },
        "outputId": "5af75e93-eef0-4518-f93f-edc589322373"
      },
      "execution_count": 45,
      "outputs": [
        {
          "output_type": "stream",
          "name": "stdout",
          "text": [
            "\n",
            "Tabela de Distribuição de Frequências\n",
            "\n",
            "18 23     13         16.25%\n",
            "23 28     10         12.5%\n",
            "28 33     10         12.5%\n",
            "33 38     14         17.5%\n",
            "38 43     11         13.75%\n",
            "43 48     7         8.75%\n",
            "48 53     4         5.0%\n",
            "53 58     2         2.5%\n",
            "58 63     9         11.25%\n"
          ]
        }
      ]
    },
    {
      "cell_type": "code",
      "source": [
        "# Coluna dos intervalos da tabela de frequência\n",
        "\n",
        "freq_tab = np.array([ [18, 23],\n",
        "                      [23, 28],\n",
        "                      [28, 33],\n",
        "                      [33, 38],\n",
        "                      [38, 43],\n",
        "                      [43, 48],\n",
        "                      [48, 53],\n",
        "                      [53, 58],\n",
        "                      [58, 63]])\n",
        "print(freq_tab)"
      ],
      "metadata": {
        "colab": {
          "base_uri": "https://localhost:8080/"
        },
        "id": "n3y5TNLeKKLb",
        "outputId": "0c5b1b92-aa86-4376-ca7d-552139f45db4"
      },
      "execution_count": 47,
      "outputs": [
        {
          "output_type": "stream",
          "name": "stdout",
          "text": [
            "[[18 23]\n",
            " [23 28]\n",
            " [28 33]\n",
            " [33 38]\n",
            " [38 43]\n",
            " [43 48]\n",
            " [48 53]\n",
            " [53 58]\n",
            " [58 63]]\n"
          ]
        }
      ]
    },
    {
      "cell_type": "code",
      "source": [
        ""
      ],
      "metadata": {
        "id": "Ny5GHCzeEsdh"
      },
      "execution_count": 12,
      "outputs": []
    }
  ]
}