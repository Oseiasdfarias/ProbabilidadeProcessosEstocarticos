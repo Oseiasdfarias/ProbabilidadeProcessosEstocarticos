{
  "nbformat": 4,
  "nbformat_minor": 0,
  "metadata": {
    "colab": {
      "name": "lista_unidade_3.ipynb",
      "provenance": [],
      "authorship_tag": "ABX9TyMSMkngOic9hd21pd4JOU8J",
      "include_colab_link": true
    },
    "kernelspec": {
      "name": "python3",
      "display_name": "Python 3"
    },
    "language_info": {
      "name": "python"
    }
  },
  "cells": [
    {
      "cell_type": "markdown",
      "metadata": {
        "id": "view-in-github",
        "colab_type": "text"
      },
      "source": [
        "<a href=\"https://colab.research.google.com/github/Oseiasdfarias/ProbabilidadeProcessosEstocarticos/blob/main/lista_unidade_3.ipynb\" target=\"_parent\"><img src=\"https://colab.research.google.com/assets/colab-badge.svg\" alt=\"Open In Colab\"/></a>"
      ]
    },
    {
      "cell_type": "markdown",
      "source": [
        "# <center>  **Probabilidade e Processos Estocásticos** </center>\n",
        "#<center> **Lista de Exemplos – Unidade 03** </center>\n"
      ],
      "metadata": {
        "id": "dGO1SbiR4x9g"
      }
    },
    {
      "cell_type": "markdown",
      "source": [
        "# <center> 3 – Introdução à Probabilidade</center>\n"
      ],
      "metadata": {
        "id": "aXJdJrYM5PEq"
      }
    },
    {
      "cell_type": "markdown",
      "source": [
        "<br>\n",
        "\n",
        "\n",
        "## <center> 3.1 – Espaço Amostral, Eventos e Probabilidade Clássica </center>\n"
      ],
      "metadata": {
        "id": "2OCOHRbQ5dB8"
      }
    },
    {
      "cell_type": "markdown",
      "source": [
        "### Questão 1:\n",
        ">- Dois dados idênticos e sem qualquer vício foram lançados simultaneamente, e o resultado apresentado pela face superior de cada um deles foi anotado. Com base no enunciado, responda:\n"
      ],
      "metadata": {
        "id": "OawS66WY5giN"
      }
    },
    {
      "cell_type": "markdown",
      "source": [
        ">> **a) O lançamento dos dois dados é um evento? Justifique sua resposta.**\n"
      ],
      "metadata": {
        "id": "D2WTXQq95rOQ"
      }
    },
    {
      "cell_type": "markdown",
      "source": [
        "RESPOSTA:\n",
        "\n",
        ">>> Não, já que o ato de jogar os Dados não é um evento"
      ],
      "metadata": {
        "id": "rXp4ex-v8HSy"
      }
    },
    {
      "cell_type": "code",
      "execution_count": null,
      "metadata": {
        "id": "xy2LRg4e4gbM"
      },
      "outputs": [],
      "source": [
        ""
      ]
    },
    {
      "cell_type": "markdown",
      "source": [
        ">> **b) Defina o espaço amostral $(S)$ desse experimento $(E)$.**\n",
        "\n",
        "RESPOSTA:\n",
        "\n",
        ">>> Espaço Amostral\n",
        "\n",
        ">>> Dado 1:  [1, 2, 3, 4, 5, 6]\n",
        "\n",
        ">>> Dado 1:  [1, 2, 3, 4, 5, 6]\n",
        "\n",
        ">>> Expaço Amostral do Experimento: é uma composição feita apartir dos espaços amostrais dos dois dados.\n",
        "\n",
        ">>> [11] [12] [13] [14] [15] [16] ...."
      ],
      "metadata": {
        "id": "hIYHhwX25_EK"
      }
    },
    {
      "cell_type": "code",
      "source": [
        ""
      ],
      "metadata": {
        "id": "IC_AAcgB6E9w"
      },
      "execution_count": null,
      "outputs": []
    },
    {
      "cell_type": "markdown",
      "source": [
        ">> **c) Levando em consideração que [1,5], [2,3] e [6,4] são eventos desse esperimento. Os resultados da faces superiores iguais a [2,7], [5,0] e [1,8], são eventos desse mesmo experimento? Justifique sua resposta.**\n",
        "\n",
        "RESPOSTA:\n",
        ">>> Não, já que [2, 7] [5, 0] [1, 8] não são subconjuntos possíveis do espaço amostral do experimento\n"
      ],
      "metadata": {
        "id": "ZopozKRs4l79"
      }
    },
    {
      "cell_type": "code",
      "source": [
        ""
      ],
      "metadata": {
        "id": "fBVhKt026Qlt"
      },
      "execution_count": null,
      "outputs": []
    },
    {
      "cell_type": "markdown",
      "source": [
        ">> **d) Defina a Álgebra associada ao espaço amostral $(S)$\n",
        " desse experimento$(E)$.**"
      ],
      "metadata": {
        "id": "OW68zOha6VNz"
      }
    },
    {
      "cell_type": "markdown",
      "source": [
        "ÁLGEBRA DO ESPAÇO AMOSTRAL $(S)$\n",
        "\n",
        ">>>{}"
      ],
      "metadata": {
        "id": "MGXlFMmNX3Ow"
      }
    },
    {
      "cell_type": "code",
      "source": [
        ""
      ],
      "metadata": {
        "id": "Qy2kjmAG6Yaq"
      },
      "execution_count": null,
      "outputs": []
    },
    {
      "cell_type": "markdown",
      "source": [
        ">> **e) Com base em probabilidade clássica, cacule a probabilidade dos seguintes resultados: as faces superiores serem dois números pares - $P(par, par)$, as faces superiores serem (exatamente na sequência) um números impar e um par $P(impar, par)$.**\n",
        "\n",
        "RESPOSTA:\n",
        "\n",
        ">>> $P(par, par) = \\dfrac{9}{36} = \\dfrac{1}{4} = 0,25$\n",
        "\n",
        ">>> $P(impar, par) = \\dfrac{6}{36} = \\dfrac{1}{6}$\n"
      ],
      "metadata": {
        "id": "WRQ9nTyi6c-3"
      }
    },
    {
      "cell_type": "code",
      "source": [
        ""
      ],
      "metadata": {
        "id": "y3oSjLKv64rY"
      },
      "execution_count": null,
      "outputs": []
    },
    {
      "cell_type": "markdown",
      "source": [
        "<br>\n",
        "\n",
        "### Questão 2:\n",
        ">Um jogo possui duas etapas que envolve moedas e dados.A primeira etapa corresponde ao lançamento de uma moeda (não viciada). Já a segunda etapa depende diretamente do resultado da primeira, da seguinte forma:\n",
        ">>-  Caso 1: Se na primeira etapa o resultado for CARA, então na segunda etapa a moeda será lançada novamente.\n",
        "\n",
        ">>- Caso 2: Se na primeira etapa o resultado for COROA, então na segunda etapa será lançado um dado.\n",
        "\n",
        "\n",
        "\n"
      ],
      "metadata": {
        "id": "vtm72Iu97KmJ"
      }
    },
    {
      "cell_type": "markdown",
      "source": [
        ">> **a) O lançamento do dados é um experiento? Justifique sua resposta.**\n"
      ],
      "metadata": {
        "id": "AgBWI_xg7lN2"
      }
    },
    {
      "cell_type": "markdown",
      "source": [
        "### **RESPOSTA:**\n",
        "\n",
        "<br>\n",
        "\n",
        ">>> Sim, Já que o Dado tem eventos possíveis de acontesse."
      ],
      "metadata": {
        "id": "sa9BO4u6-axo"
      }
    },
    {
      "cell_type": "code",
      "source": [
        ""
      ],
      "metadata": {
        "id": "2VZe9nKj7QLw"
      },
      "execution_count": null,
      "outputs": []
    },
    {
      "cell_type": "markdown",
      "source": [
        ">> b) **Considerando que os resultados são descritos da seguinte forma [1a etapa, 2a etapa], exemplo: [Cara, Coroa] ou [. Defina o espaço amostral desse jogo.**\n",
        "\n",
        ">>> ### **RESPOSTA:**\n",
        "\n",
        "<br>\n",
        "\n",
        ">>> Espaço Amostral: [cara, coroa], [cara, coroa]"
      ],
      "metadata": {
        "id": "cMzJkCXo7r6N"
      }
    },
    {
      "cell_type": "code",
      "source": [
        ""
      ],
      "metadata": {
        "id": "prfuvU4f74Wk"
      },
      "execution_count": null,
      "outputs": []
    },
    {
      "cell_type": "markdown",
      "source": [
        ">> c) Levando em consideração que [Coroa,5], [Coroa,3] e [Cara, Coroa] são eventos desse esperimento. Os resultados da faces superiores iguais a [Coroa , Cara], [5,Coroa] e [Cara,3], são eventos associados ao espaço amostral? Justifique sua resposta.\n",
        "\n",
        ">>> ### **RESPOSTA:**\n",
        "\n",
        "<br>\n",
        "\n",
        ">>> Não, pelas condições definidas para os experimentos, esses eventos são impossíveis de ocorrer\n"
      ],
      "metadata": {
        "id": "TIaKk-aL7VuR"
      }
    },
    {
      "cell_type": "code",
      "source": [
        ""
      ],
      "metadata": {
        "id": "cXELxMTzEtIm"
      },
      "execution_count": null,
      "outputs": []
    },
    {
      "cell_type": "markdown",
      "source": [
        ">>> d) ---\n"
      ],
      "metadata": {
        "id": "hgF-aK2hEtqK"
      }
    },
    {
      "cell_type": "code",
      "source": [
        ""
      ],
      "metadata": {
        "id": "ZwTwjB6_CKyg"
      },
      "execution_count": null,
      "outputs": []
    },
    {
      "cell_type": "markdown",
      "source": [
        ">> e) Com base em probabilidade clássica, cacule a probabilidade dos seguintes resultados: P(Cara, par), P(Coroa, impar) e P(Cara, Coroa)\n",
        " \n",
        " >>> ### **RESPOSTA:**\n",
        "\n",
        "<br>\n",
        "\n",
        "$$P(Cara, par) = 0 $$\n",
        "\n",
        "$$P(Coroa, impar) = \\dfrac{1}{2}+\\dfrac{1}{2} = 1$$\n",
        "\n",
        "$$P(Cara, Coroa) = \\dfrac{1}{2}+\\dfrac{1}{2} = 1$$"
      ],
      "metadata": {
        "id": "XpFIcXwfCl3F"
      }
    },
    {
      "cell_type": "code",
      "source": [
        ""
      ],
      "metadata": {
        "id": "Tht-18aLEoNS"
      },
      "execution_count": null,
      "outputs": []
    },
    {
      "cell_type": "markdown",
      "source": [
        "<br>\n",
        "\n",
        "## <center>3.2 – Teoremas e Propriedades de Probabilidade</center>\n"
      ],
      "metadata": {
        "id": "uA-F43HuE5ce"
      }
    },
    {
      "cell_type": "markdown",
      "source": [
        "Questão 3 – Uma escola de idiomas oference três cursos: Espanhol, Francês e Alemão.\n",
        "Existem 100 alunos na escola.\n",
        "\n",
        ">>>- 28 – cursam Espanhol.\n",
        ">>>- 26 – cursam Francês.\n",
        ">>>- 16 – cursam Alemão.\n",
        ">>>- 12 – cursam Espanhol e Francês.\n",
        ">>>- 04 – cursam Espanhol e Alemão.\n",
        ">>>- 06 – cursam Francês e Alemão.\n",
        ">>>- 02 – cursam os 3 cursos.\n",
        "\n",
        "Se um aluno é escolido ao acaso, qual a probabilidade de:\n"
      ],
      "metadata": {
        "id": "LDEToGOaFAvX"
      }
    },
    {
      "cell_type": "markdown",
      "source": [
        ">> a) Não acompanhar nenhum curso.\n",
        "\n",
        " \n",
        " >>> ### **RESPOSTA:**\n",
        "\n",
        "<br>\n",
        "\n",
        ">>> $$\\dfrac{6}{100} = 0,06$$\n",
        "\n",
        "<br>"
      ],
      "metadata": {
        "id": "MTjehvbFFW8V"
      }
    },
    {
      "cell_type": "code",
      "source": [
        ""
      ],
      "metadata": {
        "id": "x3FpJwgkE9E9"
      },
      "execution_count": null,
      "outputs": []
    },
    {
      "cell_type": "markdown",
      "source": [
        ">> b) Estar fazendo exatamente apenas um dos curso.\n",
        "\n",
        " \n",
        " >>> ### **RESPOSTA:**\n",
        "\n",
        "<br>\n",
        "\n",
        ">>> $$\\dfrac{28+26+16}{100} = \\dfrac{70}{100} = 0,7$$\n",
        "\n",
        "<br>"
      ],
      "metadata": {
        "id": "a4jIW2tcFgPI"
      }
    },
    {
      "cell_type": "code",
      "source": [
        ""
      ],
      "metadata": {
        "id": "NIZsRCqYFivS"
      },
      "execution_count": null,
      "outputs": []
    },
    {
      "cell_type": "markdown",
      "source": [
        "c) Estar cursando dois ao mesmo tempo.\n",
        "\n",
        " \n",
        " >>> ### **RESPOSTA:**\n",
        "\n",
        "<br>\n",
        "\n",
        ">>> $$\\dfrac{12}{100} = 0,12$$\n",
        "\n",
        "<br>"
      ],
      "metadata": {
        "id": "oe83xlh2FlXC"
      }
    },
    {
      "cell_type": "code",
      "source": [
        ""
      ],
      "metadata": {
        "id": "e_HBAK7FFopw"
      },
      "execution_count": null,
      "outputs": []
    },
    {
      "cell_type": "markdown",
      "source": [
        "## <center> 3.3 – Probabilidade Marginal </center>\n"
      ],
      "metadata": {
        "id": "m7SnORUPFpEx"
      }
    },
    {
      "cell_type": "markdown",
      "source": [
        "### Questão 4:\n",
        "\n",
        ">>Considerando que um baralho comum consiste de 52 cartas separadas em 4 naipes com 13 cartas cada. Supondo que um baralho comum é embaralhado e uma carta seja retirada.\n",
        "\n",
        "<br>\n",
        "\n",
        "$$A_i \\rightarrow Naipes (espadas, paus, copas, e outros)$$\n",
        "\n",
        "$$B_j \\rightarrow Valores (2, 3, 4, 5, 6, 7, 8, 9, 10, J, Q, K e A)$$\n",
        "\n",
        "<br>"
      ],
      "metadata": {
        "id": "aUIkt8K6QWQj"
      }
    },
    {
      "cell_type": "markdown",
      "source": [
        ">> a) Defina a tabela da relação (probabilistica) entre os eventos $ A_i $ e $ B_j $.\n",
        "\n",
        "<br>\n"
      ],
      "metadata": {
        "id": "pyfGJnfYRlgu"
      }
    },
    {
      "cell_type": "markdown",
      "source": [
        " \n",
        " >>> ### **RESPOSTA:**\n",
        "\n",
        "<br>\n",
        "\n",
        "|                  |       |     |     |    |          |\n",
        "|---               |---    |---  |---  |--- |---       |\n",
        "|                  |**A1 (Espadas)**|**A2 (Paus)** |**A3 (Copas)**|**A4 (Ouro)**|**Total de B**|\n",
        "|**B1**  ( Valor:  2)  |   1   |  1  |1    |  1 | 4        |\n",
        "|**B2**  ( Valor:  3)  |   1   |  1  |1    |  1 | 4        |\n",
        "|**B3**  ( Valor:  4)  |   1   |  1  |1    |  1 | 4        |\n",
        "|**B4**  ( Valor:  5)  |   1   |  1  |1    |  1 | 4        |\n",
        "|**B5**  ( Valor:  6)  |   1   |  1  |1    |  1 | 4        |\n",
        "|**B6**  ( Valor:  7)  |   1   |  1  |1    |  1 | 4        |\n",
        "|**B7**  ( Valor:  8)  |   1   |  1  |1    |  1 | 4        |\n",
        "|**B8**  ( Valor:  9)  |   1   |  1  |1    |  1 | 4        |\n",
        "|**B9**  ( Valor: 10)  |   1   |  1  |1    |  1 | 4        |\n",
        "|**B10** ( Valor:  J)  |   1   |  1  |1    |  1 | 4        |\n",
        "|**B11** ( Valor:  Q)  |   1   |  1  |1    |  1 | 4        |\n",
        "|**B12** ( Valor:  K)  |   1   |  1  |1    |  1 | 4        |\n",
        "|**B13** ( Valor:  A)  |   1   |  1  |1    |  1 | 4        |\n",
        "|**Total de A**        |  13   |  13 |   13| 13 | **52**   |\n",
        "\n",
        "<br>"
      ],
      "metadata": {
        "id": "7kPKZ1L6v9CG"
      }
    },
    {
      "cell_type": "code",
      "source": [
        ""
      ],
      "metadata": {
        "id": "sVwK5qygFrFH"
      },
      "execution_count": null,
      "outputs": []
    },
    {
      "cell_type": "markdown",
      "source": [
        ">> b) Calcular a interseção entre cada elemento de $ A_i $ e $ B_j $.\n",
        "\n",
        " \n",
        " >>> ### **RESPOSTA:**\n",
        "\n",
        "<br>\n",
        "\n",
        "$$q(B1\\cap A1) = 1; \\space q(B1\\cap A2) = 1; \\space q(B1\\cap A3) = 1; \\space q(B1\\cap A4) = 1$$\n",
        "\n",
        "$$q(B2\\cap A1) = 1; \\space q(B2\\cap A2) = 1; \\space q(B2\\cap A3) = 1; \\space q(B2\\cap A4) = 1$$\n",
        "\n",
        "$$q(B3\\cap A1) = 1; \\space q(B3\\cap A2) = 1; \\space q(B3\\cap A3) = 1; \\space q(B3\\cap A4) = 1$$\n",
        "\n",
        "$$q(B4\\cap A1) = 1; \\space q(B4\\cap A2) = 1; \\space q(B4\\cap A3) = 1; \\space q(B4\\cap A4) = 1$$\n",
        "\n",
        "$$q(B5\\cap A1) = 1; \\space q(B5\\cap A2) = 1; \\space q(B5\\cap A3) = 1; \\space q(B5\\cap A4) = 1$$\n",
        "\n",
        "$$q(B6\\cap A1) = 1; \\space q(B6\\cap A2) = 1; \\space q(B6\\cap A3) = 1; \\space q(B6\\cap A4) = 1$$\n",
        "\n",
        "$$q(B7\\cap A1) = 1; \\space q(B7\\cap A2) = 1; \\space q(B7\\cap A3) = 1; \\space q(B7\\cap A4) = 1$$\n",
        "\n",
        "$$q(B8\\cap A1) = 1; \\space q(B8\\cap A2) = 1; \\space q(B8\\cap A3) = 1; \\space q(B8\\cap A4) = 1$$\n",
        "\n",
        "$$q(B9\\cap A1) = 1; \\space q(B9\\cap A2) = 1; \\space q(B9\\cap A3) = 1; \\space q(B9\\cap A4) = 1$$\n",
        "\n",
        "$$q(B10\\cap A1) = 1; \\space q(B10\\cap A2) = 1; \\space q(B10\\cap A3) = 1; \\space q(B10\\cap A4) = 1$$\n",
        "\n",
        "$$q(B11\\cap A1) = 1; \\space q(B11\\cap A2) = 1; \\space q(B11\\cap A3) = 1; \\space q(B11\\cap A4) = 1$$\n",
        "\n",
        "$$q(B12\\cap A1) = 1; \\space q(B12\\cap A2) = 1; \\space q(B12\\cap A3) = 1; \\space q(B12\\cap A4) = 1$$\n",
        "\n",
        "$$q(B13\\cap A1) = 1; \\space q(B13\\cap A2) = 1; \\space q(B13\\cap A3) = 1; \\space q(B13\\cap A4) = 1$$\n",
        "\n",
        "\n",
        "<br>\n"
      ],
      "metadata": {
        "id": "IvRPitT9R-Ph"
      }
    },
    {
      "cell_type": "code",
      "source": [
        ""
      ],
      "metadata": {
        "id": "IBiHmv1VSBqm"
      },
      "execution_count": null,
      "outputs": []
    },
    {
      "cell_type": "markdown",
      "source": [
        ">> c) Calcular a probabilidade marginal de todos os $ A_i $.\n",
        "\n",
        " \n",
        " >>> ### **RESPOSTA:**\n",
        "\n",
        "<br>\n",
        "\n",
        "$$A_1 = \\dfrac{13}{52}=0,25$$\n",
        "$$A_2 = \\dfrac{13}{52}=0,25$$\n",
        "$$A_3 = \\dfrac{13}{52}=0,25$$\n",
        "$$A_4 = \\dfrac{13}{52}=0,25$$\n",
        "\n",
        "<br>"
      ],
      "metadata": {
        "id": "H3hW2h2dSCTw"
      }
    },
    {
      "cell_type": "code",
      "source": [
        ""
      ],
      "metadata": {
        "id": "mAavixttSDS_"
      },
      "execution_count": null,
      "outputs": []
    },
    {
      "cell_type": "markdown",
      "source": [
        ">> d) Calcular a probabilidade marginal de todos os $ B_j $.\n",
        "\n",
        " \n",
        " >>> ### **RESPOSTA:**\n",
        "\n",
        "<br>\n",
        "\n",
        "$$B_1 = \\dfrac{4}{52} = \\dfrac{1}{13}$$\n",
        "\n",
        "$$B_2 = \\dfrac{4}{52} = \\dfrac{1}{13}$$\n",
        "\n",
        "$$B_3 = \\dfrac{4}{52} = \\dfrac{1}{13}$$\n",
        "\n",
        "$$B_4 = \\dfrac{4}{52} = \\dfrac{1}{13}$$\n",
        "\n",
        "$$B_5 = \\dfrac{4}{52} = \\dfrac{1}{13}$$\n",
        "\n",
        "$$B_6 = \\dfrac{4}{52} = \\dfrac{1}{13}$$\n",
        "\n",
        "$$B_7 = \\dfrac{4}{52} = \\dfrac{1}{13}$$\n",
        "\n",
        "$$B_8 = \\dfrac{4}{52} = \\dfrac{1}{13}$$\n",
        "\n",
        "$$B_9 = \\dfrac{4}{52} = \\dfrac{1}{13}$$\n",
        "\n",
        "$$B_{10} = \\dfrac{4}{52} = \\dfrac{1}{13}$$\n",
        "\n",
        "$$B_{11} = \\dfrac{4}{52} = \\dfrac{1}{13}$$\n",
        "\n",
        "$$B_{12} = \\dfrac{4}{52} = \\dfrac{1}{13}$$\n",
        "\n",
        "$$B_{13} = \\dfrac{4}{52} = \\dfrac{1}{13}$$\n",
        "\n",
        "<br>\n"
      ],
      "metadata": {
        "id": "hrthslfgSGjP"
      }
    },
    {
      "cell_type": "code",
      "source": [
        ""
      ],
      "metadata": {
        "id": "v5FAis_6SHuv"
      },
      "execution_count": null,
      "outputs": []
    },
    {
      "cell_type": "markdown",
      "source": [
        ">> e) Desenhar o diagrama em árvore para esse experimento (com as probabilidades).\n",
        "\n",
        " \n",
        " >>> ### **RESPOSTA:**\n",
        "\n",
        "<br>\n"
      ],
      "metadata": {
        "id": "eq5URuF9SJQ4"
      }
    },
    {
      "cell_type": "code",
      "source": [
        ""
      ],
      "metadata": {
        "id": "3bjztfhPSJtR"
      },
      "execution_count": null,
      "outputs": []
    },
    {
      "cell_type": "markdown",
      "source": [
        "## <center>3.4 – Probabilidade Condicional</center>\n"
      ],
      "metadata": {
        "id": "zQkHiTdPSc7p"
      }
    },
    {
      "cell_type": "markdown",
      "source": [
        "### Questão 5:\n",
        "\n",
        ">>Escolhe-se ao acaso um número entre 1 e 10 (incluseve). Com base neste experimento calcule as seguintes probabilidades:\n"
      ],
      "metadata": {
        "id": "8Df7IfAUi54X"
      }
    },
    {
      "cell_type": "markdown",
      "source": [
        ">> a) Se par dado que é maior que 5 - $P(par/maior que 5).\n",
        "\n",
        " >>> ### **RESPOSTA:**\n",
        "\n",
        "<br>\n",
        "\n",
        "$$\\dfrac{5}{10} \\times \\left ( \\dfrac{1}{5}+\\dfrac{1}{5}+\\dfrac{1}{5}\\right ) = \\dfrac{15}{50} = 0,3$$\n",
        "\n",
        "<br>"
      ],
      "metadata": {
        "id": "8TXoVj_pjDfc"
      }
    },
    {
      "cell_type": "code",
      "source": [
        ""
      ],
      "metadata": {
        "id": "6Nt1SKDLSiEt"
      },
      "execution_count": null,
      "outputs": []
    },
    {
      "cell_type": "markdown",
      "source": [
        "b) Se impar dado que é um número primo – $P(impar/primo)$\n",
        "\n",
        " >>> ### **RESPOSTA:**\n",
        "\n",
        "<br>\n",
        "\n",
        "$$\\dfrac{3}{10}\\times 1 = \\dfrac{3}{10}$$\n",
        "\n",
        "<br>"
      ],
      "metadata": {
        "id": "TswMIe5DjQ1m"
      }
    },
    {
      "cell_type": "code",
      "source": [
        ""
      ],
      "metadata": {
        "id": "p6kv9vuvjfIx"
      },
      "execution_count": null,
      "outputs": []
    },
    {
      "cell_type": "markdown",
      "source": [
        "c) Ser uum número entre 3 e 7 (inclusive), dado que é par - $P([3 |--|7]/par)$\n",
        "\n",
        " >>> ### **RESPOSTA:**\n",
        "\n",
        "<br>\n",
        "\n",
        "$$\\dfrac{5}{10} \\times \\left(\\dfrac{1}{5}+\\dfrac{1}{5}\\right) = \\dfrac{1}{5}$$\n",
        "\n",
        "<br>\n"
      ],
      "metadata": {
        "id": "DlWMp20RjftM"
      }
    },
    {
      "cell_type": "code",
      "source": [
        ""
      ],
      "metadata": {
        "id": "nfKuimqtjuPd"
      },
      "execution_count": null,
      "outputs": []
    },
    {
      "cell_type": "markdown",
      "source": [
        "## <center>3.5 – Probabilidade Total </center>"
      ],
      "metadata": {
        "id": "R0KGisdgjz5B"
      }
    },
    {
      "cell_type": "markdown",
      "source": [
        "### Questão 6:\n",
        "\n",
        ">> Em um curso secundarista, 1/3 dos estudantes é do sexo masculino e 2/3 do sexo feminino. A proporção de alunos que se dedicam a ciências é 20% para o sexo masculino e 10% para o sexo feminino.\n",
        "\n",
        "<br>\n",
        "\n",
        "$$A \\rightarrow Sexo Feminino$$\n",
        "$$B \\rightarrow Estudam Ciências$$\n",
        "\n",
        "<br>\n",
        "\n",
        ">> Com base neste Informações:\n",
        "\n",
        ">>- Defina a tabela da relação (probabilistica) entre os eventos $A$ e $B$.\n",
        " >>> ### **RESPOSTA:**\n",
        "\n",
        "|        | A                | A'            |A Total|\n",
        "|--      |--                |--             |--|\n",
        "|B       |  $\\dfrac{1}{15}$ |$\\dfrac{1}{15}$| $\\dfrac{2}{15}$|\n",
        "|B'      |  $\\dfrac{3}{5}$ |$\\dfrac{4}{15}$| $\\dfrac{13}{15}$| \n",
        "|B Total |  $\\dfrac{2}{3}$  |$\\dfrac{1}{3}$ | $1$|\n",
        "\n",
        "<br>\n",
        "\n",
        ">>- Calcule a probabilidade de um estudante escolhido ao acaso estude ciências $P(B)$.\n",
        "  >>> ### **RESPOSTA:**\n",
        "\n",
        "$$\\left(\\dfrac{2}{3} \\times\\dfrac{1}{10}\\right)+\\left(\\dfrac{1}{3} \\times\\dfrac{2}{10}\\right) = \\dfrac{2}{15}$$\n",
        "\n",
        "<br>\n",
        "\n",
        ">>- Calcule a probabilidade de um estudante escolhido ao acaso NÃO estude ciências $P(A')$\n",
        "\n",
        "  >>> ### **RESPOSTA:**\n",
        "\n",
        "$$\\left(\\dfrac{2}{3} \\times\\dfrac{9}{10}\\right)+\\left(\\dfrac{1}{3} \\times\\dfrac{8}{10}\\right) = \\dfrac{13}{15}$$\n",
        "\n",
        "<br>\n",
        "\n",
        ">>- Calcule a probabilidade de um estudante escolhido ao acaso NÃO estude ciências visto que são do sexo feminino $P(B'/A)$.\n",
        "\n",
        "  >>> ### **RESPOSTA:**\n",
        "\n",
        "$$\\dfrac{2}{3} \\times \\dfrac{9}{10} = \\dfrac{3}{5}$$\n",
        "\n",
        "<br>\n",
        "\n",
        ">>- Calcule a probabilidade de um estudante escolhido ao acaso NÃO estude ciências visto que são do sexo Masculino $P(B'/A')$.\n",
        "\n",
        "  >>> ### **RESPOSTA:**\n",
        "\n",
        "$$\\dfrac{1}{3} \\times \\dfrac{8}{10} = \\dfrac{4}{15}$$\n",
        "\n",
        "<br>\n",
        "\n",
        "\n",
        "\n",
        ">>- Desenhar o diagrama em árvore para esse experimento (com as probabilidades).\n",
        "\n"
      ],
      "metadata": {
        "id": "D4FsUPDGkH-0"
      }
    },
    {
      "cell_type": "code",
      "source": [
        ""
      ],
      "metadata": {
        "id": "cJfmXM1gj82L"
      },
      "execution_count": null,
      "outputs": []
    },
    {
      "cell_type": "markdown",
      "source": [
        "## <center> 3.6 –Independência de Eventos </center>"
      ],
      "metadata": {
        "id": "z6YN-sdBmbBX"
      }
    },
    {
      "cell_type": "markdown",
      "source": [
        "### Questão 7:\n",
        ">> Lança-se um dado duas vezes. Considerando os eventos:\n",
        "\n",
        "<center> $A \\rightarrow A$ face é par </center>\n",
        "<center> $B \\rightarrow A$ face é divisível por 3 </center>\n",
        "\n",
        ">> Levando em consideração que:\n",
        "\n",
        " >>- No 1° lancamento será analisada apenas a ocorrencia do evento $A$ (ou de $A'$)\n",
        " >>- No 2° lançamento será analisada apenas a ocorrencia de $B$ (ou de $B'$).\n"
      ],
      "metadata": {
        "id": "sq_nemqpKLL_"
      }
    },
    {
      "cell_type": "markdown",
      "source": [
        ">> a) Qual a probabilidade de $P(A)$ e $P(B)$.\n",
        "\n",
        "  >>> ### **RESPOSTA:**\n",
        "\n",
        "$$P(A) = \\dfrac{5}{10}$$\n",
        "\n",
        "$$P(B) = \\dfrac{3}{10}$$\n",
        "\n",
        "<br>"
      ],
      "metadata": {
        "id": "uCJ69912L4bB"
      }
    },
    {
      "cell_type": "code",
      "source": [
        ""
      ],
      "metadata": {
        "id": "_EH9TSaLmg90"
      },
      "execution_count": null,
      "outputs": []
    },
    {
      "cell_type": "markdown",
      "source": [
        "b) Qual a probabilidade de $P(A \\cap B)$, $P(A \\cap B')$, $P(A' \\cap B)$ e $P(A' \\cap B')$\n",
        "\n",
        "\n",
        "  >>> ### **RESPOSTA:**\n",
        "\n",
        "\n",
        "$$P(A \\cap B) = \\dfrac{5}{10} \\times \\dfrac{3}{10} = \\dfrac{3}{20}$$\n",
        "\n",
        "$$P(A \\cap B') = \\dfrac{5}{10} \\times \\dfrac{7}{10} = \\dfrac{7}{20}$$\n",
        "\n",
        "$$P(A' \\cap B) = \\dfrac{5}{10} \\times \\dfrac{3}{10} = \\dfrac{3}{20}$$\n",
        "\n",
        "$$P(A' \\cap B') = \\dfrac{5}{10} \\times \\dfrac{7}{10} = \\dfrac{7}{20}$$\n",
        "\n",
        "<br>"
      ],
      "metadata": {
        "id": "aBhiNkmfMFM1"
      }
    },
    {
      "cell_type": "code",
      "source": [
        ""
      ],
      "metadata": {
        "id": "v6TNXzSXMqvH"
      },
      "execution_count": null,
      "outputs": []
    },
    {
      "cell_type": "markdown",
      "source": [
        "c) Qual a probabilidade de $P(A/B)$ e $P(B/A)$\n",
        "\n",
        "\n",
        "\n",
        "  >>> ### **RESPOSTA:**\n",
        "\n",
        "\n",
        "$$P(A/B) = \\dfrac{5}{10}$$ \n",
        "\n",
        "$$P(B/A) = \\dfrac{3}{10}$$ \n",
        "\n",
        "<br>"
      ],
      "metadata": {
        "id": "Op0tzUufMrWZ"
      }
    },
    {
      "cell_type": "code",
      "source": [
        ""
      ],
      "metadata": {
        "id": "qxtTMUAqM3in"
      },
      "execution_count": null,
      "outputs": []
    },
    {
      "cell_type": "markdown",
      "source": [
        "d) $A$ e $B$ são independentes? Explique.\n",
        "\n",
        ">> Sim, já que o espaço amostral não muda!\n"
      ],
      "metadata": {
        "id": "rye7X1nXM6Q5"
      }
    },
    {
      "cell_type": "code",
      "source": [
        ""
      ],
      "metadata": {
        "id": "pMekoiGpNB5V"
      },
      "execution_count": null,
      "outputs": []
    }
  ]
}