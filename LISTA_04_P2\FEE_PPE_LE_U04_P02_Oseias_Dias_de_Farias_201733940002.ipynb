{
  "nbformat": 4,
  "nbformat_minor": 0,
  "metadata": {
    "colab": {
      "name": "FEE-PPE-LE-U04-P02 Oseias_Dias_de_Farias 201733940002.ipynb",
      "provenance": [],
      "authorship_tag": "ABX9TyNEXMBKk74Zfwp8Os14t/fS",
      "include_colab_link": true
    },
    "kernelspec": {
      "name": "python3",
      "display_name": "Python 3"
    },
    "language_info": {
      "name": "python"
    }
  },
  "cells": [
    {
      "cell_type": "markdown",
      "metadata": {
        "id": "view-in-github",
        "colab_type": "text"
      },
      "source": [
        "<a href=\"https://colab.research.google.com/github/Oseiasdfarias/ProbabilidadeProcessosEstocarticos/blob/main/LISTA_04_P2%5CFEE_PPE_LE_U04_P02_Oseias_Dias_de_Farias_201733940002.ipynb\" target=\"_parent\"><img src=\"https://colab.research.google.com/assets/colab-badge.svg\" alt=\"Open In Colab\"/></a>"
      ]
    },
    {
      "cell_type": "markdown",
      "source": [
        "# <center>Processos Estocásticos</center>\n",
        "## <center>Lista de Exercícios – Unidade 04 - Parte 2</center>\n",
        "\n",
        "<br>\n",
        "\n",
        "Aluno: Oséias Dias de Farias\n",
        "\n",
        "Matrícula: 201733940002"
      ],
      "metadata": {
        "id": "FFgP1hnvxnDY"
      }
    },
    {
      "cell_type": "markdown",
      "source": [
        "# <center>U4 – Variáveis Aleatórias – 2a Parte</center>\n"
      ],
      "metadata": {
        "id": "NfypA4oxx2P_"
      }
    },
    {
      "cell_type": "markdown",
      "source": [
        "**Questão 1** – A função densidade de probabilidade conjunta $f_{XY} = (x, y)$ de duas $v.a.'s$ contínuas $X$ e $Y$ é dada por:\n",
        "\n",
        "$$f_{XY}(x, y) = xye^{-\\dfrac{x^2 + y^2}{3}}u(x)u(y)$$\n",
        "\n",
        "\n",
        "**A)**  Encontre as seguintes funções densidade de probabilidade:\n",
        "\n",
        "$i. f_X(x)$\n",
        "\n",
        "RESPOSTA:\n",
        "\n",
        "\\begin{equation}\n",
        "f_X(x) = \\int_{-\\infty}^{\\infty} \\! xye^{-\\dfrac{x^2 + y^2}{2}} \\, \\mathrm{d}y = x\\left(-e^{\\left(\\dfrac{-x^2-y^2}{2}\\right)}\\right) \\Big|_{-\\infty}^{\\infty} = 0\n",
        "\\end{equation}\n",
        "\n",
        "<br>\n",
        "\n",
        "$ii. f_Y(y)$\n",
        "\n",
        "RESPOSTA:\n",
        "\n",
        "\\begin{equation}\n",
        "f_X(y) = \\int_{-\\infty}^{\\infty} \\! xye^{-\\dfrac{x^2 + y^2}{2}} \\, \\mathrm{d}x = y\\left(-e^{\\left(\\dfrac{-x^2-y^2}{2}\\right)}\\right) \\Big|_{-\\infty}^{\\infty} = 0\n",
        "\\end{equation}\n",
        "\n",
        "<br>\n",
        "\n",
        "$i. f_{XY}(x|Y = y)$\n",
        "\n",
        "$i. f_{XY}(y|X = x)$"
      ],
      "metadata": {
        "id": "FFB3hC_W1-RK"
      }
    },
    {
      "cell_type": "markdown",
      "source": [
        "**B)** As $v.a.’s$ $X$ e $Y$ são independentes?\n",
        "\n",
        "<br>\n",
        "\n",
        "RESPOSTA:  **SIM**\n",
        "\n",
        "\n",
        "<br>\n",
        "\n",
        "---"
      ],
      "metadata": {
        "id": "4Weuz7LC3lWU"
      }
    },
    {
      "cell_type": "markdown",
      "source": [
        "<br>\n",
        "\n",
        "**Questão 2** – A função densidade de probabilidade conjunta $f_{XY} = (x, y)$ de duas $v.a.'s$ contínuas $X$ e $Y$ é dada por:\n",
        "\n",
        "$$f_{XY}(x, y) = ke^{-\\dfrac{x^2 + y^2}{3}}u(x)u(y)$$\n",
        "\n",
        "<br>\n",
        "\n",
        "**A)** Determine o valor da constante.\n",
        "\n",
        "**C)** Determine as funções densidade de probabilidade\n",
        "\n",
        "\n",
        "$i. f_X(x)$\n",
        "\n",
        "\n",
        "RESPOSTA:\n",
        "\n",
        "\\begin{equation}\n",
        "f_X(x) = \\int_{-\\infty}^{\\infty} \\! ke^{-\\dfrac{x^2 + y^2}{3}} \\, \\mathrm{d}y = \\dfrac{1}{2}\\sqrt{\\dfrac{\\pi}{2}} k e^{\\dfrac{-x^2}{2}} erf\\left(\\dfrac{x+2y}{\\sqrt2}\\right) \\Big|_{-\\infty}^{\\infty} = \\sqrt{\\dfrac{\\pi}{2}} k e^{\\dfrac{-x^2}{2}}\n",
        "\\end{equation}\n",
        "\n",
        "<br>\n",
        "\n",
        "$ii. f_Y(y)$\n",
        "\n",
        "RESPOSTA:\n",
        "\n",
        "\\begin{equation}\n",
        "f_X(y) = \\int_{-\\infty}^{\\infty} \\! ke^{-\\dfrac{x^2 + y^2}{3}} \\, \\mathrm{d}y = \\dfrac{1}{2}\\sqrt\\pi k e^{-y^2} erf(x+y) \\Big|_{-\\infty}^{\\infty} = \\sqrt\\pi k e^{-y^2}\n",
        "\\end{equation}\n",
        "\n",
        "<br>\n",
        "\n",
        "$i. f_{XY}(x|Y = y)$\n",
        "\n",
        "$i. f_{XY}(y|X = x)$\n",
        "\n",
        " \n",
        "c) Estas duas $v.a.’s$ são independentes?\n",
        "\n",
        "<br>\n",
        "\n",
        "RESPOSTA: **NÃO**\n",
        "\n",
        "<br>\n",
        "\n",
        "---"
      ],
      "metadata": {
        "id": "5iPrcb_TPMoE"
      }
    },
    {
      "cell_type": "markdown",
      "source": [
        "<br>\n",
        "\n",
        "**Questão 3** – O sinal de entrada e o sinal de saída de um retificador de meia onda são relacionados por\n",
        "\n",
        "<br>\n",
        "\n",
        "$S = \\left\\{\n",
        "\\begin{aligned}\n",
        "    X^2,     & X > 0\\\\\n",
        "    0,      &\\leq 0\n",
        "\\end{aligned}\n",
        "\\right.$\n",
        "\n",
        "<br>\n",
        "\n",
        "A função densidade de probabilidade do sinal de entrada é dada por\n",
        "\n",
        "$$f_{X}(x), = \\dfrac{1}{\\sqrt{2\\pi\\sigma}}e^{-\\dfrac{x^2}{2\\sigma^2}}$$\n",
        "\n",
        "<br>\n",
        "\n",
        "Encontre $f_{Y}(y)$.\n",
        "\n",
        "RESPOSTA:\n",
        "\n",
        "\\begin{equation}\n",
        "f_X(y) = \\int_{-\\infty}^{\\infty} \\! \\dfrac{1}{\\sqrt{2\\pi\\sigma}}e^{-\\dfrac{x^2}{2\\sigma^2}} \\, \\mathrm{d}x = \\dfrac{1}{2}\\sqrt{\\sigma}  erf(\\dfrac{x}{\\sqrt{2}\\sigma}) \\Big|_{-\\infty}^{\\infty} = \\dfrac{|\\sigma|}{\\sqrt{\\sigma}}\n",
        "\\end{equation}\n",
        "\n",
        "<br>\n",
        "\n",
        "---\n",
        "\n",
        "<br>"
      ],
      "metadata": {
        "id": "PtADv5haPr0D"
      }
    },
    {
      "cell_type": "markdown",
      "source": [
        "**Questão 4** – Repita o problema anterior para um retificador de onda completa. Dica: para um retificador de onda completa, os sinais de entrada e saída estão relacionados por $Y = X^2$.\n"
      ],
      "metadata": {
        "id": "19IHEPL0TJVO"
      }
    },
    {
      "cell_type": "code",
      "source": [
        ""
      ],
      "metadata": {
        "id": "2ufkXCZWTW7p"
      },
      "execution_count": null,
      "outputs": []
    },
    {
      "cell_type": "markdown",
      "source": [
        "**Questão 5** – Se 20% dos bits transmitidos por um transmissor acusam defeito, determine\n",
        "a probabilidade de que, em 4 bits transmitidos ao acaso:\n",
        "\n",
        "<br>\n",
        "\n",
        "**A)** Um seja errado\n",
        "\n",
        "**B)** Nenhum esteja errado\n",
        "\n",
        "**C)** Ao menos dois estejam errados\n",
        "\n",
        "<br>\n"
      ],
      "metadata": {
        "id": "e6WXWbK_TX4G"
      }
    },
    {
      "cell_type": "code",
      "source": [
        ""
      ],
      "metadata": {
        "id": "GlfrEIysT5BQ"
      },
      "execution_count": null,
      "outputs": []
    },
    {
      "cell_type": "markdown",
      "source": [
        "**Questão 6** – Se os defeitos de um tecido seguem uma lei de Poisson com média de defeito a\n",
        "cada 500 m. Qual a probabilidade de que o intervalo entre dois defeitos consecutivos seja:\n",
        "\n",
        "<br>\n",
        "\n",
        "**A)** No mínimo 1250 m\n",
        "\n",
        "**B)** Entre 1000 m e 1250 m\n",
        "\n",
        "**C)** Menor que 1000 m\n",
        "\n",
        "<br>\n",
        "\n",
        "---\n",
        "\n",
        "<br>"
      ],
      "metadata": {
        "id": "Ln5ebhURT7ZQ"
      }
    },
    {
      "cell_type": "code",
      "source": [
        ""
      ],
      "metadata": {
        "id": "_FOxEtr6UIW6"
      },
      "execution_count": null,
      "outputs": []
    },
    {
      "cell_type": "markdown",
      "source": [
        "**Questão 7** – Sabe-se que a média de carros com um pneu furado durante a travessia de um determinado túnel é de 0,06 casos/mês. Calcular a probabilidade de pelo menos 2 carros terem um pneu furado ao passar pelo túnel durante um mês de tráfego normal, sabendo-se que a distribuição é de Poisson.\n",
        "\n",
        "<br>\n",
        "\n",
        "---\n",
        "\n",
        "<br>\n"
      ],
      "metadata": {
        "id": "MTdsTvE2USBn"
      }
    },
    {
      "cell_type": "code",
      "source": [
        ""
      ],
      "metadata": {
        "id": "vdux27cPUakU"
      },
      "execution_count": null,
      "outputs": []
    },
    {
      "cell_type": "markdown",
      "source": [
        "**Questão 8** - A $fdp$ de uma variável aleatória $X$ é $f_X(x)$. Uma variável aleatória $Y$ é definida como $Y = aX + b, a < 0$. Determine a $fdp$ de $Y$ em termos da $fdp$ de $X$.\n"
      ],
      "metadata": {
        "id": "4v-_xQmtUtGO"
      }
    },
    {
      "cell_type": "code",
      "source": [
        ""
      ],
      "metadata": {
        "id": "oyeUZUfCVqVD"
      },
      "execution_count": null,
      "outputs": []
    },
    {
      "cell_type": "markdown",
      "source": [
        "**Questão 9** - A fdc conjunta de duas variáveis aleatórias $X$ e $Y$ é dada por\n",
        "\n",
        "$F_{XY}(x, y) = \\left\\{\n",
        "\\begin{aligned}\n",
        "    1-e^{-ax}(1-e^{-\\beta y}),\\hspace{10mm}     & x \\geq 0, y\\geq 0\\\\\n",
        "    0,\\hspace{10mm}      & \\textrm{Caso Contrário}.\n",
        "\\end{aligned}\n",
        "\\right.$\n",
        "\n",
        "<br>\n",
        "\n",
        "**A)** Encontre as $fdc’s$ marginais.\n",
        "\n",
        "**B)** Encontre as probabilidades dos eventos\n",
        "\n",
        "<br>\n",
        "\n",
        "$i. A = {X \\leq 1, Y \\leq 1}$\n",
        "\n",
        "$ii. B = {X = x, Y > y}, x > 0, y > 0$\n",
        "\n",
        "<br>\n",
        "\n"
      ],
      "metadata": {
        "id": "a3-GvQpeo6B-"
      }
    },
    {
      "cell_type": "code",
      "source": [
        ""
      ],
      "metadata": {
        "id": "UArOF22GsDov"
      },
      "execution_count": null,
      "outputs": []
    },
    {
      "cell_type": "markdown",
      "source": [
        "**Questão 10** – Expresse os valores extremos das fdc’s conjuntas $F_{XY}(x, y)$ por números ou em termos das $fdc’s$  e $F_X(x)$ e $F_{Y}(y)$.\n",
        " \n",
        "**A)** $F_{XY}(-\\infty, 2)$\n",
        "\n",
        "**B)** $F_{XY}(\\infty, \\infty)$\n",
        "\n",
        "**C)** $F_{XY}(\\infty, y)$\n",
        "\n",
        "**D)** $F_{XY}(\\infty, -\\infty)$\n",
        "\n",
        "\n"
      ],
      "metadata": {
        "id": "ByHhC54my3pw"
      }
    },
    {
      "cell_type": "code",
      "source": [
        ""
      ],
      "metadata": {
        "id": "IqmrXs9vzvJT"
      },
      "execution_count": null,
      "outputs": []
    },
    {
      "cell_type": "markdown",
      "source": [
        "**Questão 11** – Que distribuição de probabilidade você pode utilizar para modelar as seguintes situações?\n",
        "\n",
        "**A)** Número de toques entre erros de digitação, dado que cada toque tem uma certa probabilidade de estar com erro;\n",
        "\n",
        "\n",
        "**B)** Número de toques com erro dentre m toques, dado que cada toque tem uma certa probabilidade de estar com erro;\n",
        "\n",
        "\n",
        "**C)** Tempo entre chegadas sucessivas, dado que as chegadas são sem memória;\n",
        "\n"
      ],
      "metadata": {
        "id": "ToXSuDBszv6T"
      }
    },
    {
      "cell_type": "code",
      "source": [
        ""
      ],
      "metadata": {
        "id": "RArz2_820C1v"
      },
      "execution_count": null,
      "outputs": []
    }
  ]
}