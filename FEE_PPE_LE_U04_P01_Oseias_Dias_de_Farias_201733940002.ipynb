{
  "nbformat": 4,
  "nbformat_minor": 0,
  "metadata": {
    "colab": {
      "name": "FEE-PPE-LE-U04-P01 Oseias_Dias_de_Farias 201733940002.ipynb",
      "provenance": [],
      "collapsed_sections": [],
      "authorship_tag": "ABX9TyOH1bT8cBo5iamV3JAwrfIx",
      "include_colab_link": true
    },
    "kernelspec": {
      "name": "python3",
      "display_name": "Python 3"
    },
    "language_info": {
      "name": "python"
    }
  },
  "cells": [
    {
      "cell_type": "markdown",
      "metadata": {
        "id": "view-in-github",
        "colab_type": "text"
      },
      "source": [
        "<a href=\"https://colab.research.google.com/github/Oseiasdfarias/ProbabilidadeProcessosEstocarticos/blob/main/FEE_PPE_LE_U04_P01_Oseias_Dias_de_Farias_201733940002.ipynb\" target=\"_parent\"><img src=\"https://colab.research.google.com/assets/colab-badge.svg\" alt=\"Open In Colab\"/></a>"
      ]
    },
    {
      "cell_type": "markdown",
      "source": [
        "# <center>Lista de Exemplos U04-Parte 01</center>"
      ],
      "metadata": {
        "id": "Cw2jpgVmejNd"
      }
    },
    {
      "cell_type": "markdown",
      "source": [
        "<br>\n",
        "\n",
        "## <center>4.1 – Conceito de Variável Aleatória (V.A.) e</center> \n",
        "## <center>4.2 – Probabilidade associada à variável aleatória (V.A.)</center>\n",
        "\n",
        "<br>\n"
      ],
      "metadata": {
        "id": "jKxHlKJdesrq"
      }
    },
    {
      "cell_type": "markdown",
      "source": [
        "### **Questão 1** – Um experimento $(E)$ consiste em jogar uma moeda 4 vezes.\n"
      ],
      "metadata": {
        "id": "wQW-OX41exHG"
      }
    },
    {
      "cell_type": "markdown",
      "source": [
        "a) Especifique o espaço amostral $(S)$, onde $C$ corresponde a “cara\"e $K$ corresponde a “coroa\".\n",
        "\n",
        "<br>\n",
        "\n",
        "+ RESPOSTA\n"
      ],
      "metadata": {
        "id": "q_x3DrK2e1bE"
      }
    },
    {
      "cell_type": "code",
      "execution_count": null,
      "metadata": {
        "id": "P3R73iL0ebyd"
      },
      "outputs": [],
      "source": [
        ""
      ]
    },
    {
      "cell_type": "markdown",
      "source": [
        "b) Seja a Variável Aleatória $(X)$ a ocorrencia de “coroas” nas 4 jogadas. Especifique os resultados de $S$, os valores de $X$ correspondentes (contradomínio $R_x$) e a probabilidade de cada valor de $X$.\n",
        "\n",
        "<br>\n",
        "\n",
        "+ RESPOSTA\n",
        "\n"
      ],
      "metadata": {
        "id": "nQyS5Q4JfB2D"
      }
    },
    {
      "cell_type": "code",
      "source": [
        ""
      ],
      "metadata": {
        "id": "qoDBO5y6ffYz"
      },
      "execution_count": null,
      "outputs": []
    },
    {
      "cell_type": "markdown",
      "source": [
        "<br>\n",
        "\n",
        "### **Questão 2** – Um experimento $(E)$ consiste em jogar 3 dados (de 6 faces).\n"
      ],
      "metadata": {
        "id": "IKBhKL_2fmoX"
      }
    },
    {
      "cell_type": "markdown",
      "source": [
        "a) Especifique o espaço amostral $(S)$. Especificando a ocorrencia das faces pelo número correspondente (1, 2, 3, 4, 5 ou 6).\n",
        "\n",
        "\n",
        "<br>\n",
        "\n",
        "+ RESPOSTA"
      ],
      "metadata": {
        "id": "tGRL5qn5frXc"
      }
    },
    {
      "cell_type": "code",
      "source": [
        ""
      ],
      "metadata": {
        "id": "xaJchslHfprA"
      },
      "execution_count": null,
      "outputs": []
    },
    {
      "cell_type": "markdown",
      "source": [
        "b) Seja a Variável Aleatória $(X)$ a soma dos valores das duas primeiras faces menos o valor da terceira. Especifique os resultados de $S$, os valores de $X$ correspondentes (contradomínio $R_x$) e a probabilidade de cada valor de $X$.\n",
        "\n",
        "\n",
        "<br>\n",
        "\n",
        "+ RESPOSTA\n"
      ],
      "metadata": {
        "id": "CUE-G32Uf6Aa"
      }
    },
    {
      "cell_type": "code",
      "source": [
        ""
      ],
      "metadata": {
        "id": "Dgm7D4TJgQQ6"
      },
      "execution_count": null,
      "outputs": []
    },
    {
      "cell_type": "markdown",
      "source": [
        "<br>\n",
        "\n",
        "## <center>4.3 – Variáveis aleatórias discretas e contínuas e </center>\n",
        "## <center>4.4 – Funções de variáveis aleatórias $(V.A.)$ – fdp e FDP</center>\n"
      ],
      "metadata": {
        "id": "-cgHgksPgS-B"
      }
    },
    {
      "cell_type": "markdown",
      "source": [
        "### **Questão 3** – Com base na **Questão 1**. Determine:\n"
      ],
      "metadata": {
        "id": "TSuUPyTfgYIm"
      }
    },
    {
      "cell_type": "markdown",
      "source": [
        "a) $p(x_i)-$fdp de $X$.\n",
        "\n",
        "\n",
        "<br>\n",
        "\n",
        "+ RESPOSTA"
      ],
      "metadata": {
        "id": "6sqd1BZsgfm8"
      }
    },
    {
      "cell_type": "code",
      "source": [
        ""
      ],
      "metadata": {
        "id": "HJ12FnUDgV7a"
      },
      "execution_count": null,
      "outputs": []
    },
    {
      "cell_type": "markdown",
      "source": [
        "b) $F(x_i)-$FDP de $X$.\n",
        "\n",
        "\n",
        "<br>\n",
        "\n",
        "+ RESPOSTA"
      ],
      "metadata": {
        "id": "DJAtn5_Agvbf"
      }
    },
    {
      "cell_type": "code",
      "source": [
        ""
      ],
      "metadata": {
        "id": "Y11V4Mu9g0A-"
      },
      "execution_count": null,
      "outputs": []
    },
    {
      "cell_type": "markdown",
      "source": [
        "### **Questão 4** – Com base na **Questão 2**. Determine:\n"
      ],
      "metadata": {
        "id": "kftJxiwxg2SJ"
      }
    },
    {
      "cell_type": "markdown",
      "source": [
        "a) $p(x_i)-$fdp de $X$.\n",
        "\n",
        "\n",
        "<br>\n",
        "\n",
        "+ RESPOSTA"
      ],
      "metadata": {
        "id": "pILTFlxGg72S"
      }
    },
    {
      "cell_type": "code",
      "source": [
        ""
      ],
      "metadata": {
        "id": "ORI4FCljg7Dy"
      },
      "execution_count": null,
      "outputs": []
    },
    {
      "cell_type": "markdown",
      "source": [
        "b) $F(x_i)-$FDP de $X$.\n",
        "\n",
        "\n",
        "<br>\n",
        "\n",
        "+ RESPOSTA"
      ],
      "metadata": {
        "id": "pT1zEc35hClh"
      }
    },
    {
      "cell_type": "code",
      "source": [
        ""
      ],
      "metadata": {
        "id": "AYtKm2mehDuc"
      },
      "execution_count": null,
      "outputs": []
    },
    {
      "cell_type": "markdown",
      "source": [
        "### **Questão 5** – Uma função distribuição de probabilidade acumulada FDP é definida da seguinte forma:\n",
        "\n",
        "- $X < a \\rightarrow F = 0;$\n",
        "- $a \\leq X \\leq b \\rightarrow F = \\dfrac{x-a}{b-a};$\n",
        "- $X > b \\rightarrow F = 1;$\n",
        "\n",
        "<br>\n",
        "\n",
        "a) Calcule $f(x)$ - fdp de $X$.\n",
        "\n",
        "<br>\n",
        "\n",
        "+ RESPOSTA\n",
        "\n",
        "<br>\n",
        "\n",
        "b) Calcule $P[1 < X \\leq 3]$ para $a = 1$ e $b = 5$.\n",
        "\n",
        "<br>\n",
        "\n",
        "+ RESPOSTA\n",
        "\n",
        "<br>\n",
        "\n",
        "c) Calcule $P[-1 < X \\leq 2]$ para $a = 1$ e $b = 5$.\n",
        "\n",
        "<br>\n",
        "\n",
        "+ RESPOSTA\n",
        "\n",
        "<br>\n",
        "\n",
        "d) Calcule $P[- \\infty < X \\leq 1,5]$ para $a = 1$ e $b = 5$.\n",
        "\n",
        "<br>\n",
        "\n",
        "+ RESPOSTA\n",
        "\n",
        "<br>\n",
        "\n",
        "e) Calcule $P[0 < X \\leq 6]$ para $a = 1$ e $b = 5$.\n",
        "\n",
        "<br>\n",
        "\n",
        "+ RESPOSTA\n",
        "\n",
        "<br>"
      ],
      "metadata": {
        "id": "Ya3Cnwq78wtx"
      }
    },
    {
      "cell_type": "code",
      "source": [
        ""
      ],
      "metadata": {
        "id": "f9eTj05p82gp"
      },
      "execution_count": null,
      "outputs": []
    },
    {
      "cell_type": "markdown",
      "source": [
        "### **Questão 6** – O tempo de transmissão X de mensagens em um sistema de comunicação obedece a lei de probabilidade exponencial com parâmetro $λ$, isto é $P[X > x] = e −λx, x > 0$. Calcule, $T = 1/λ$.\n"
      ],
      "metadata": {
        "id": "gv0jqxD6_SDQ"
      }
    },
    {
      "cell_type": "markdown",
      "source": [
        "a) Defina $F(x)$ - FDP de $X$\n",
        "\n",
        "\n",
        "<br>\n",
        "\n",
        "+ RESPOSTA\n"
      ],
      "metadata": {
        "id": "QkHjjUlb_au_"
      }
    },
    {
      "cell_type": "code",
      "source": [
        ""
      ],
      "metadata": {
        "id": "Ic62pSD-_aJ1"
      },
      "execution_count": null,
      "outputs": []
    },
    {
      "cell_type": "markdown",
      "source": [
        "b) Calcule $f(x)$ - fdp de $X$.\n",
        "\n",
        "\n",
        "<br>\n",
        "\n",
        "+ RESPOSTA"
      ],
      "metadata": {
        "id": "qVa7spyo_kdW"
      }
    },
    {
      "cell_type": "code",
      "source": [
        ""
      ],
      "metadata": {
        "id": "3ulIay32_ozR"
      },
      "execution_count": null,
      "outputs": []
    },
    {
      "cell_type": "markdown",
      "source": [
        "c) Calcule $P[T < X \\leq 2T]$ para $T = T = 1/λ.$\n",
        "\n",
        "\n",
        "<br>\n",
        "\n",
        "+ RESPOSTA\n"
      ],
      "metadata": {
        "id": "U63-FKSR_pWX"
      }
    },
    {
      "cell_type": "code",
      "source": [
        ""
      ],
      "metadata": {
        "id": "VJAqPOgH__Ws"
      },
      "execution_count": null,
      "outputs": []
    }
  ]
}