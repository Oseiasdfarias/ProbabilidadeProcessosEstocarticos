{
  "nbformat": 4,
  "nbformat_minor": 0,
  "metadata": {
    "colab": {
      "name": "FEE-PPE-LE-U04-P01 Oseias_Dias_de_Farias 201733940002.ipynb",
      "provenance": [],
      "collapsed_sections": [],
      "authorship_tag": "ABX9TyNGXJnUpx43BdyApqa6w7NU",
      "include_colab_link": true
    },
    "kernelspec": {
      "name": "python3",
      "display_name": "Python 3"
    },
    "language_info": {
      "name": "python"
    }
  },
  "cells": [
    {
      "cell_type": "markdown",
      "metadata": {
        "id": "view-in-github",
        "colab_type": "text"
      },
      "source": [
        "<a href=\"https://colab.research.google.com/github/Oseiasdfarias/ProbabilidadeProcessosEstocarticos/blob/main/FEE_PPE_LE_U04_P01_Oseias_Dias_de_Farias_201733940002.ipynb\" target=\"_parent\"><img src=\"https://colab.research.google.com/assets/colab-badge.svg\" alt=\"Open In Colab\"/></a>"
      ]
    },
    {
      "cell_type": "markdown",
      "source": [
        "# <center>Processos Estocásticos</center>\n",
        "## <center>Lista de Exercícios – Unidade 04 - Parte 1</center>\n",
        "\n",
        "<br>\n",
        "Aluno: Oséias Dias de Farias\n",
        "\n",
        "Matrícula: 201733940002"
      ],
      "metadata": {
        "id": "Cw2jpgVmejNd"
      }
    },
    {
      "cell_type": "markdown",
      "source": [
        "<br>\n",
        "\n",
        "## <center>4.1 – Conceito de Variável Aleatória (V.A.) e</center> \n",
        "## <center>4.2 – Probabilidade associada à variável aleatória (V.A.)</center>\n",
        "\n",
        "<br>\n"
      ],
      "metadata": {
        "id": "jKxHlKJdesrq"
      }
    },
    {
      "cell_type": "markdown",
      "source": [
        "### **Questão 1** – Um experimento $(E)$ consiste em jogar uma moeda 4 vezes.\n"
      ],
      "metadata": {
        "id": "wQW-OX41exHG"
      }
    },
    {
      "cell_type": "markdown",
      "source": [
        "**A)** Especifique o espaço amostral $(S)$, onde $C$ corresponde a “cara\"e $K$ corresponde a “coroa\".\n",
        "\n",
        "<br>\n",
        "\n",
        "+ RESPOSTA\n",
        "\n",
        "<br>\n",
        "\n",
        "S = [ \n",
        "  \n",
        "  KKKK, KKKC, KKCK, KKCC,\n",
        "  \n",
        "  KCKK, KCCK, KCKC, KCCC,\n",
        "  \n",
        "  CCCC, CCCK, CCKC, CCKK,\n",
        "  \n",
        "  CKCC,CKCK, CKKC, CKKK\n",
        "  \n",
        "  ]\n",
        "\n",
        "\n",
        "<br>\n",
        "\n",
        "---\n",
        "\n",
        "<br>\n",
        "\n",
        "**B)** Seja a Variável Aleatória $(X)$ a ocorrencia de “coroas” nas 4 jogadas. Especifique os resultados de $S$, os valores de $X$ correspondentes (contradomínio $R_x$) e a probabilidade de cada valor de $X$.\n",
        "\n",
        "<br>\n",
        "\n",
        "+ RESPOSTA\n",
        "\n",
        "<img src=\"https://github.com/Oseiasdfarias/ProbabilidadeProcessosEstocarticos/blob/main/LISTA_04_P1/Q1_B.png?raw=true\" alt=\"some text\" width=70% height=70%>"
      ],
      "metadata": {
        "id": "q_x3DrK2e1bE"
      }
    },
    {
      "cell_type": "markdown",
      "source": [
        "<br>\n",
        "\n",
        "### **Questão 2** – Um experimento $(E)$ consiste em jogar 3 dados (de 6 faces).\n"
      ],
      "metadata": {
        "id": "IKBhKL_2fmoX"
      }
    },
    {
      "cell_type": "markdown",
      "source": [
        "**A)** Especifique o espaço amostral $(S)$. Especificando a ocorrencia das faces pelo número correspondente (1, 2, 3, 4, 5 ou 6).\n",
        "\n",
        "\n",
        "<br>\n",
        "\n",
        "+ RESPOSTA\n",
        "\n",
        "E = [\n",
        "\n",
        "(000),  (001),  (002),  (003),  (004),  (005),  (006),  \n",
        "(010),  (011),  (012),  (013),  (014),  (015),  (016),  \n",
        "(020),  (021),  (022),  (023),  (024),  (025),  (026),  \n",
        "(030),  (031),  (032),  (033),  (034),  (035),  (036),  \n",
        "(040),  (041),  (042),  (043),  (044),  (045),  (046),  \n",
        "(050),  (051),  (052),  (053),  (054),  (055),  (056),  \n",
        "(060),  (061),  (062),  (063),  (064),  (065),  (066),  \n",
        "\n",
        "\n",
        "(100),  (101),  (102),  (103),  (104),  (105),  (106),  \n",
        "(110),  (111),  (112),  (113),  (114),  (115),  (116),  \n",
        "(120),  (121),  (122),  (123),  (124),  (125),  (126),  \n",
        "(130),  (131),  (132),  (133),  (134),  (135),  (136),  \n",
        "(140),  (141),  (142),  (143),  (144),  (145),  (146),  \n",
        "(150),  (151),  (152),  (153),  (154),  (155),  (156),  \n",
        "(160),  (161),  (162),  (163),  (164),  (165),  (166),  \n",
        "\n",
        "\n",
        "(200),  (201),  (202),  (203),  (204),  (205),  (206),  \n",
        "(210),  (211),  (212),  (213),  (214),  (215),  (216),  \n",
        "(220),  (221),  (222),  (223),  (224),  (225),  (226),  \n",
        "(230),  (231),  (232),  (233),  (234),  (235),  (236),  \n",
        "(240),  (241),  (242),  (243),  (244),  (245),  (246),  \n",
        "(250),  (251),  (252),  (253),  (254),  (255),  (256),  \n",
        "(260),  (261),  (262),  (263),  (264),  (265),  (266),  \n",
        "\n",
        "\n",
        "(300),  (301),  (302),  (303),  (304),  (305),  (306),  \n",
        "(310),  (311),  (312),  (313),  (314),  (315),  (316),  \n",
        "(320),  (321),  (322),  (323),  (324),  (325),  (326),  \n",
        "(330),  (331),  (332),  (333),  (334),  (335),  (336),  \n",
        "(340),  (341),  (342),  (343),  (344),  (345),  (346),  \n",
        "(350),  (351),  (352),  (353),  (354),  (355),  (356),  \n",
        "(360),  (361),  (362),  (363),  (364),  (365),  (366),  \n",
        "\n",
        "\n",
        "(400),  (401),  (402),  (403),  (404),  (405),  (406),  \n",
        "(410),  (411),  (412),  (413),  (414),  (415),  (416),  \n",
        "(420),  (421),  (422),  (423),  (424),  (425),  (426),  \n",
        "(430),  (431),  (432),  (433),  (434),  (435),  (436),  \n",
        "(440),  (441),  (442),  (443),  (444),  (445),  (446),  \n",
        "(450),  (451),  (452),  (453),  (454),  (455),  (456),  \n",
        "(460),  (461),  (462),  (463),  (464),  (465),  (466),  \n",
        "\n",
        "\n",
        "(500),  (501),  (502),  (503),  (504),  (505),  (506),  \n",
        "(510),  (511),  (512),  (513),  (514),  (515),  (516),  \n",
        "(520),  (521),  (522),  (523),  (524),  (525),  (526),  \n",
        "(530),  (531),  (532),  (533),  (534),  (535),  (536),  \n",
        "(540),  (541),  (542),  (543),  (544),  (545),  (546),  \n",
        "(550),  (551),  (552),  (553),  (554),  (555),  (556),  \n",
        "(560),  (561),  (562),  (563),  (564),  (565),  (566),  \n",
        "\n",
        "\n",
        "(600),  (601),  (602),  (603),  (604),  (605),  (606),  \n",
        "(610),  (611),  (612),  (613),  (614),  (615),  (616),  \n",
        "(620),  (621),  (622),  (623),  (624),  (625),  (626),  \n",
        "(630),  (631),  (632),  (633),  (634),  (635),  (636),  \n",
        "(640),  (641),  (642),  (643),  (644),  (645),  (646),  \n",
        "(650),  (651),  (652),  (653),  (654),  (655),  (656),  \n",
        "(660),  (661),  (662),  (663),  (664),  (665),  (666) \n",
        "\n",
        "]"
      ],
      "metadata": {
        "id": "tGRL5qn5frXc"
      }
    },
    {
      "cell_type": "code",
      "source": [
        "print(\"E = [\")\n",
        "for i in range(7):\n",
        "  for j in range(7):\n",
        "    for n in range(7):\n",
        "      print(f\"({i}{j}{n}), \", end=\" \")\n",
        "    print()\n",
        "  print(\"\\n\")\n",
        "print(\"]\")"
      ],
      "metadata": {
        "id": "xaJchslHfprA"
      },
      "execution_count": null,
      "outputs": []
    },
    {
      "cell_type": "markdown",
      "source": [
        "<br>\n",
        "\n",
        "---\n",
        "\n",
        "<br>\n",
        "\n",
        "**B)** Seja a Variável Aleatória $(X)$ a soma dos valores das duas primeiras faces menos o valor da terceira. Especifique os resultados de $S$, os valores de $X$ correspondentes (contradomínio $R_x$) e a probabilidade de cada valor de $X$.\n",
        "\n",
        "\n",
        "<br>\n",
        "\n",
        "+ RESPOSTA\n",
        "\n",
        "**Contradomínio $R_x$**\n",
        "\n",
        "Rx = [0, -1, -2, -3, -4, -5, -6, 1, 2, 3, 4, 5, 6, 7, 8, 9, 10, 11, 12]\n",
        "\n",
        "<br>\n",
        "\n",
        "**Probabilidade de cada valor de $X$**\n",
        "\n",
        "$X_0 = 0.00291545 , X_1 = 0.00874636, X_2 = 0.01749271$\n",
        "\n",
        "$X_3 = 0.02915452, X_4 = 0.04373178, X_5 = 0.06122449$\n",
        "\n",
        "$X_6 = 0.08163265, X_7 = 0.09620991, X_8 = 0.10495627$\n",
        "\n",
        "$X_9 = 0.10787172, X_{10} = 0.10495627, X_{11} = 0.09620991$\n",
        "\n",
        "$X_{12} = 0.08163265, X_{13} = 0.06122449, X_{14} = 0.04373178$\n",
        "\n",
        "$X_{15} = 0.02915452, X_{16} = 0.01749271, X_{17} = 0.00874636$\n",
        "\n",
        "$X_{18} = 0.00291545$\n",
        "\n",
        "<br>"
      ],
      "metadata": {
        "id": "CUE-G32Uf6Aa"
      }
    },
    {
      "cell_type": "markdown",
      "source": [
        "**Resultado de $S$**"
      ],
      "metadata": {
        "id": "Uo7CSLg0t-eN"
      }
    },
    {
      "cell_type": "code",
      "source": [
        "s = []\n",
        "for i in range(7):\n",
        "  for j in range(7):\n",
        "    for n in range(7):\n",
        "      soma = (i+j)-n\n",
        "      s.append(soma)\n",
        "      print(f\"x({i}{j}{n}) = {soma}, \", end=\" \")\n",
        "    print()\n",
        "  print(\"\\n\")\n",
        "\n",
        "unicos_lista = list(dict.fromkeys(s))\n",
        "#print(\"Rx\", unicos_lista)"
      ],
      "metadata": {
        "id": "Dgm7D4TJgQQ6"
      },
      "execution_count": null,
      "outputs": []
    },
    {
      "cell_type": "markdown",
      "source": [
        "**Encontrando o Contradomínio $R_x$ e as Probabilidades de cada valor de $X$**"
      ],
      "metadata": {
        "id": "7hlEI3pQuK71"
      }
    },
    {
      "cell_type": "code",
      "source": [
        "import numpy as np\n",
        "\n",
        "prob = np.array([0, 0, 0, 0, 0, 0, 0, 0, 0, 0, 0, 0, 0, 0, 0, 0, 0, 0, 0], dtype=\"float64\")\n",
        "for i in s:\n",
        "  if (i == -6):\n",
        "    prob[0] += 1/len(s)\n",
        "  elif (i == -5):\n",
        "    prob[1] += 1/len(s)\n",
        "  elif (i == -4):\n",
        "    prob[2] += 1/len(s)\n",
        "  elif (i == -3):\n",
        "    prob[3] += 1/len(s)\n",
        "  elif (i == -2):\n",
        "    prob[4] += 1/len(s)\n",
        "  elif (i == -1):\n",
        "    prob[5] += 1/len(s)\n",
        "  elif (i == 0):\n",
        "    prob[6] += 1/len(s)\n",
        "  elif (i == 1):\n",
        "    prob[7] += 1/len(s)\n",
        "  elif (i == 2):\n",
        "    prob[8] += 1/len(s)\n",
        "  elif (i == 3):\n",
        "    prob[9] += 1/len(s)\n",
        "  elif (i == 4):\n",
        "    prob[10] += 1/len(s)\n",
        "  elif (i == 5):\n",
        "    prob[11] += 1/len(s)\n",
        "  elif (i == 6):\n",
        "    prob[12] += 1/len(s)\n",
        "  elif (i == 7):\n",
        "    prob[13] += 1/len(s)\n",
        "  elif (i == 8):\n",
        "    prob[14] += 1/len(s)\n",
        "  elif (i == 9):\n",
        "    prob[15] += 1/len(s)\n",
        "  elif (i == 10):\n",
        "    prob[16] += 1/len(s)\n",
        "  elif (i == 11):\n",
        "    prob[17] += 1/len(s)\n",
        "  elif (i == 12):\n",
        "    prob[18] += 1/len(s)\n",
        "\n",
        "print(f\"\\nProbabilidade para os Xs =\\n {prob}\\n\")\n",
        "print(f\"Soma das Probabilidades: {prob.sum()}\")"
      ],
      "metadata": {
        "colab": {
          "base_uri": "https://localhost:8080/",
          "height": 0
        },
        "id": "msk0wKhkjcNI",
        "outputId": "c1135375-1cbb-4f22-936e-c0559ac0b43c"
      },
      "execution_count": 8,
      "outputs": [
        {
          "output_type": "stream",
          "name": "stdout",
          "text": [
            "\n",
            "Probabilidade para os Xs =\n",
            " [0.00291545 0.00874636 0.01749271 0.02915452 0.04373178 0.06122449\n",
            " 0.08163265 0.09620991 0.10495627 0.10787172 0.10495627 0.09620991\n",
            " 0.08163265 0.06122449 0.04373178 0.02915452 0.01749271 0.00874636\n",
            " 0.00291545]\n",
            "\n",
            "Soma das Probabilidades: 1.0000000000000004\n"
          ]
        }
      ]
    },
    {
      "cell_type": "code",
      "source": [
        "# Importando a biblioteca Matplotlib\n",
        "import matplotlib.pyplot as plt\n",
        "plt.style.use('seaborn')\n",
        "\n",
        "%matplotlib inline"
      ],
      "metadata": {
        "id": "ynUJzM2WV1Ep"
      },
      "execution_count": 9,
      "outputs": []
    },
    {
      "cell_type": "code",
      "source": [
        "# Gráfico da Função Densidade de Probabilidade\n",
        "\n",
        "plt.figure(figsize=(9, 6))\n",
        "plt.plot(unicos_lista, prob, \"o\")\n",
        "plt.title(\"Gráfico da Função Densidade de Probabilidade\")\n",
        "plt.show()"
      ],
      "metadata": {
        "colab": {
          "base_uri": "https://localhost:8080/",
          "height": 389
        },
        "id": "saG3ofuWVSpf",
        "outputId": "2e18f8a5-a06e-4010-99ab-f146e3e50b3b"
      },
      "execution_count": 29,
      "outputs": [
        {
          "output_type": "display_data",
          "data": {
            "image/png": "[encoded data removed]",
            "text/plain": [
              "<Figure size 648x432 with 1 Axes>"
            ]
          },
          "metadata": {
            "needs_background": "light"
          }
        }
      ]
    },
    {
      "cell_type": "markdown",
      "source": [
        "<br>\n",
        "\n",
        "## <center>4.3 – Variáveis aleatórias discretas e contínuas e </center>\n",
        "## <center>4.4 – Funções de variáveis aleatórias $(V.A.)$ – fdp e FDP</center>\n"
      ],
      "metadata": {
        "id": "-cgHgksPgS-B"
      }
    },
    {
      "cell_type": "markdown",
      "source": [
        "### **Questão 3** – Com base na **Questão 1**. Determine:\n"
      ],
      "metadata": {
        "id": "TSuUPyTfgYIm"
      }
    },
    {
      "cell_type": "markdown",
      "source": [
        "**A)** $p(x_i)-$fdp de $X$.\n",
        "\n",
        "\n",
        "<br>\n",
        "\n",
        "+ RESPOSTA\n",
        "\n",
        "<br>\n",
        "\n",
        "|x_i \t     | 0 \t  | 1 \t| 2   \t| 3 \t| 4 \t  |\n",
        "|-----\t   |---\t  |---\t|---\t  |---\t|---\t  |\n",
        "|P[X = x_i]| 6.25% |25%   |  37.5% | 25%  |  6.25% |\n",
        "\n",
        "\n",
        "<br>"
      ],
      "metadata": {
        "id": "6sqd1BZsgfm8"
      }
    },
    {
      "cell_type": "code",
      "source": [
        "x_i = np.array([0, 1, 2, 3, 4])\n",
        "prob_q1 = np.array([1/16, 1/4, 3/8, 1/4, 1/16], dtype=\"float64\")\n",
        "fdp_q1 = prob_q1*100.0\n",
        "\n",
        "print(f\"\\np(xi)− fdp de X:\")\n",
        "for i in fdp_q1:\n",
        "  print(f\"{i}% \", end=\" \")\n",
        "\n",
        "# Gráfico da Função Densidade de Probabilidade\n",
        "plt.figure(figsize=(9, 6))\n",
        "plt.plot(x_i, fdp_q1, \"o\")\n",
        "plt.title(\"Gráfico $( p_{xi}$ − fdp de  $X )$\", fontsize=15)\n",
        "plt.xlabel(\"x\", fontsize=15)\n",
        "plt.ylabel(\"$p_{xi}$\", fontsize=15)\n",
        "plt.show()"
      ],
      "metadata": {
        "id": "Y11V4Mu9g0A-",
        "colab": {
          "base_uri": "https://localhost:8080/",
          "height": 464
        },
        "outputId": "ba4ed8f4-6667-4cad-973a-05db4bfc5085"
      },
      "execution_count": 44,
      "outputs": [
        {
          "output_type": "stream",
          "name": "stdout",
          "text": [
            "\n",
            "p(xi)− fdp de X:\n",
            "6.25%  25.0%  37.5%  25.0%  6.25%  "
          ]
        },
        {
          "output_type": "display_data",
          "data": {
            "image/png": "[encoded data removed]",
            "text/plain": [
              "<Figure size 648x432 with 1 Axes>"
            ]
          },
          "metadata": {
            "needs_background": "light"
          }
        }
      ]
    },
    {
      "cell_type": "markdown",
      "source": [
        "---\n",
        "\n",
        "<br>\n",
        "\n",
        "**B)** $F(x_i)-$FDP de $X$.\n",
        "\n",
        "\n",
        "<br>\n",
        "\n",
        "+ RESPOSTA\n",
        "\n",
        "<br>\n",
        "\n",
        "|x_i \t     | 0 \t  | 1 \t| 2   \t| 3 \t| 4 \t  |\n",
        "|-----\t   |---\t  |---\t|---\t  |---\t|---\t  |\n",
        "|F[X = x_i]| 6.25% |31.25%   |  68.75% | 93.75%  |  100.0% |\n",
        "\n",
        "<br>\n",
        "\n",
        "$ P[x \\leq 0 = 6.25%] $\n",
        "\n",
        "$ P[x \\leq 1 = 31.25%] $\n",
        "\n",
        "$ P[x \\leq 2 = 68.75%] $\n",
        "\n",
        "$ P[x \\leq 3 = 93.75%] $\n",
        "\n",
        "$ P[x \\leq 3 = 100.0%] $\n",
        "\n",
        "\n",
        "\n",
        "<br>"
      ],
      "metadata": {
        "id": "DJAtn5_Agvbf"
      }
    },
    {
      "cell_type": "code",
      "source": [
        "x_i2 = np.array([-3., -2., -1.,  0., 0.,  1., 1., 2., 2., 3., 3.,  4., 4.,  5., 5., 6., 6., 7., 7., 8.,])\n",
        "FDP_q1 = []\n",
        "for i in range(4):\n",
        "  FDP_q1.append(0.0)\n",
        "\n",
        "for i in range(0, 8):\n",
        "  FDP_q1.append(fdp_q1[:i+1].sum())\n",
        "  FDP_q1.append(fdp_q1[:i+1].sum())\n",
        "\n",
        "# Printa os valores de F(xi)\n",
        "#print(f\"\\n\\nF(xi)−FDP de  X:\")\n",
        "#for i in FDP_q1:\n",
        "#  print(f\"{i}% \", end=\" \")\n",
        "#print(\"\\n\")\n",
        "\n",
        "# Gráfico da Função Densidade de Probabilidade\n",
        "plt.figure(figsize=(15, 6))\n",
        "plt.plot(x_i2, FDP_q1, \"o\")\n",
        "plt.plot(x_i2, FDP_q1)\n",
        "plt.title(\"Gráfico $( F_{xi}$ − FDP de  $X )$\", fontsize=15)\n",
        "plt.xlabel(\"$X$\", fontsize=15)\n",
        "plt.ylabel(\"$F_{xi} (\\%)$\", fontsize=15)\n",
        "plt.show()"
      ],
      "metadata": {
        "colab": {
          "base_uri": "https://localhost:8080/",
          "height": 414
        },
        "id": "IdYFG33mXnPg",
        "outputId": "acc58174-b689-482b-82a4-68bfa0afa30c"
      },
      "execution_count": 141,
      "outputs": [
        {
          "output_type": "display_data",
          "data": {
            "image/png": "[encoded data removed]",
            "text/plain": [
              "<Figure size 1080x432 with 1 Axes>"
            ]
          },
          "metadata": {
            "needs_background": "light"
          }
        }
      ]
    },
    {
      "cell_type": "markdown",
      "source": [
        "### **Questão 4** – Com base na **Questão 2**. Determine:\n"
      ],
      "metadata": {
        "id": "kftJxiwxg2SJ"
      }
    },
    {
      "cell_type": "markdown",
      "source": [
        "a) $p(x_i)-$fdp de $X$.\n",
        "\n",
        "\n",
        "<br>\n",
        "\n",
        "+ RESPOSTA\n",
        "\n",
        "<br>\n",
        "\n",
        "| x_i| 0 | 1 | 2 | 3 | 4 | 5 | 6 | 7 | 8 | 9 |\n",
        "|------|---|---|---|---|---|---|---|---|---|--- |\n",
        "|P[X = x_i] |0.29\\% |  0.87\\% | 1.74\\% | 2.91\\% | 4.37\\% | 6.12\\% | 8.16\\% | 9.62\\% | 10.49\\%| 10.78\\% |\n",
        "|x_i | 10 | 11 | 12 | 13 | 14 | 15 | 16 | 17 | 18|\n",
        "|P[X = x_i] | 10.49\\% | 9,62\\% | 8.16\\% | 6.12\\% | 4.37\\% | 2.91\\% | 1.74\\% | 0.87\\% | 0.29\\%|\n",
        "\n",
        "<br>"
      ],
      "metadata": {
        "id": "pILTFlxGg72S"
      }
    },
    {
      "cell_type": "code",
      "source": [
        "q2_x_i = np.linspace(0, 18, 19)\n",
        "fdp_q2 = prob*100\n",
        "\n",
        "#print(f\"\\n\\np(xi)− fdp de  X:\")\n",
        "#for i in range(19):\n",
        "#  print(f\"{format(fdp_q2[i], '.2f')}% \", end=\" \")\n",
        "#  if (i == 9):\n",
        "#    print()\n",
        "\n",
        "# Gráfico da Função Densidade de Probabilidade\n",
        "plt.figure(figsize=(15, 6))\n",
        "plt.plot(q2_x_i, fdp_q2, \"o\")\n",
        "plt.title(\"Gráfico $( p_{xi}$ − fdp de  $X )$\", fontsize=15)\n",
        "plt.xlabel(\"$X$\", fontsize=15)\n",
        "plt.ylabel(\"$p_{xi} (\\%)$\", fontsize=15)\n",
        "plt.show()"
      ],
      "metadata": {
        "id": "ORI4FCljg7Dy",
        "colab": {
          "base_uri": "https://localhost:8080/",
          "height": 414
        },
        "outputId": "57008b33-e838-4375-cad6-01c9be99c009"
      },
      "execution_count": 142,
      "outputs": [
        {
          "output_type": "display_data",
          "data": {
            "image/png": "[encoded data removed]",
            "text/plain": [
              "<Figure size 1080x432 with 1 Axes>"
            ]
          },
          "metadata": {
            "needs_background": "light"
          }
        }
      ]
    },
    {
      "cell_type": "markdown",
      "source": [
        "<br>\n",
        "\n",
        "b) $F(x_i)-$FDP de $X$.\n",
        "\n",
        "\n",
        "<br>\n",
        "\n",
        "+ RESPOSTA\n",
        "\n",
        "<br>\n",
        "\n",
        "\n",
        "\n",
        "| x_i| 0 | 1 | 2 | 3 | 4 | 5 | 6 | 7 | 8 | 9 |\n",
        "|------|---|---|---|---|---|---|---|---|---|--- |\n",
        "|P[X = x_i] |0.29% |  1.17% | 2.92% | 5.83% | 10.20% | 16.33% | 24.49% | 34.11% | 44.61%| 55.39% |\n",
        "|x_i | 10 | 11 | 12 | 13 | 14 | 15 | 16 | 17 | 18|\n",
        "|P[X = x_i] | 65.89% | 75.51% | 83.67% | 89.80% | 94.17% | 97.08% | 98.83% | 99.71% | 100.00% |\n",
        "\n",
        "\n",
        "<br>\n",
        "\n",
        "\n",
        "$P[x \\leq -6] = 0.29%$\n",
        "\n",
        "$P[x \\leq -5] = 1.17%$\n",
        "\n",
        "$P[x \\leq -4] = 2.92%$\n",
        "\n",
        "$P[x \\leq -3] = 5.83%$\n",
        "\n",
        "$P[x \\leq -2] = 10.20%$\n",
        "\n",
        "$P[x \\leq -1] = 16.33%$\n",
        "\n",
        "$P[x \\leq 0] = 24.49%$\n",
        "\n",
        "$P[x \\leq 1] = 34.11%$\n",
        "\n",
        "$P[x \\leq 2] = 44.61%$\n",
        "\n",
        "$P[x \\leq 3] = 55.39%$\n",
        "\n",
        "$P[x \\leq 4 = 65.89%]$\n",
        "\n",
        "$P[x \\leq 5 = 75.51%] $\n",
        "\n",
        "$P[x \\leq 6 = 83.67%]$\n",
        "\n",
        "$P[x \\leq 7 =  89.80%] $\n",
        "\n",
        "$P[x \\leq 8 = 94.17%]$\n",
        "\n",
        "$P[x \\leq 9 = 97.08%] $\n",
        "\n",
        "$P[x \\leq 10 = 98.83%]$\n",
        "\n",
        "$P[x \\leq 11 = 99.71%] $\n",
        "\n",
        "$P[x \\leq 12 = 100.00%]$"
      ],
      "metadata": {
        "id": "pT1zEc35hClh"
      }
    },
    {
      "cell_type": "code",
      "source": [
        "FDP_q2 = []  #np.zeros(19)\n",
        "xi = np.array([-3., -2., -1.,  0., 0., 1., 1., 2., 2., 3., 3.,  4., 4.,  5., 5., 6., 6., 7., 7., 8., 8.,\n",
        "               9., 9., 10., 10., 11., 11., 12., 12., 13., 13., 14., 14., 15., 15., 16., 16., 17., 17., 18., 18.,\n",
        "               19., ])\n",
        "\n",
        "for i in range(4):\n",
        "  FDP_q2.append(0)\n",
        "\n",
        "for i in range(0, 19):\n",
        "  FDP_q2.append(fdp_q2[:i+1].sum())\n",
        "  FDP_q2.append(fdp_q2[:i+1].sum())\n",
        "\n",
        "#print(\"\\nF(xi)− FDP de  X: \")\n",
        "#for i in range(len(FDP_q2)):\n",
        "#  print(f\"{format(FDP_q2[i], '.2f')}% \" , end=\" \")\n",
        "#  if (i == 10):\n",
        "#    print()\n",
        "#  if (i == 20):\n",
        "#    print()\n",
        "#print(\"\\n\")\n",
        "\n",
        "# Gráfico da Função Densidade de Probabilidade\n",
        "plt.figure(figsize=(15, 6))\n",
        "plt.plot(xi, FDP_q2, \"o\")\n",
        "plt.plot(xi, FDP_q2)\n",
        "plt.title(\"Gráfico $( F_{xi}$ − FDP de  $X )$\", fontsize=15)\n",
        "plt.xlabel(\"$X$\", fontsize=15)\n",
        "plt.ylabel(\"$F_{xi} (\\%)$\", fontsize=15)\n",
        "plt.show()"
      ],
      "metadata": {
        "id": "AYtKm2mehDuc",
        "colab": {
          "base_uri": "https://localhost:8080/",
          "height": 414
        },
        "outputId": "c851813c-129b-44ce-9404-f0e55e91797a"
      },
      "execution_count": 143,
      "outputs": [
        {
          "output_type": "display_data",
          "data": {
            "image/png": "[encoded data removed]",
            "text/plain": [
              "<Figure size 1080x432 with 1 Axes>"
            ]
          },
          "metadata": {
            "needs_background": "light"
          }
        }
      ]
    },
    {
      "cell_type": "markdown",
      "source": [
        "### **Questão 5** – Uma função distribuição de probabilidade acumulada FDP é definida da seguinte forma:\n",
        "\n",
        "- $X < a \\rightarrow F = 0;$\n",
        "- $a \\leq X \\leq b \\rightarrow F = \\dfrac{x-a}{b-a};$\n",
        "- $X > b \\rightarrow F = 1;$\n",
        "\n",
        "<br>\n",
        "\n",
        "a) Calcule $f(x)$ - fdp de $X$.\n",
        "\n",
        "<br>\n",
        "\n",
        "+ RESPOSTA\n",
        "\n",
        "<br>\n",
        "\n",
        "b) Calcule $P[1 < X \\leq 3]$ para $a = 1$ e $b = 5$.\n",
        "\n",
        "<br>\n",
        "\n",
        "+ RESPOSTA\n",
        "\n",
        "<br>\n",
        "\n",
        "c) Calcule $P[-1 < X \\leq 2]$ para $a = 1$ e $b = 5$.\n",
        "\n",
        "<br>\n",
        "\n",
        "+ RESPOSTA\n",
        "\n",
        "<br>\n",
        "\n",
        "d) Calcule $P[- \\infty < X \\leq 1,5]$ para $a = 1$ e $b = 5$.\n",
        "\n",
        "<br>\n",
        "\n",
        "+ RESPOSTA\n",
        "\n",
        "<br>\n",
        "\n",
        "e) Calcule $P[0 < X \\leq 6]$ para $a = 1$ e $b = 5$.\n",
        "\n",
        "<br>\n",
        "\n",
        "+ RESPOSTA\n",
        "\n",
        "<br>"
      ],
      "metadata": {
        "id": "Ya3Cnwq78wtx"
      }
    },
    {
      "cell_type": "code",
      "source": [
        ""
      ],
      "metadata": {
        "id": "f9eTj05p82gp"
      },
      "execution_count": 13,
      "outputs": []
    },
    {
      "cell_type": "markdown",
      "source": [
        "### **Questão 6** – O tempo de transmissão X de mensagens em um sistema de comunicação obedece a lei de probabilidade exponencial com parâmetro $λ$, isto é $P[X > x] = e −λx, x > 0$. Calcule, $T = 1/λ$.\n"
      ],
      "metadata": {
        "id": "gv0jqxD6_SDQ"
      }
    },
    {
      "cell_type": "markdown",
      "source": [
        "a) Defina $F(x)$ - FDP de $X$\n",
        "\n",
        "\n",
        "<br>\n",
        "\n",
        "+ RESPOSTA\n"
      ],
      "metadata": {
        "id": "QkHjjUlb_au_"
      }
    },
    {
      "cell_type": "code",
      "source": [
        ""
      ],
      "metadata": {
        "id": "Ic62pSD-_aJ1"
      },
      "execution_count": 13,
      "outputs": []
    },
    {
      "cell_type": "markdown",
      "source": [
        "b) Calcule $f(x)$ - fdp de $X$.\n",
        "\n",
        "\n",
        "<br>\n",
        "\n",
        "+ RESPOSTA"
      ],
      "metadata": {
        "id": "qVa7spyo_kdW"
      }
    },
    {
      "cell_type": "code",
      "source": [
        ""
      ],
      "metadata": {
        "id": "3ulIay32_ozR"
      },
      "execution_count": 13,
      "outputs": []
    },
    {
      "cell_type": "markdown",
      "source": [
        "c) Calcule $P[T < X \\leq 2T]$ para $T = T = 1/λ.$\n",
        "\n",
        "\n",
        "<br>\n",
        "\n",
        "+ RESPOSTA\n"
      ],
      "metadata": {
        "id": "U63-FKSR_pWX"
      }
    },
    {
      "cell_type": "code",
      "source": [
        ""
      ],
      "metadata": {
        "id": "VJAqPOgH__Ws"
      },
      "execution_count": 13,
      "outputs": []
    }
  ]
}