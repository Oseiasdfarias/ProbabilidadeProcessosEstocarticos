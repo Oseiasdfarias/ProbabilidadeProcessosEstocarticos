{
  "nbformat": 4,
  "nbformat_minor": 0,
  "metadata": {
    "colab": {
      "name": "PDF-FEE-PPE-LE-U04-P01 Oseias_Dias_de_Farias 201733940002.ipynb",
      "provenance": [],
      "collapsed_sections": [],
      "authorship_tag": "ABX9TyNlVWbQhRWUOiXBl1Lv2mmK",
      "include_colab_link": true
    },
    "kernelspec": {
      "name": "python3",
      "display_name": "Python 3"
    },
    "language_info": {
      "name": "python"
    }
  },
  "cells": [
    {
      "cell_type": "markdown",
      "metadata": {
        "id": "view-in-github",
        "colab_type": "text"
      },
      "source": [
        "<a href=\"https://colab.research.google.com/github/Oseiasdfarias/ProbabilidadeProcessosEstocarticos/blob/main/LISTA_04_P1/PDF/PDF_FEE_PPE_LE_U04_P01_Oseias_Dias_de_Farias_201733940002.ipynb\" target=\"_parent\"><img src=\"https://colab.research.google.com/assets/colab-badge.svg\" alt=\"Open In Colab\"/></a>"
      ]
    },
    {
      "cell_type": "markdown",
      "source": [
        "# <center>Processos Estocásticos</center>\n",
        "## <center>Lista de Exercícios – Unidade 04 - Parte 1</center>\n",
        "\n",
        "<br>\n",
        "Aluno: Oséias Dias de Farias\n",
        "\n",
        "Matrícula: 201733940002"
      ],
      "metadata": {
        "id": "Cw2jpgVmejNd"
      }
    },
    {
      "cell_type": "markdown",
      "source": [
        "<br>\n",
        "\n",
        "## <center>4.1 – Conceito de Variável Aleatória (V.A.) e</center> \n",
        "## <center>4.2 – Probabilidade associada à variável aleatória (V.A.)</center>\n",
        "\n",
        "<br>\n",
        "\n",
        "---\n"
      ],
      "metadata": {
        "id": "jKxHlKJdesrq"
      }
    },
    {
      "cell_type": "markdown",
      "source": [
        "### **Questão 1** – Um experimento $(E)$ consiste em jogar uma moeda 4 vezes.\n"
      ],
      "metadata": {
        "id": "wQW-OX41exHG"
      }
    },
    {
      "cell_type": "markdown",
      "source": [
        "**A)** Especifique o espaço amostral $(S)$, onde $C$ corresponde a “cara\"e $K$ corresponde a “coroa\".\n",
        "\n",
        "<br>\n",
        "\n",
        "+ RESPOSTA\n",
        "\n",
        "<br>\n",
        "\n",
        "S = [ \n",
        "  \n",
        "  KKKK, KKKC, KKCK, KKCC,\n",
        "  \n",
        "  KCKK, KCCK, KCKC, KCCC,\n",
        "  \n",
        "  CCCC, CCCK, CCKC, CCKK,\n",
        "  \n",
        "  CKCC,CKCK, CKKC, CKKK\n",
        "  \n",
        "  ]\n",
        "\n",
        "\n",
        "<br>\n",
        "\n",
        "---\n",
        "\n",
        "<br>\n",
        "\n",
        "**B)** Seja a Variável Aleatória $(X)$ a ocorrencia de “coroas” nas 4 jogadas. Especifique os resultados de $S$, os valores de $X$ correspondentes (contradomínio $R_x$) e a probabilidade de cada valor de $X$.\n",
        "\n",
        "<br>\n",
        "\n",
        "+ RESPOSTA\n",
        "\n",
        "<img src=\"https://github.com/Oseiasdfarias/ProbabilidadeProcessosEstocarticos/blob/main/LISTA_04_P1/Q1_B.png?raw=true\" alt=\"some text\" width=70% height=70%>"
      ],
      "metadata": {
        "id": "q_x3DrK2e1bE"
      }
    },
    {
      "cell_type": "markdown",
      "source": [
        "---\n",
        "\n",
        "<br>\n",
        "\n",
        "### **Questão 2** – Um experimento $(E)$ consiste em jogar 3 dados (de 6 faces).\n"
      ],
      "metadata": {
        "id": "IKBhKL_2fmoX"
      }
    },
    {
      "cell_type": "markdown",
      "source": [
        "**A)** Especifique o espaço amostral $(S)$. Especificando a ocorrencia das faces pelo número correspondente (1, 2, 3, 4, 5 ou 6).\n",
        "\n",
        "\n",
        "<br>\n",
        "\n",
        "+ RESPOSTA\n",
        "\n",
        "E = [\n",
        "  \n",
        " x(0,0,0),   x(0,0,1),   x(0,0,2),   x(0,0,3),   x(0,0,4),   x(0,0,5),   x(0,0,6),  \n",
        " x(0,1,0),   x(0,1,1),   x(0,1,2),   x(0,1,3),   x(0,1,4),   x(0,1,5),   x(0,1,6),  \n",
        " x(0,2,0),   x(0,2,1),   x(0,2,2),   x(0,2,3),   x(0,2,4),   x(0,2,5),   x(0,2,6),  \n",
        " x(0,3,0),   x(0,3,1),   x(0,3,2),   x(0,3,3),   x(0,3,4),   x(0,3,5),   x(0,3,6),  \n",
        " x(0,4,0),   x(0,4,1),   x(0,4,2),   x(0,4,3),   x(0,4,4),   x(0,4,5),   x(0,4,6),  \n",
        " x(0,5,0),   x(0,5,1),   x(0,5,2),   x(0,5,3),   x(0,5,4),   x(0,5,5),   x(0,5,6),  \n",
        " x(0,6,0),   x(0,6,1),   x(0,6,2),   x(0,6,3),   x(0,6,4),   x(0,6,5),   x(0,6,6),  \n",
        "\n",
        "\n",
        " x(1,0,0),   x(1,0,1),   x(1,0,2),   x(1,0,3),   x(1,0,4),   x(1,0,5),   x(1,0,6),  \n",
        " x(1,1,0),   x(1,1,1),   x(1,1,2),   x(1,1,3),   x(1,1,4),   x(1,1,5),   x(1,1,6),  \n",
        " x(1,2,0),   x(1,2,1),   x(1,2,2),   x(1,2,3),   x(1,2,4),   x(1,2,5),   x(1,2,6),  \n",
        " x(1,3,0),   x(1,3,1),   x(1,3,2),   x(1,3,3),   x(1,3,4),   x(1,3,5),   x(1,3,6),  \n",
        " x(1,4,0),   x(1,4,1),   x(1,4,2),   x(1,4,3),   x(1,4,4),   x(1,4,5),   x(1,4,6),  \n",
        " x(1,5,0),   x(1,5,1),   x(1,5,2),   x(1,5,3),   x(1,5,4),   x(1,5,5),   x(1,5,6),  \n",
        " x(1,6,0),   x(1,6,1),   x(1,6,2),   x(1,6,3),   x(1,6,4),   x(1,6,5),   x(1,6,6),  \n",
        "\n",
        "\n",
        " x(2,0,0),   x(2,0,1),   x(2,0,2),   x(2,0,3),   x(2,0,4),   x(2,0,5),   x(2,0,6),  \n",
        " x(2,1,0),   x(2,1,1),   x(2,1,2),   x(2,1,3),   x(2,1,4),   x(2,1,5),   x(2,1,6),  \n",
        " x(2,2,0),   x(2,2,1),   x(2,2,2),   x(2,2,3),   x(2,2,4),   x(2,2,5),   x(2,2,6),  \n",
        " x(2,3,0),   x(2,3,1),   x(2,3,2),   x(2,3,3),   x(2,3,4),   x(2,3,5),   x(2,3,6),  \n",
        " x(2,4,0),   x(2,4,1),   x(2,4,2),   x(2,4,3),   x(2,4,4),   x(2,4,5),   x(2,4,6),  \n",
        " x(2,5,0),   x(2,5,1),   x(2,5,2),   x(2,5,3),   x(2,5,4),   x(2,5,5),   x(2,5,6),  \n",
        " x(2,6,0),   x(2,6,1),   x(2,6,2),   x(2,6,3),   x(2,6,4),   x(2,6,5),   x(2,6,6),  \n",
        "\n",
        "\n",
        " x(3,0,0),   x(3,0,1),   x(3,0,2),   x(3,0,3),   x(3,0,4),   x(3,0,5),   x(3,0,6),  \n",
        " x(3,1,0),   x(3,1,1),   x(3,1,2),   x(3,1,3),   x(3,1,4),   x(3,1,5),   x(3,1,6),  \n",
        " x(3,2,0),   x(3,2,1),   x(3,2,2),   x(3,2,3),   x(3,2,4),   x(3,2,5),   x(3,2,6),  \n",
        " x(3,3,0),   x(3,3,1),   x(3,3,2),   x(3,3,3),   x(3,3,4),   x(3,3,5),   x(3,3,6),  \n",
        " x(3,4,0),   x(3,4,1),   x(3,4,2),   x(3,4,3),   x(3,4,4),   x(3,4,5),   x(3,4,6),  \n",
        " x(3,5,0),   x(3,5,1),   x(3,5,2),   x(3,5,3),   x(3,5,4),   x(3,5,5),   x(3,5,6),  \n",
        " x(3,6,0),   x(3,6,1),   x(3,6,2),   x(3,6,3),   x(3,6,4),   x(3,6,5),   x(3,6,6),  \n",
        "\n",
        "\n",
        " x(4,0,0),   x(4,0,1),   x(4,0,2),   x(4,0,3),   x(4,0,4),   x(4,0,5),   x(4,0,6),  \n",
        " x(4,1,0),   x(4,1,1),   x(4,1,2),   x(4,1,3),   x(4,1,4),   x(4,1,5),   x(4,1,6),  \n",
        " x(4,2,0),   x(4,2,1),   x(4,2,2),   x(4,2,3),   x(4,2,4),   x(4,2,5),   x(4,2,6),  \n",
        " x(4,3,0),   x(4,3,1),   x(4,3,2),   x(4,3,3),   x(4,3,4),   x(4,3,5),   x(4,3,6),  \n",
        " x(4,4,0),   x(4,4,1),   x(4,4,2),   x(4,4,3),   x(4,4,4),   x(4,4,5),   x(4,4,6),  \n",
        " x(4,5,0),   x(4,5,1),   x(4,5,2),   x(4,5,3),   x(4,5,4),   x(4,5,5),   x(4,5,6),  \n",
        " x(4,6,0),   x(4,6,1),   x(4,6,2),   x(4,6,3),   x(4,6,4),   x(4,6,5),   x(4,6,6),  \n",
        "\n",
        "\n",
        " x(5,0,0),   x(5,0,1),   x(5,0,2),   x(5,0,3),   x(5,0,4),   x(5,0,5),   x(5,0,6),  \n",
        " x(5,1,0),   x(5,1,1),   x(5,1,2),   x(5,1,3),   x(5,1,4),   x(5,1,5),   x(5,1,6),  \n",
        " x(5,2,0),   x(5,2,1),   x(5,2,2),   x(5,2,3),   x(5,2,4),   x(5,2,5),   x(5,2,6),  \n",
        " x(5,3,0),   x(5,3,1),   x(5,3,2),   x(5,3,3),   x(5,3,4),   x(5,3,5),   x(5,3,6),  \n",
        " x(5,4,0),   x(5,4,1),   x(5,4,2),   x(5,4,3),   x(5,4,4),   x(5,4,5),   x(5,4,6),  \n",
        " x(5,5,0),   x(5,5,1),   x(5,5,2),   x(5,5,3),   x(5,5,4),   x(5,5,5),   x(5,5,6),  \n",
        " x(5,6,0),   x(5,6,1),   x(5,6,2),   x(5,6,3),   x(5,6,4),   x(5,6,5),   x(5,6,6),  \n",
        "\n",
        "\n",
        " x(6,0,0),   x(6,0,1),   x(6,0,2),   x(6,0,3),   x(6,0,4),   x(6,0,5),   x(6,0,6),  \n",
        " x(6,1,0),   x(6,1,1),   x(6,1,2),   x(6,1,3),   x(6,1,4),   x(6,1,5),   x(6,1,6),  \n",
        " x(6,2,0),   x(6,2,1),   x(6,2,2),   x(6,2,3),   x(6,2,4),   x(6,2,5),   x(6,2,6),  \n",
        " x(6,3,0),   x(6,3,1),   x(6,3,2),   x(6,3,3),   x(6,3,4),   x(6,3,5),   x(6,3,6),  \n",
        " x(6,4,0),   x(6,4,1),   x(6,4,2),   x(6,4,3),   x(6,4,4),   x(6,4,5),   x(6,4,6),  \n",
        " x(6,5,0),   x(6,5,1),   x(6,5,2),   x(6,5,3),   x(6,5,4),   x(6,5,5),   x(6,5,6),  \n",
        " x(6,6,0),   x(6,6,1),   x(6,6,2),   x(6,6,3),   x(6,6,4),   x(6,6,5),   x(6,6,6),  \n",
        "\n",
        "\n",
        "]\n",
        "\n"
      ],
      "metadata": {
        "id": "tGRL5qn5frXc"
      }
    },
    {
      "cell_type": "markdown",
      "source": [
        "\n",
        "<br>\n",
        "\n",
        "**B)** Seja a Variável Aleatória $(X)$ a soma dos valores das duas primeiras faces menos o valor da terceira. Especifique os resultados de $S$, os valores de $X$ correspondentes (contradomínio $R_x$) e a probabilidade de cada valor de $X$.\n",
        "\n",
        "\n",
        "<br>\n",
        "\n",
        "+ RESPOSTA\n",
        "\n",
        "<br>\n",
        "\n",
        "OBS: Resultados de $S$ no Jupyter Notebook\n",
        "\n",
        "<br>\n",
        "\n",
        "**Contradomínio $R_x$**\n",
        "\n",
        "Rx = [0, -1, -2, -3, -4, -5, -6, 1, 2, 3, 4, 5, 6, 7, 8, 9, 10, 11, 12]\n",
        "\n",
        "<br>\n",
        "\n",
        "**Probabilidade de cada valor de $X$**\n",
        "\n",
        "$X_0 = 0.00291545 , X_1 = 0.00874636, X_2 = 0.01749271$\n",
        "\n",
        "$X_3 = 0.02915452, X_4 = 0.04373178, X_5 = 0.06122449$\n",
        "\n",
        "$X_6 = 0.08163265, X_7 = 0.09620991, X_8 = 0.10495627$\n",
        "\n",
        "$X_9 = 0.10787172, X_{10} = 0.10495627, X_{11} = 0.09620991$\n",
        "\n",
        "$X_{12} = 0.08163265, X_{13} = 0.06122449, X_{14} = 0.04373178$\n",
        "\n",
        "$X_{15} = 0.02915452, X_{16} = 0.01749271, X_{17} = 0.00874636$\n",
        "\n",
        "$X_{18} = 0.00291545$\n",
        "\n",
        "<br>\n",
        "\n",
        "---\n",
        "\n",
        "<br>"
      ],
      "metadata": {
        "id": "CUE-G32Uf6Aa"
      }
    },
    {
      "cell_type": "markdown",
      "source": [
        "<br>\n",
        "\n",
        "## <center>4.3 – Variáveis aleatórias discretas e contínuas e </center>\n",
        "## <center>4.4 – Funções de variáveis aleatórias $(V.A.)$ – fdp e FDP</center>\n"
      ],
      "metadata": {
        "id": "-cgHgksPgS-B"
      }
    },
    {
      "cell_type": "markdown",
      "source": [
        "### **Questão 3** – Com base na **Questão 1**. Determine:\n"
      ],
      "metadata": {
        "id": "TSuUPyTfgYIm"
      }
    },
    {
      "cell_type": "markdown",
      "source": [
        "**A)** $p(x_i)-$fdp de $X$.\n",
        "\n",
        "\n",
        "<br>\n",
        "\n",
        "+ RESPOSTA\n",
        "\n",
        "\n",
        "<br>\n",
        "\n",
        "|x_i \t     | 0 \t  | 1 \t| 2   \t| 3 \t| 4 \t  |\n",
        "|-----\t   |---\t  |---\t|---\t  |---\t|---\t  |\n",
        "|P[X = x_i]| 0.0625 |0.25  |  0.375 | 0.25  |  0.0625 |\n",
        "\n",
        "\n",
        "<br>"
      ],
      "metadata": {
        "id": "6sqd1BZsgfm8"
      }
    },
    {
      "cell_type": "markdown",
      "source": [
        "\n",
        "\n",
        "<br>\n",
        "\n",
        "**B)** $F(x_i)-$FDP de $X$.\n",
        "\n",
        "\n",
        "<br>\n",
        "\n",
        "+ RESPOSTA\n",
        "\n",
        "<br>\n",
        "\n",
        "|x_i \t     | 0 \t  | 1 \t| 2   \t| 3 \t| 4 \t  |\n",
        "|-----\t   |---\t  |---\t|---\t  |---\t|---\t  |\n",
        "|F[X = x_i]| 0,0625 | 0,3125 |  0,6875 | 0,9375  |  1,00 |\n",
        "\n",
        "\n",
        "<br>\n",
        "\n",
        "$ P[x \\leq 0] = 0,0625$\n",
        "\n",
        "$ P[x \\leq 1] = 0,3125$\n",
        "\n",
        "$ P[x \\leq 2] = 0,6875$\n",
        "\n",
        "$ P[x \\leq 3] = 0,9375$\n",
        "\n",
        "$ P[x \\leq 3] = 1,00$\n",
        "\n",
        "\n",
        "\n",
        "<br>\n",
        "\n",
        "---\n",
        "\n",
        "<br>"
      ],
      "metadata": {
        "id": "DJAtn5_Agvbf"
      }
    },
    {
      "cell_type": "markdown",
      "source": [
        "### **Questão 4** – Com base na **Questão 2**. Determine:\n"
      ],
      "metadata": {
        "id": "kftJxiwxg2SJ"
      }
    },
    {
      "cell_type": "markdown",
      "source": [
        "a) $p(x_i)-$fdp de $X$.\n",
        "\n",
        "\n",
        "<br>\n",
        "\n",
        "+ RESPOSTA\n",
        "\n",
        "<br>\n",
        "\n",
        "\n",
        "| x_i| 0 | 1 | 2 | 3 | 4 | 5 | 6 | 7 | 8 | 9 |\n",
        "|------|---|---|---|---|---|---|---|---|---|--- |\n",
        "|P[X = x_i] |0.00291545 |  0.00874636 | 0.01749271 | 0.02915452 | 0.04373178 | 0.06122449 | 0.08163265 | 0.09620991  | 0.10495627| 0.10787172 |\n",
        "|x_i | 10 | 11 | 12 | 13 | 14 | 15 | 16 | 17 | 18|\n",
        "|P[X = x_i] | 0.10495627 | 0.09620991 | 0.08163265 | 0.06122449 | 0.04373178 | 0.02915452 | 0.01749271 | 0.00874636|  0.00291545|\n",
        "\n",
        "<br>"
      ],
      "metadata": {
        "id": "pILTFlxGg72S"
      }
    },
    {
      "cell_type": "markdown",
      "source": [
        "<br>\n",
        "\n",
        "b) $F(x_i)-$FDP de $X$.\n",
        "\n",
        "\n",
        "<br>\n",
        "\n",
        "+ RESPOSTA\n",
        "\n",
        "<br>\n",
        "\n",
        "\n",
        "\n",
        "| x_i| 0 | 1 | 2 | 3 | 4 | 5 | 6 | 7 | 8 | 9 |\n",
        "|------|---|---|---|---|---|---|---|---|---|--- |\n",
        "|P[X = x_i] |0,0029 |  0,0117 | 0,0292 | 0,0583 | 0,1020 | 0,1633 | 0,2449 | 0,3411 | 0,4461| 0,5539 |\n",
        "|x_i | 10 | 11 | 12 | 13 | 14 | 15 | 16 | 17 | 18|\n",
        "|P[X = x_i] | 0,6589 | 0,7551 | 0,8367 | 0,8980 | 0,9417 | 0,9708 | 0,9883 | 0,9971 | 1,00 |\n",
        "\n",
        "\n",
        "<br>\n",
        "\n",
        "\n",
        "$P[x \\leq -6] = 0,0029$\n",
        "\n",
        "$P[x \\leq -5] = 0,0117$\n",
        "\n",
        "$P[x \\leq -4] = 0,0292$\n",
        "\n",
        "$P[x \\leq -3] = 0,0583$\n",
        "\n",
        "$P[x \\leq -2] = 0,1020$\n",
        "\n",
        "$P[x \\leq -1] = 0,1633$\n",
        "\n",
        "$P[x \\leq 0] = 0,2449$\n",
        "\n",
        "$P[x \\leq 1] = 0,3411$\n",
        "\n",
        "$P[x \\leq 2] = 0,4461$\n",
        "\n",
        "$P[x \\leq 3] = 0,5539$\n",
        "\n",
        "$P[x \\leq 4] = 0,6589$\n",
        "\n",
        "$P[x \\leq 5] = 0,7551$\n",
        "\n",
        "$P[x \\leq 6] = 0,8367$\n",
        "\n",
        "$P[x \\leq 7] = 0,8980$\n",
        "\n",
        "$P[x \\leq 8] = 0,9417$\n",
        "\n",
        "$P[x \\leq 9] = 0,9708$\n",
        "\n",
        "$P[x \\leq 10] = 0,9883$\n",
        "\n",
        "$P[x \\leq 11] = 0,9971$\n",
        "\n",
        "$P[x \\leq 12] = 1,00$\n",
        "\n",
        "<br>\n",
        "\n",
        "---"
      ],
      "metadata": {
        "id": "pT1zEc35hClh"
      }
    },
    {
      "cell_type": "markdown",
      "source": [
        "### **Questão 5** – Uma função distribuição de probabilidade acumulada FDP é definida da seguinte forma:\n",
        "\n",
        "- $X < a \\rightarrow F = 0;$\n",
        "- $a \\leq X \\leq b \\rightarrow F = \\dfrac{x-a}{b-a};$\n",
        "- $X > b \\rightarrow F = 1;$\n",
        "\n",
        "<br>\n",
        "\n",
        "a) Calcule $f(x)$ - fdp de $X$.\n",
        "\n",
        "<br>\n",
        "\n",
        "+ RESPOSTA\n",
        "\n",
        "<br>\n",
        "\n",
        "$$f(x) = \\dfrac{dF(x)}{dx} =  \\dfrac{d(0)}{dx} + \\dfrac{d(\\dfrac{x-a}{b-a})}{dx} + \\dfrac{d(1)}{dx}$$\n",
        "\n",
        "<br>\n",
        "\n",
        "$$f(x) = 0 + \\dfrac{1}{b-a} + 0$$\n",
        "\n",
        "<br>\n",
        "\n",
        "$$f(x) = \\dfrac{1}{b-a}$$\n",
        "\n",
        "<br><br>\n",
        "\n",
        "b) Calcule $P[1 < X \\leq 3]$ para $a = 1$ e $b = 5$.\n",
        "\n",
        "<br>\n",
        "\n",
        "+ RESPOSTA\n",
        "\n",
        "$$f(x) = \\dfrac{1}{b-a}$$ \\\\\n",
        "\n",
        "Assim temos:\n",
        "\n",
        "$$f(x) = \\dfrac{1}{5-1} = \\dfrac{1}{4}$$ \\\\\n",
        "\n",
        "<br>\n",
        "\n",
        "\\begin{equation}\n",
        "P[1 < X \\leq 3] = \\int_1^3 \\! \\dfrac{1}{4} \\, \\mathrm{d}x = \\tfrac{1}{4} x \\Big|_1^3 = \\dfrac{1}{4} \\cdot 3 - \\dfrac{1}{4}\\cdot 1\n",
        "\\end{equation}\n",
        "\n",
        "<br>\n",
        "\n",
        "$$ P[1 < X \\leq 3] = \\dfrac{1}{2}$$\n",
        "\n",
        "<br><br>\n",
        "\n",
        "c) Calcule $P[-1 < X \\leq 2]$ para $a = 1$ e $b = 5$.\n",
        "\n",
        "<br>\n",
        "\n",
        "+ RESPOSTA\n",
        "\n",
        "<br>\n",
        "\n",
        "\\begin{equation}\n",
        "P[1 < X \\leq 3] = \\int_{-1}^1 \\! 0 \\, \\mathrm{d}x + \\int_{1}^2 \\! \\dfrac{1}{4} \\, \\mathrm{d}x = \\dfrac{1}{4}x \\Big|_1^2 = \\dfrac{1}{4}\\cdot2 - \\dfrac{1}{4}\\cdot1\n",
        "\\end{equation}\n",
        "\n",
        "<br>\n",
        "\n",
        "$$ P[1 < X \\leq 3] = \\dfrac{1}{4}$$\n",
        "\n",
        "<br><br>\n",
        "\n",
        "d) Calcule $P[- \\infty < X \\leq 1,5]$ para $a = 1$ e $b = 5$.\n",
        "\n",
        "<br>\n",
        "\n",
        "+ RESPOSTA\n",
        "\n",
        "\n",
        "\\begin{equation}\n",
        "P[1 < X \\leq 3] = \\int_{-\\infty}^1 \\! 0 \\, \\mathrm{d}x + \\int_{1}^{1,5} \\! \\dfrac{1}{4} \\, \\mathrm{d}x = \\dfrac{1}{4}x \\Big|_1^{1,5} = \\dfrac{1}{4} \\cdot {1,5} - \\dfrac{1}{4} \\cdot 1\n",
        "\\end{equation}\n",
        "\n",
        "<br>\n",
        "\n",
        "$$ P[1 < X \\leq 3] = \\dfrac{1}{8}$$\n",
        "\n",
        "<br><br>\n",
        "\n",
        "e) Calcule $P[0 < X \\leq 6]$ para $a = 1$ e $b = 5$.\n",
        "\n",
        "<br>\n",
        "\n",
        "+ RESPOSTA\n",
        "\n",
        "\\begin{equation}\n",
        "P[1 < X \\leq 3] = \\int_0^1 \\! 0 \\, \\mathrm{d}x + \\int_{1}^5 \\! \\dfrac{1}{4} \\, \\mathrm{d}x +\\int_5^6 \\! 0 \\, \\mathrm{d}x = 0 +  \\dfrac{1}{4}x \\Big|_1^5 + 0 = \\dfrac{1}{4} \\cdot 5 - \\dfrac{1}{4} \\cdot 1\n",
        "\\end{equation}\n",
        "\n",
        "<br>\n",
        "\n",
        "$$ P[1 < X \\leq 3] = 1$$\n",
        "\n",
        "<br>\n",
        "\n",
        "---\n",
        "\n",
        "<br>"
      ],
      "metadata": {
        "id": "Ya3Cnwq78wtx"
      }
    },
    {
      "cell_type": "markdown",
      "source": [
        "### **Questão 6** – O tempo de transmissão X de mensagens em um sistema de comunicação obedece a lei de probabilidade exponencial com parâmetro $λ$, isto é $P[X > x] = e −λx, x > 0$. Calcule, $T = 1/λ$.\n"
      ],
      "metadata": {
        "id": "gv0jqxD6_SDQ"
      }
    },
    {
      "cell_type": "markdown",
      "source": [
        "a) Defina $F(x)$ - FDP de $X$\n",
        "\n",
        "\n",
        "<br>\n",
        "\n",
        "+ RESPOSTA\n",
        "\n",
        "$$P[X > x] = e^{-\\lambda x}$$\n",
        "\n",
        "<br>\n",
        "\n",
        "$$F(x) = P[X \\leq x] = 1 - P[X > x]$$\n",
        "\n",
        "<br>\n",
        "\n",
        "$$F(x) = 1 - e^{-\\lambda x}$$\n",
        "\n",
        "\n",
        "<br>\n"
      ],
      "metadata": {
        "id": "QkHjjUlb_au_"
      }
    },
    {
      "cell_type": "markdown",
      "source": [
        "b) Calcule $f(x)$ - fdp de $X$.\n",
        "\n",
        "\n",
        "<br>\n",
        "\n",
        "+ RESPOSTA\n",
        "\n",
        "\n",
        "$$f(x) = \\dfrac{dF(x)}{dx}$$\n",
        "\n",
        "<br>\n",
        "\n",
        "$$f(x) = \\dfrac{d(1 - e^{-\\lambda x})}{dx} = \\lambda e^{-\\lambda x}$$\n",
        "\n",
        "<br>\n"
      ],
      "metadata": {
        "id": "qVa7spyo_kdW"
      }
    },
    {
      "cell_type": "markdown",
      "source": [
        "c) Calcule $P[T < X \\leq 2T]$ para $T = T = 1/λ.$\n",
        "\n",
        "\n",
        "<br>\n",
        "\n",
        "+ RESPOSTA\n",
        "\n",
        "\\begin{equation}\n",
        "P[T < X \\leq 2T] = \\int_{\\frac{1}{\\lambda}}^{\\frac{2}{\\lambda}} \\! \\lambda e^{-\\lambda x} \\, \\mathrm{d}x = -e^{-\\lambda x}\\Big|_{\\frac{1}{\\lambda}}^{\\frac{2}{\\lambda}} = -e^{-\\frac{2}{\\lambda}\\lambda} + e^{-\\frac{1}{\\lambda}\\lambda}\n",
        "\\end{equation}\n",
        "\n",
        "<br>\n",
        "\n",
        "$$P[T < X \\leq 2T] = -e^{-2} + e^{-1} = 0,2325$$\n",
        "\n",
        "<br>\n"
      ],
      "metadata": {
        "id": "U63-FKSR_pWX"
      }
    },
    {
      "cell_type": "code",
      "source": [
        ""
      ],
      "metadata": {
        "id": "VJAqPOgH__Ws"
      },
      "execution_count": null,
      "outputs": []
    }
  ]
}