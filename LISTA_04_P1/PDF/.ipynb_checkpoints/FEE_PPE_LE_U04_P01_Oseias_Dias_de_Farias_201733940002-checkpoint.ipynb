{
 "cells": [
  {
   "cell_type": "markdown",
   "metadata": {
    "colab_type": "text",
    "id": "view-in-github"
   },
   "source": [
    "<a href=\"https://colab.research.google.com/github/Oseiasdfarias/ProbabilidadeProcessosEstocarticos/blob/main/LISTA_04_P1/PDF/COLAB_FEE_PPE_LE_U04_P01_Oseias_Dias_de_Farias_201733940002.ipynb\" target=\"_parent\"><img src=\"https://colab.research.google.com/assets/colab-badge.svg\" alt=\"Open In Colab\"/></a>"
   ]
  },
  {
   "cell_type": "markdown",
   "metadata": {
    "id": "Cw2jpgVmejNd"
   },
   "source": [
    "# <center>Processos Estocásticos</center>\n",
    "## <center>Lista de Exercícios – Unidade 04 - Parte 1</center>\n",
    "\n",
    "<br>\n",
    "Aluno: Oséias Dias de Farias\n",
    "\n",
    "Matrícula: 201733940002"
   ]
  },
  {
   "cell_type": "markdown",
   "metadata": {
    "id": "jKxHlKJdesrq"
   },
   "source": [
    "<br>\n",
    "\n",
    "## <center>4.1 – Conceito de Variável Aleatória (V.A.) e</center> \n",
    "## <center>4.2 – Probabilidade associada à variável aleatória (V.A.)</center>\n",
    "\n",
    "<br>\n"
   ]
  },
  {
   "cell_type": "markdown",
   "metadata": {
    "id": "wQW-OX41exHG"
   },
   "source": [
    "### **Questão 1** – Um experimento $(E)$ consiste em jogar uma moeda 4 vezes.\n"
   ]
  },
  {
   "cell_type": "markdown",
   "metadata": {
    "id": "q_x3DrK2e1bE"
   },
   "source": [
    "**A)** Especifique o espaço amostral $(S)$, onde $C$ corresponde a “cara\"e $K$ corresponde a “coroa\".\n",
    "\n",
    "<br>\n",
    "\n",
    "+ RESPOSTA\n",
    "\n",
    "<br>\n",
    "\n",
    "S = [ \n",
    "  \n",
    "  KKKK, KKKC, KKCK, KKCC,\n",
    "  \n",
    "  KCKK, KCCK, KCKC, KCCC,\n",
    "  \n",
    "  CCCC, CCCK, CCKC, CCKK,\n",
    "  \n",
    "  CKCC,CKCK, CKKC, CKKK\n",
    "  \n",
    "  ]\n",
    "\n",
    "\n",
    "<br>\n",
    "\n",
    "---\n",
    "\n",
    "<br>\n",
    "\n",
    "**B)** Seja a Variável Aleatória $(X)$ a ocorrencia de “coroas” nas 4 jogadas. Especifique os resultados de $S$, os valores de $X$ correspondentes (contradomínio $R_x$) e a probabilidade de cada valor de $X$.\n",
    "\n",
    "<br>\n",
    "\n",
    "+ RESPOSTA\n",
    "\n",
    "<img src=\"https://github.com/Oseiasdfarias/ProbabilidadeProcessosEstocarticos/blob/main/LISTA_04_P1/Q1_B.png?raw=true\" alt=\"some text\" width=70% height=70%>"
   ]
  },
  {
   "cell_type": "markdown",
   "metadata": {
    "id": "IKBhKL_2fmoX"
   },
   "source": [
    "<br>\n",
    "\n",
    "### **Questão 2** – Um experimento $(E)$ consiste em jogar 3 dados (de 6 faces).\n"
   ]
  },
  {
   "cell_type": "markdown",
   "metadata": {
    "id": "tGRL5qn5frXc"
   },
   "source": [
    "**A)** Especifique o espaço amostral $(S)$. Especificando a ocorrencia das faces pelo número correspondente (1, 2, 3, 4, 5 ou 6).\n",
    "\n",
    "\n",
    "<br>\n",
    "\n",
    "+ RESPOSTA\n"
   ]
  },
  {
   "cell_type": "code",
   "execution_count": 1,
   "metadata": {
    "colab": {
     "base_uri": "https://localhost:8080/"
    },
    "id": "xaJchslHfprA",
    "outputId": "55cd30fa-5f0d-467e-a767-0ebfbf899ad5"
   },
   "outputs": [
    {
     "name": "stdout",
     "output_type": "stream",
     "text": [
      "E = [\n",
      " x(0,0,0),   x(0,0,1),   x(0,0,2),   x(0,0,3),   x(0,0,4),   x(0,0,5),   x(0,0,6),  \n",
      " x(0,1,0),   x(0,1,1),   x(0,1,2),   x(0,1,3),   x(0,1,4),   x(0,1,5),   x(0,1,6),  \n",
      " x(0,2,0),   x(0,2,1),   x(0,2,2),   x(0,2,3),   x(0,2,4),   x(0,2,5),   x(0,2,6),  \n",
      " x(0,3,0),   x(0,3,1),   x(0,3,2),   x(0,3,3),   x(0,3,4),   x(0,3,5),   x(0,3,6),  \n",
      " x(0,4,0),   x(0,4,1),   x(0,4,2),   x(0,4,3),   x(0,4,4),   x(0,4,5),   x(0,4,6),  \n",
      " x(0,5,0),   x(0,5,1),   x(0,5,2),   x(0,5,3),   x(0,5,4),   x(0,5,5),   x(0,5,6),  \n",
      " x(0,6,0),   x(0,6,1),   x(0,6,2),   x(0,6,3),   x(0,6,4),   x(0,6,5),   x(0,6,6),  \n",
      "\n",
      "\n",
      " x(1,0,0),   x(1,0,1),   x(1,0,2),   x(1,0,3),   x(1,0,4),   x(1,0,5),   x(1,0,6),  \n",
      " x(1,1,0),   x(1,1,1),   x(1,1,2),   x(1,1,3),   x(1,1,4),   x(1,1,5),   x(1,1,6),  \n",
      " x(1,2,0),   x(1,2,1),   x(1,2,2),   x(1,2,3),   x(1,2,4),   x(1,2,5),   x(1,2,6),  \n",
      " x(1,3,0),   x(1,3,1),   x(1,3,2),   x(1,3,3),   x(1,3,4),   x(1,3,5),   x(1,3,6),  \n",
      " x(1,4,0),   x(1,4,1),   x(1,4,2),   x(1,4,3),   x(1,4,4),   x(1,4,5),   x(1,4,6),  \n",
      " x(1,5,0),   x(1,5,1),   x(1,5,2),   x(1,5,3),   x(1,5,4),   x(1,5,5),   x(1,5,6),  \n",
      " x(1,6,0),   x(1,6,1),   x(1,6,2),   x(1,6,3),   x(1,6,4),   x(1,6,5),   x(1,6,6),  \n",
      "\n",
      "\n",
      " x(2,0,0),   x(2,0,1),   x(2,0,2),   x(2,0,3),   x(2,0,4),   x(2,0,5),   x(2,0,6),  \n",
      " x(2,1,0),   x(2,1,1),   x(2,1,2),   x(2,1,3),   x(2,1,4),   x(2,1,5),   x(2,1,6),  \n",
      " x(2,2,0),   x(2,2,1),   x(2,2,2),   x(2,2,3),   x(2,2,4),   x(2,2,5),   x(2,2,6),  \n",
      " x(2,3,0),   x(2,3,1),   x(2,3,2),   x(2,3,3),   x(2,3,4),   x(2,3,5),   x(2,3,6),  \n",
      " x(2,4,0),   x(2,4,1),   x(2,4,2),   x(2,4,3),   x(2,4,4),   x(2,4,5),   x(2,4,6),  \n",
      " x(2,5,0),   x(2,5,1),   x(2,5,2),   x(2,5,3),   x(2,5,4),   x(2,5,5),   x(2,5,6),  \n",
      " x(2,6,0),   x(2,6,1),   x(2,6,2),   x(2,6,3),   x(2,6,4),   x(2,6,5),   x(2,6,6),  \n",
      "\n",
      "\n",
      " x(3,0,0),   x(3,0,1),   x(3,0,2),   x(3,0,3),   x(3,0,4),   x(3,0,5),   x(3,0,6),  \n",
      " x(3,1,0),   x(3,1,1),   x(3,1,2),   x(3,1,3),   x(3,1,4),   x(3,1,5),   x(3,1,6),  \n",
      " x(3,2,0),   x(3,2,1),   x(3,2,2),   x(3,2,3),   x(3,2,4),   x(3,2,5),   x(3,2,6),  \n",
      " x(3,3,0),   x(3,3,1),   x(3,3,2),   x(3,3,3),   x(3,3,4),   x(3,3,5),   x(3,3,6),  \n",
      " x(3,4,0),   x(3,4,1),   x(3,4,2),   x(3,4,3),   x(3,4,4),   x(3,4,5),   x(3,4,6),  \n",
      " x(3,5,0),   x(3,5,1),   x(3,5,2),   x(3,5,3),   x(3,5,4),   x(3,5,5),   x(3,5,6),  \n",
      " x(3,6,0),   x(3,6,1),   x(3,6,2),   x(3,6,3),   x(3,6,4),   x(3,6,5),   x(3,6,6),  \n",
      "\n",
      "\n",
      " x(4,0,0),   x(4,0,1),   x(4,0,2),   x(4,0,3),   x(4,0,4),   x(4,0,5),   x(4,0,6),  \n",
      " x(4,1,0),   x(4,1,1),   x(4,1,2),   x(4,1,3),   x(4,1,4),   x(4,1,5),   x(4,1,6),  \n",
      " x(4,2,0),   x(4,2,1),   x(4,2,2),   x(4,2,3),   x(4,2,4),   x(4,2,5),   x(4,2,6),  \n",
      " x(4,3,0),   x(4,3,1),   x(4,3,2),   x(4,3,3),   x(4,3,4),   x(4,3,5),   x(4,3,6),  \n",
      " x(4,4,0),   x(4,4,1),   x(4,4,2),   x(4,4,3),   x(4,4,4),   x(4,4,5),   x(4,4,6),  \n",
      " x(4,5,0),   x(4,5,1),   x(4,5,2),   x(4,5,3),   x(4,5,4),   x(4,5,5),   x(4,5,6),  \n",
      " x(4,6,0),   x(4,6,1),   x(4,6,2),   x(4,6,3),   x(4,6,4),   x(4,6,5),   x(4,6,6),  \n",
      "\n",
      "\n",
      " x(5,0,0),   x(5,0,1),   x(5,0,2),   x(5,0,3),   x(5,0,4),   x(5,0,5),   x(5,0,6),  \n",
      " x(5,1,0),   x(5,1,1),   x(5,1,2),   x(5,1,3),   x(5,1,4),   x(5,1,5),   x(5,1,6),  \n",
      " x(5,2,0),   x(5,2,1),   x(5,2,2),   x(5,2,3),   x(5,2,4),   x(5,2,5),   x(5,2,6),  \n",
      " x(5,3,0),   x(5,3,1),   x(5,3,2),   x(5,3,3),   x(5,3,4),   x(5,3,5),   x(5,3,6),  \n",
      " x(5,4,0),   x(5,4,1),   x(5,4,2),   x(5,4,3),   x(5,4,4),   x(5,4,5),   x(5,4,6),  \n",
      " x(5,5,0),   x(5,5,1),   x(5,5,2),   x(5,5,3),   x(5,5,4),   x(5,5,5),   x(5,5,6),  \n",
      " x(5,6,0),   x(5,6,1),   x(5,6,2),   x(5,6,3),   x(5,6,4),   x(5,6,5),   x(5,6,6),  \n",
      "\n",
      "\n",
      " x(6,0,0),   x(6,0,1),   x(6,0,2),   x(6,0,3),   x(6,0,4),   x(6,0,5),   x(6,0,6),  \n",
      " x(6,1,0),   x(6,1,1),   x(6,1,2),   x(6,1,3),   x(6,1,4),   x(6,1,5),   x(6,1,6),  \n",
      " x(6,2,0),   x(6,2,1),   x(6,2,2),   x(6,2,3),   x(6,2,4),   x(6,2,5),   x(6,2,6),  \n",
      " x(6,3,0),   x(6,3,1),   x(6,3,2),   x(6,3,3),   x(6,3,4),   x(6,3,5),   x(6,3,6),  \n",
      " x(6,4,0),   x(6,4,1),   x(6,4,2),   x(6,4,3),   x(6,4,4),   x(6,4,5),   x(6,4,6),  \n",
      " x(6,5,0),   x(6,5,1),   x(6,5,2),   x(6,5,3),   x(6,5,4),   x(6,5,5),   x(6,5,6),  \n",
      " x(6,6,0),   x(6,6,1),   x(6,6,2),   x(6,6,3),   x(6,6,4),   x(6,6,5),   x(6,6,6),  \n",
      "\n",
      "\n",
      "]\n"
     ]
    }
   ],
   "source": [
    "print(\"E = [\")\n",
    "for i in range(7):\n",
    "  for j in range(7):\n",
    "    for n in range(7):\n",
    "      print(f\" x({i},{j},{n}), \", end=\" \")\n",
    "    print()\n",
    "  print(\"\\n\")\n",
    "print(\"]\")"
   ]
  },
  {
   "cell_type": "markdown",
   "metadata": {
    "id": "CUE-G32Uf6Aa"
   },
   "source": [
    "<br>\n",
    "\n",
    "---\n",
    "\n",
    "<br>\n",
    "\n",
    "**B)** Seja a Variável Aleatória $(X)$ a soma dos valores das duas primeiras faces menos o valor da terceira. Especifique os resultados de $S$, os valores de $X$ correspondentes (contradomínio $R_x$) e a probabilidade de cada valor de $X$.\n",
    "\n",
    "\n",
    "<br>\n",
    "\n",
    "+ RESPOSTA\n",
    "\n",
    "**Contradomínio $R_x$**\n",
    "\n",
    "Rx = [0, -1, -2, -3, -4, -5, -6, 1, 2, 3, 4, 5, 6, 7, 8, 9, 10, 11, 12]\n",
    "\n",
    "<br>\n",
    "\n",
    "**Probabilidade de cada valor de $X$**\n",
    "\n",
    "$X_0 = 0.00291545 , X_1 = 0.00874636, X_2 = 0.01749271$\n",
    "\n",
    "$X_3 = 0.02915452, X_4 = 0.04373178, X_5 = 0.06122449$\n",
    "\n",
    "$X_6 = 0.08163265, X_7 = 0.09620991, X_8 = 0.10495627$\n",
    "\n",
    "$X_9 = 0.10787172, X_{10} = 0.10495627, X_{11} = 0.09620991$\n",
    "\n",
    "$X_{12} = 0.08163265, X_{13} = 0.06122449, X_{14} = 0.04373178$\n",
    "\n",
    "$X_{15} = 0.02915452, X_{16} = 0.01749271, X_{17} = 0.00874636$\n",
    "\n",
    "$X_{18} = 0.00291545$\n",
    "\n",
    "<br>"
   ]
  },
  {
   "cell_type": "markdown",
   "metadata": {
    "id": "Uo7CSLg0t-eN"
   },
   "source": [
    "**Resultado de $S$**"
   ]
  },
  {
   "cell_type": "code",
   "execution_count": 2,
   "metadata": {
    "colab": {
     "base_uri": "https://localhost:8080/"
    },
    "id": "Dgm7D4TJgQQ6",
    "outputId": "902a6189-9c81-43a0-efc6-8bcefb107bd9"
   },
   "outputs": [
    {
     "name": "stdout",
     "output_type": "stream",
     "text": [
      "x(000) = 0,  x(001) = -1,  x(002) = -2,  x(003) = -3,  x(004) = -4,  x(005) = -5,  x(006) = -6,  \n",
      "x(010) = 1,  x(011) = 0,  x(012) = -1,  x(013) = -2,  x(014) = -3,  x(015) = -4,  x(016) = -5,  \n",
      "x(020) = 2,  x(021) = 1,  x(022) = 0,  x(023) = -1,  x(024) = -2,  x(025) = -3,  x(026) = -4,  \n",
      "x(030) = 3,  x(031) = 2,  x(032) = 1,  x(033) = 0,  x(034) = -1,  x(035) = -2,  x(036) = -3,  \n",
      "x(040) = 4,  x(041) = 3,  x(042) = 2,  x(043) = 1,  x(044) = 0,  x(045) = -1,  x(046) = -2,  \n",
      "x(050) = 5,  x(051) = 4,  x(052) = 3,  x(053) = 2,  x(054) = 1,  x(055) = 0,  x(056) = -1,  \n",
      "x(060) = 6,  x(061) = 5,  x(062) = 4,  x(063) = 3,  x(064) = 2,  x(065) = 1,  x(066) = 0,  \n",
      "\n",
      "\n",
      "x(100) = 1,  x(101) = 0,  x(102) = -1,  x(103) = -2,  x(104) = -3,  x(105) = -4,  x(106) = -5,  \n",
      "x(110) = 2,  x(111) = 1,  x(112) = 0,  x(113) = -1,  x(114) = -2,  x(115) = -3,  x(116) = -4,  \n",
      "x(120) = 3,  x(121) = 2,  x(122) = 1,  x(123) = 0,  x(124) = -1,  x(125) = -2,  x(126) = -3,  \n",
      "x(130) = 4,  x(131) = 3,  x(132) = 2,  x(133) = 1,  x(134) = 0,  x(135) = -1,  x(136) = -2,  \n",
      "x(140) = 5,  x(141) = 4,  x(142) = 3,  x(143) = 2,  x(144) = 1,  x(145) = 0,  x(146) = -1,  \n",
      "x(150) = 6,  x(151) = 5,  x(152) = 4,  x(153) = 3,  x(154) = 2,  x(155) = 1,  x(156) = 0,  \n",
      "x(160) = 7,  x(161) = 6,  x(162) = 5,  x(163) = 4,  x(164) = 3,  x(165) = 2,  x(166) = 1,  \n",
      "\n",
      "\n",
      "x(200) = 2,  x(201) = 1,  x(202) = 0,  x(203) = -1,  x(204) = -2,  x(205) = -3,  x(206) = -4,  \n",
      "x(210) = 3,  x(211) = 2,  x(212) = 1,  x(213) = 0,  x(214) = -1,  x(215) = -2,  x(216) = -3,  \n",
      "x(220) = 4,  x(221) = 3,  x(222) = 2,  x(223) = 1,  x(224) = 0,  x(225) = -1,  x(226) = -2,  \n",
      "x(230) = 5,  x(231) = 4,  x(232) = 3,  x(233) = 2,  x(234) = 1,  x(235) = 0,  x(236) = -1,  \n",
      "x(240) = 6,  x(241) = 5,  x(242) = 4,  x(243) = 3,  x(244) = 2,  x(245) = 1,  x(246) = 0,  \n",
      "x(250) = 7,  x(251) = 6,  x(252) = 5,  x(253) = 4,  x(254) = 3,  x(255) = 2,  x(256) = 1,  \n",
      "x(260) = 8,  x(261) = 7,  x(262) = 6,  x(263) = 5,  x(264) = 4,  x(265) = 3,  x(266) = 2,  \n",
      "\n",
      "\n",
      "x(300) = 3,  x(301) = 2,  x(302) = 1,  x(303) = 0,  x(304) = -1,  x(305) = -2,  x(306) = -3,  \n",
      "x(310) = 4,  x(311) = 3,  x(312) = 2,  x(313) = 1,  x(314) = 0,  x(315) = -1,  x(316) = -2,  \n",
      "x(320) = 5,  x(321) = 4,  x(322) = 3,  x(323) = 2,  x(324) = 1,  x(325) = 0,  x(326) = -1,  \n",
      "x(330) = 6,  x(331) = 5,  x(332) = 4,  x(333) = 3,  x(334) = 2,  x(335) = 1,  x(336) = 0,  \n",
      "x(340) = 7,  x(341) = 6,  x(342) = 5,  x(343) = 4,  x(344) = 3,  x(345) = 2,  x(346) = 1,  \n",
      "x(350) = 8,  x(351) = 7,  x(352) = 6,  x(353) = 5,  x(354) = 4,  x(355) = 3,  x(356) = 2,  \n",
      "x(360) = 9,  x(361) = 8,  x(362) = 7,  x(363) = 6,  x(364) = 5,  x(365) = 4,  x(366) = 3,  \n",
      "\n",
      "\n",
      "x(400) = 4,  x(401) = 3,  x(402) = 2,  x(403) = 1,  x(404) = 0,  x(405) = -1,  x(406) = -2,  \n",
      "x(410) = 5,  x(411) = 4,  x(412) = 3,  x(413) = 2,  x(414) = 1,  x(415) = 0,  x(416) = -1,  \n",
      "x(420) = 6,  x(421) = 5,  x(422) = 4,  x(423) = 3,  x(424) = 2,  x(425) = 1,  x(426) = 0,  \n",
      "x(430) = 7,  x(431) = 6,  x(432) = 5,  x(433) = 4,  x(434) = 3,  x(435) = 2,  x(436) = 1,  \n",
      "x(440) = 8,  x(441) = 7,  x(442) = 6,  x(443) = 5,  x(444) = 4,  x(445) = 3,  x(446) = 2,  \n",
      "x(450) = 9,  x(451) = 8,  x(452) = 7,  x(453) = 6,  x(454) = 5,  x(455) = 4,  x(456) = 3,  \n",
      "x(460) = 10,  x(461) = 9,  x(462) = 8,  x(463) = 7,  x(464) = 6,  x(465) = 5,  x(466) = 4,  \n",
      "\n",
      "\n",
      "x(500) = 5,  x(501) = 4,  x(502) = 3,  x(503) = 2,  x(504) = 1,  x(505) = 0,  x(506) = -1,  \n",
      "x(510) = 6,  x(511) = 5,  x(512) = 4,  x(513) = 3,  x(514) = 2,  x(515) = 1,  x(516) = 0,  \n",
      "x(520) = 7,  x(521) = 6,  x(522) = 5,  x(523) = 4,  x(524) = 3,  x(525) = 2,  x(526) = 1,  \n",
      "x(530) = 8,  x(531) = 7,  x(532) = 6,  x(533) = 5,  x(534) = 4,  x(535) = 3,  x(536) = 2,  \n",
      "x(540) = 9,  x(541) = 8,  x(542) = 7,  x(543) = 6,  x(544) = 5,  x(545) = 4,  x(546) = 3,  \n",
      "x(550) = 10,  x(551) = 9,  x(552) = 8,  x(553) = 7,  x(554) = 6,  x(555) = 5,  x(556) = 4,  \n",
      "x(560) = 11,  x(561) = 10,  x(562) = 9,  x(563) = 8,  x(564) = 7,  x(565) = 6,  x(566) = 5,  \n",
      "\n",
      "\n",
      "x(600) = 6,  x(601) = 5,  x(602) = 4,  x(603) = 3,  x(604) = 2,  x(605) = 1,  x(606) = 0,  \n",
      "x(610) = 7,  x(611) = 6,  x(612) = 5,  x(613) = 4,  x(614) = 3,  x(615) = 2,  x(616) = 1,  \n",
      "x(620) = 8,  x(621) = 7,  x(622) = 6,  x(623) = 5,  x(624) = 4,  x(625) = 3,  x(626) = 2,  \n",
      "x(630) = 9,  x(631) = 8,  x(632) = 7,  x(633) = 6,  x(634) = 5,  x(635) = 4,  x(636) = 3,  \n",
      "x(640) = 10,  x(641) = 9,  x(642) = 8,  x(643) = 7,  x(644) = 6,  x(645) = 5,  x(646) = 4,  \n",
      "x(650) = 11,  x(651) = 10,  x(652) = 9,  x(653) = 8,  x(654) = 7,  x(655) = 6,  x(656) = 5,  \n",
      "x(660) = 12,  x(661) = 11,  x(662) = 10,  x(663) = 9,  x(664) = 8,  x(665) = 7,  x(666) = 6,  \n",
      "\n",
      "\n"
     ]
    }
   ],
   "source": [
    "s = []\n",
    "for i in range(7):\n",
    "  for j in range(7):\n",
    "    for n in range(7):\n",
    "      soma = (i+j)-n\n",
    "      s.append(soma)\n",
    "      print(f\"x({i}{j}{n}) = {soma}, \", end=\" \")\n",
    "    print()\n",
    "  print(\"\\n\")\n",
    "\n",
    "unicos_lista = list(dict.fromkeys(s))\n",
    "#print(\"Rx\", unicos_lista)"
   ]
  },
  {
   "cell_type": "markdown",
   "metadata": {
    "id": "7hlEI3pQuK71"
   },
   "source": [
    "**Encontrando o Contradomínio $R_x$ e as Probabilidades de cada valor de $X$**"
   ]
  },
  {
   "cell_type": "code",
   "execution_count": 3,
   "metadata": {
    "colab": {
     "base_uri": "https://localhost:8080/"
    },
    "id": "msk0wKhkjcNI",
    "outputId": "d37dcdea-457b-42b0-b1f3-ea0e73c11184"
   },
   "outputs": [
    {
     "name": "stdout",
     "output_type": "stream",
     "text": [
      "\n",
      "Probabilidade para os Xs =\n",
      " [0.00291545 0.00874636 0.01749271 0.02915452 0.04373178 0.06122449\n",
      " 0.08163265 0.09620991 0.10495627 0.10787172 0.10495627 0.09620991\n",
      " 0.08163265 0.06122449 0.04373178 0.02915452 0.01749271 0.00874636\n",
      " 0.00291545]\n",
      "\n",
      "Soma das Probabilidades: 1.0000000000000004\n"
     ]
    }
   ],
   "source": [
    "import numpy as np\n",
    "\n",
    "prob = np.array([0, 0, 0, 0, 0, 0, 0, 0, 0, 0, 0, 0, 0, 0, 0, 0, 0, 0, 0], dtype=\"float64\")\n",
    "for i in s:\n",
    "  if (i == -6):\n",
    "    prob[0] += 1/len(s)\n",
    "  elif (i == -5):\n",
    "    prob[1] += 1/len(s)\n",
    "  elif (i == -4):\n",
    "    prob[2] += 1/len(s)\n",
    "  elif (i == -3):\n",
    "    prob[3] += 1/len(s)\n",
    "  elif (i == -2):\n",
    "    prob[4] += 1/len(s)\n",
    "  elif (i == -1):\n",
    "    prob[5] += 1/len(s)\n",
    "  elif (i == 0):\n",
    "    prob[6] += 1/len(s)\n",
    "  elif (i == 1):\n",
    "    prob[7] += 1/len(s)\n",
    "  elif (i == 2):\n",
    "    prob[8] += 1/len(s)\n",
    "  elif (i == 3):\n",
    "    prob[9] += 1/len(s)\n",
    "  elif (i == 4):\n",
    "    prob[10] += 1/len(s)\n",
    "  elif (i == 5):\n",
    "    prob[11] += 1/len(s)\n",
    "  elif (i == 6):\n",
    "    prob[12] += 1/len(s)\n",
    "  elif (i == 7):\n",
    "    prob[13] += 1/len(s)\n",
    "  elif (i == 8):\n",
    "    prob[14] += 1/len(s)\n",
    "  elif (i == 9):\n",
    "    prob[15] += 1/len(s)\n",
    "  elif (i == 10):\n",
    "    prob[16] += 1/len(s)\n",
    "  elif (i == 11):\n",
    "    prob[17] += 1/len(s)\n",
    "  elif (i == 12):\n",
    "    prob[18] += 1/len(s)\n",
    "\n",
    "print(f\"\\nProbabilidade para os Xs =\\n {prob}\\n\")\n",
    "print(f\"Soma das Probabilidades: {prob.sum()}\")"
   ]
  },
  {
   "cell_type": "code",
   "execution_count": 4,
   "metadata": {
    "id": "ynUJzM2WV1Ep"
   },
   "outputs": [],
   "source": [
    "# Importando a biblioteca Matplotlib\n",
    "import matplotlib.pyplot as plt\n",
    "plt.style.use('seaborn')\n",
    "\n",
    "%matplotlib inline"
   ]
  },
  {
   "cell_type": "code",
   "execution_count": 5,
   "metadata": {
    "colab": {
     "base_uri": "https://localhost:8080/",
     "height": 389
    },
    "id": "saG3ofuWVSpf",
    "outputId": "7bf23e8f-bae5-4051-9774-3b877f62d7fd"
   },
   "outputs": [
    {
     "data": {
      "image/png": "[encoded data removed]",
      "text/plain": [
       "<Figure size 648x432 with 1 Axes>"
      ]
     },
     "metadata": {
      "needs_background": "light"
     },
     "output_type": "display_data"
    }
   ],
   "source": [
    "# Gráfico da Função Densidade de Probabilidade\n",
    "\n",
    "plt.figure(figsize=(9, 6))\n",
    "plt.plot(unicos_lista, prob, \"o\")\n",
    "plt.title(\"Gráfico da Função Densidade de Probabilidade\")\n",
    "plt.show()"
   ]
  },
  {
   "cell_type": "markdown",
   "metadata": {
    "id": "-cgHgksPgS-B"
   },
   "source": [
    "<br>\n",
    "\n",
    "## <center>4.3 – Variáveis aleatórias discretas e contínuas e </center>\n",
    "## <center>4.4 – Funções de variáveis aleatórias $(V.A.)$ – fdp e FDP</center>\n"
   ]
  },
  {
   "cell_type": "markdown",
   "metadata": {
    "id": "TSuUPyTfgYIm"
   },
   "source": [
    "### **Questão 3** – Com base na **Questão 1**. Determine:\n"
   ]
  },
  {
   "cell_type": "markdown",
   "metadata": {
    "id": "6sqd1BZsgfm8"
   },
   "source": [
    "**A)** $p(x_i)-$fdp de $X$.\n",
    "\n",
    "\n",
    "<br>\n",
    "\n",
    "+ RESPOSTA\n",
    "\n",
    "\n",
    "<br>\n",
    "\n",
    "|x_i \t     | 0 \t  | 1 \t| 2   \t| 3 \t| 4 \t  |\n",
    "|-----\t   |---\t  |---\t|---\t  |---\t|---\t  |\n",
    "|P[X = x_i]| 0.0625 |0.25  |  0.375 | 0.25  |  0.0625 |\n",
    "\n",
    "\n",
    "<br>"
   ]
  },
  {
   "cell_type": "code",
   "execution_count": 6,
   "metadata": {
    "colab": {
     "base_uri": "https://localhost:8080/",
     "height": 464
    },
    "id": "Y11V4Mu9g0A-",
    "outputId": "dcd8d724-a340-4a50-9757-1d71819b3781"
   },
   "outputs": [
    {
     "name": "stdout",
     "output_type": "stream",
     "text": [
      "\n",
      "p(xi)− fdp de X:\n",
      "0.0625%  0.25%  0.375%  0.25%  0.0625%  "
     ]
    },
    {
     "data": {
      "image/png": "[encoded data removed]",
      "text/plain": [
       "<Figure size 648x432 with 1 Axes>"
      ]
     },
     "metadata": {
      "needs_background": "light"
     },
     "output_type": "display_data"
    }
   ],
   "source": [
    "x_i = np.array([0, 1, 2, 3, 4])\n",
    "prob_q1 = np.array([1/16, 1/4, 3/8, 1/4, 1/16], dtype=\"float64\")\n",
    "fdp_q1 = prob_q1\n",
    "\n",
    "print(f\"\\np(xi)− fdp de X:\")\n",
    "for i in fdp_q1:\n",
    "  print(f\"{i}% \", end=\" \")\n",
    "\n",
    "# Gráfico da Função Densidade de Probabilidade\n",
    "plt.figure(figsize=(9, 6))\n",
    "plt.plot(x_i, fdp_q1, \"o\")\n",
    "plt.title(\"Gráfico $( p_{xi}$ − fdp de  $X )$\", fontsize=15)\n",
    "plt.xlabel(\"x\", fontsize=15)\n",
    "plt.ylabel(\"$p_{xi}$\", fontsize=15)\n",
    "plt.show()"
   ]
  },
  {
   "cell_type": "markdown",
   "metadata": {
    "id": "DJAtn5_Agvbf"
   },
   "source": [
    "---\n",
    "\n",
    "<br>\n",
    "\n",
    "**B)** $F(x_i)-$FDP de $X$.\n",
    "\n",
    "\n",
    "<br>\n",
    "\n",
    "+ RESPOSTA\n",
    "\n",
    "<br>\n",
    "\n",
    "\n",
    "|x_i \t     | 0 \t  | 1 \t| 2   \t| 3 \t| 4 \t  |\n",
    "|-----\t   |---\t  |---\t|---\t  |---\t|---\t  |\n",
    "|F[X = x_i]| 0,0625 | 0,3125 |  0,6875 | 0,9375  |  1,00 |\n",
    "\n",
    "\n",
    "<br>\n",
    "\n",
    "$ P[x \\leq 0] = 0,0625$\n",
    "\n",
    "$ P[x \\leq 1] = 0,3125$\n",
    "\n",
    "$ P[x \\leq 2] = 0,6875$\n",
    "\n",
    "$ P[x \\leq 3] = 0,9375$\n",
    "\n",
    "$ P[x \\leq 3] = 1,00$\n",
    "\n",
    "\n",
    "\n",
    "<br>"
   ]
  },
  {
   "cell_type": "code",
   "execution_count": 7,
   "metadata": {
    "colab": {
     "base_uri": "https://localhost:8080/",
     "height": 414
    },
    "id": "IdYFG33mXnPg",
    "outputId": "d53107b5-09c8-46ef-9e07-7f8bea277087"
   },
   "outputs": [
    {
     "data": {
      "image/png": "[encoded data removed]",
      "text/plain": [
       "<Figure size 1080x432 with 1 Axes>"
      ]
     },
     "metadata": {
      "needs_background": "light"
     },
     "output_type": "display_data"
    }
   ],
   "source": [
    "x_i2 = np.array([-3., -2., -1.,  0., 0.,  1., 1., 2., 2., 3., 3.,  4., 4.,  5., 5., 6., 6., 7., 7., 8.,])\n",
    "FDP_q1 = []\n",
    "for i in range(4):\n",
    "  FDP_q1.append(0.0)\n",
    "\n",
    "for i in range(0, 8):\n",
    "  FDP_q1.append(fdp_q1[:i+1].sum())\n",
    "  FDP_q1.append(fdp_q1[:i+1].sum())\n",
    "\n",
    "# Printa os valores de F(xi)\n",
    "#print(f\"\\n\\nF(xi)−FDP de  X:\")\n",
    "#for i in FDP_q1:\n",
    "#  print(f\"{i}% \", end=\" \")\n",
    "#print(\"\\n\")\n",
    "\n",
    "# Gráfico da Função Densidade de Probabilidade\n",
    "plt.figure(figsize=(15, 6))\n",
    "plt.plot(x_i2, FDP_q1, \"o\")\n",
    "plt.plot(x_i2, FDP_q1)\n",
    "plt.title(\"Gráfico $( F_{xi}$ − FDP de  $X )$\", fontsize=15)\n",
    "plt.xlabel(\"$X$\", fontsize=15)\n",
    "plt.ylabel(\"$F_{xi} (\\%)$\", fontsize=15)\n",
    "plt.show()"
   ]
  },
  {
   "cell_type": "markdown",
   "metadata": {
    "id": "kftJxiwxg2SJ"
   },
   "source": [
    "### **Questão 4** – Com base na **Questão 2**. Determine:\n"
   ]
  },
  {
   "cell_type": "markdown",
   "metadata": {
    "id": "pILTFlxGg72S"
   },
   "source": [
    "a) $p(x_i)-$fdp de $X$.\n",
    "\n",
    "\n",
    "<br>\n",
    "\n",
    "+ RESPOSTA\n",
    "\n",
    "<br>\n",
    "\n",
    "| x_i| 0 | 1 | 2 | 3 | 4 | 5 | 6 | 7 | 8 | 9 |\n",
    "|------|---|---|---|---|---|---|---|---|---|--- |\n",
    "|P[X = x_i] |0.29\\% |  0.87\\% | 1.74\\% | 2.91\\% | 4.37\\% | 6.12\\% | 8.16\\% | 9.62\\% | 10.49\\%| 10.78\\% |\n",
    "|x_i | 10 | 11 | 12 | 13 | 14 | 15 | 16 | 17 | 18|\n",
    "|P[X = x_i] | 10.49\\% | 9,62\\% | 8.16\\% | 6.12\\% | 4.37\\% | 2.91\\% | 1.74\\% | 0.87\\% | 0.29\\%|\n",
    "\n",
    "<br>"
   ]
  },
  {
   "cell_type": "code",
   "execution_count": 8,
   "metadata": {
    "colab": {
     "base_uri": "https://localhost:8080/",
     "height": 414
    },
    "id": "ORI4FCljg7Dy",
    "outputId": "e95adb62-71fa-489b-e6f5-e8b499597465"
   },
   "outputs": [
    {
     "data": {
      "image/png": "[encoded data removed]",
      "text/plain": [
       "<Figure size 1080x432 with 1 Axes>"
      ]
     },
     "metadata": {
      "needs_background": "light"
     },
     "output_type": "display_data"
    }
   ],
   "source": [
    "q2_x_i = np.linspace(0, 18, 19)\n",
    "fdp_q2 = prob #*100\n",
    "\n",
    "#print(f\"\\n\\np(xi)− fdp de  X:\")\n",
    "#for i in range(19):\n",
    "#  print(f\"{format(fdp_q2[i], '.2f')}% \", end=\" \")\n",
    "#  if (i == 9):\n",
    "#    print()\n",
    "\n",
    "# Gráfico da Função Densidade de Probabilidade\n",
    "plt.figure(figsize=(15, 6))\n",
    "plt.plot(q2_x_i, fdp_q2, \"o\")\n",
    "plt.title(\"Gráfico $( p_{xi}$ − fdp de  $X )$\", fontsize=15)\n",
    "plt.xlabel(\"$X$\", fontsize=15)\n",
    "plt.ylabel(\"$p_{xi} (\\%)$\", fontsize=15)\n",
    "plt.show()"
   ]
  },
  {
   "cell_type": "markdown",
   "metadata": {
    "id": "pT1zEc35hClh"
   },
   "source": [
    "<br>\n",
    "\n",
    "b) $F(x_i)-$FDP de $X$.\n",
    "\n",
    "\n",
    "<br>\n",
    "\n",
    "+ RESPOSTA\n",
    "\n",
    "<br>\n",
    "\n",
    "\n",
    "\n",
    "| x_i| 0 | 1 | 2 | 3 | 4 | 5 | 6 | 7 | 8 | 9 |\n",
    "|------|---|---|---|---|---|---|---|---|---|--- |\n",
    "|P[X = x_i] |0,0029 |  0,0117 | 0,0292 | 0,0583 | 0,1020 | 0,1633 | 0,2449 | 0,3411 | 0,4461| 0,5539 |\n",
    "|x_i | 10 | 11 | 12 | 13 | 14 | 15 | 16 | 17 | 18|\n",
    "|P[X = x_i] | 0,6589 | 0,7551 | 0,8367 | 0,8980 | 0,9417 | 0,9708 | 0,9883 | 0,9971 | 1,00 |\n",
    "\n",
    "\n",
    "<br>\n",
    "\n",
    "\n",
    "$P[x \\leq -6] = 0,0029$\n",
    "\n",
    "$P[x \\leq -5] = 0,0117$\n",
    "\n",
    "$P[x \\leq -4] = 0,0292$\n",
    "\n",
    "$P[x \\leq -3] = 0,0583$\n",
    "\n",
    "$P[x \\leq -2] = 0,1020$\n",
    "\n",
    "$P[x \\leq -1] = 0,1633$\n",
    "\n",
    "$P[x \\leq 0] = 0,2449$\n",
    "\n",
    "$P[x \\leq 1] = 0,3411$\n",
    "\n",
    "$P[x \\leq 2] = 0,4461$\n",
    "\n",
    "$P[x \\leq 3] = 0,5539$\n",
    "\n",
    "$P[x \\leq 4] = 0,6589$\n",
    "\n",
    "$P[x \\leq 5] = 0,7551$\n",
    "\n",
    "$P[x \\leq 6] = 0,8367$\n",
    "\n",
    "$P[x \\leq 7] = 0,8980$\n",
    "\n",
    "$P[x \\leq 8] = 0,9417$\n",
    "\n",
    "$P[x \\leq 9] = 0,9708$\n",
    "\n",
    "$P[x \\leq 10] = 0,9883$\n",
    "\n",
    "$P[x \\leq 11] = 0,9971$\n",
    "\n",
    "$P[x \\leq 12] = 1,00$"
   ]
  },
  {
   "cell_type": "code",
   "execution_count": 9,
   "metadata": {
    "colab": {
     "base_uri": "https://localhost:8080/",
     "height": 414
    },
    "id": "AYtKm2mehDuc",
    "outputId": "a6b0edc7-f495-4d10-8c51-821f74d7ceda"
   },
   "outputs": [
    {
     "data": {
      "image/png": "[encoded data removed]",
      "text/plain": [
       "<Figure size 1080x432 with 1 Axes>"
      ]
     },
     "metadata": {
      "needs_background": "light"
     },
     "output_type": "display_data"
    }
   ],
   "source": [
    "FDP_q2 = []  #np.zeros(19)\n",
    "xi = np.array([-3., -2., -1.,  0., 0., 1., 1., 2., 2., 3., 3.,  4., 4.,  5., 5., 6., 6., 7., 7., 8., 8.,\n",
    "               9., 9., 10., 10., 11., 11., 12., 12., 13., 13., 14., 14., 15., 15., 16., 16., 17., 17., 18., 18.,\n",
    "               19., ])\n",
    "\n",
    "for i in range(4):\n",
    "  FDP_q2.append(0)\n",
    "\n",
    "for i in range(0, 19):\n",
    "  FDP_q2.append(fdp_q2[:i+1].sum())\n",
    "  FDP_q2.append(fdp_q2[:i+1].sum())\n",
    "#print(\"\\nF(xi)− FDP de  X: \")\n",
    "#for i in range(len(FDP_q2)):\n",
    "#  print(f\"{format(FDP_q2[i], '.2f')}% \" , end=\" \")\n",
    "#  if (i == 10):\n",
    "#    print()\n",
    "#  if (i == 20):\n",
    "#    print()\n",
    "#print(\"\\n\")\n",
    "\n",
    "# Gráfico da Função Densidade de Probabilidade\n",
    "plt.figure(figsize=(15, 6))\n",
    "plt.plot(xi, FDP_q2, \"o\")\n",
    "plt.plot(xi, FDP_q2)\n",
    "plt.title(\"Gráfico $( F_{xi}$ − FDP de  $X )$\", fontsize=15)\n",
    "plt.xlabel(\"$X$\", fontsize=15)\n",
    "plt.ylabel(\"$F_{xi} (\\%)$\", fontsize=15)\n",
    "plt.show()"
   ]
  },
  {
   "cell_type": "markdown",
   "metadata": {
    "id": "31MSmpDjcTwA"
   },
   "source": [
    "### **Questão 5** – Uma função distribuição de probabilidade acumulada FDP é definida da seguinte forma:\n",
    "\n",
    "- $X < a \\rightarrow F = 0;$\n",
    "- $a \\leq X \\leq b \\rightarrow F = \\dfrac{x-a}{b-a};$\n",
    "- $X > b \\rightarrow F = 1;$\n",
    "\n",
    "<br>\n"
   ]
  },
  {
   "cell_type": "code",
   "execution_count": 10,
   "metadata": {
    "colab": {
     "base_uri": "https://localhost:8080/",
     "height": 414
    },
    "id": "hsn0wBemcXJj",
    "outputId": "ada68c22-3561-4349-cf3a-b14147b43af0"
   },
   "outputs": [
    {
     "data": {
      "image/png": "[encoded data removed]",
      "text/plain": [
       "<Figure size 1080x432 with 1 Axes>"
      ]
     },
     "metadata": {
      "needs_background": "light"
     },
     "output_type": "display_data"
    }
   ],
   "source": [
    "X1 = np.arange(-6, 14, 0.1)\n",
    "Fx = np.zeros((len(X1)))\n",
    "\n",
    "a = 1\n",
    "b = 5\n",
    "\n",
    "for i in range(len(X1)):\n",
    "  if(X1[i] < a):\n",
    "    Fx[i] = 0\n",
    "  \n",
    "  elif (a <= X1[i] <=b):\n",
    "    Fx[i] =  (X1[i] - a) / (b - a)\n",
    "  else:\n",
    "    Fx[i] = 1\n",
    "\n",
    "\n",
    "# Gráfico da Função FDP\n",
    "plt.figure(figsize=(15, 6))\n",
    "plt.plot(X1, Fx)\n",
    "plt.title(\"Gráfico $(FDP)$\", fontsize=15)\n",
    "plt.xlabel(\"$X$\", fontsize=15)\n",
    "plt.ylabel(\"$F$\", fontsize=15)\n",
    "plt.show()"
   ]
  },
  {
   "cell_type": "markdown",
   "metadata": {
    "id": "qx8wSyg2ca91"
   },
   "source": [
    "a) Calcule $f(x)$ - fdp de $X$.\n",
    "\n",
    "<br>\n",
    "\n",
    "+ RESPOSTA\n",
    "\n",
    "<br>\n",
    "\n",
    "$$f(x) = \\dfrac{dF(x)}{dx} =  \\dfrac{d(0)}{dx} + \\dfrac{d(\\dfrac{x-a}{b-a})}{dx} + \\dfrac{d(1)}{dx}$$\n",
    "\n",
    "<br>\n",
    "\n",
    "$$f(x) = 0 + \\dfrac{1}{b-a} + 0$$\n",
    "\n",
    "<br>\n",
    "\n",
    "$$f(x) = \\dfrac{1}{b-a}$$\n",
    "\n",
    "<br><br>\n"
   ]
  },
  {
   "cell_type": "code",
   "execution_count": 11,
   "metadata": {
    "colab": {
     "base_uri": "https://localhost:8080/",
     "height": 414
    },
    "id": "PBBgQ80ccjDP",
    "outputId": "120954a5-d9d7-43ec-b67a-f6196c00f6d3"
   },
   "outputs": [
    {
     "data": {
      "image/png": "[encoded data removed]",
      "text/plain": [
       "<Figure size 1080x432 with 1 Axes>"
      ]
     },
     "metadata": {
      "needs_background": "light"
     },
     "output_type": "display_data"
    }
   ],
   "source": [
    "dx = 0.1\n",
    "X = np.arange(-2, 5, dx)\n",
    "\n",
    "a = 1\n",
    "b = 5\n",
    "fx = 1/(b-a)\n",
    "\n",
    "x1 = np.zeros((len(X)))\n",
    "for i in range(len(x1)):\n",
    "  x1[i] = fx\n",
    "\n",
    "# Gráfico da Função Densidade de Probabilidade\n",
    "plt.figure(figsize=(15, 6))\n",
    "plt.plot(X, x1)\n",
    "plt.plot(X, x1, \"o\")\n",
    "plt.title(\"Gráfico $(f_x)$\", fontsize=15)\n",
    "plt.xlabel(\"$X$\", fontsize=15)\n",
    "plt.ylabel(\"$f_{x}$\", fontsize=15)\n",
    "plt.show()"
   ]
  },
  {
   "cell_type": "markdown",
   "metadata": {
    "id": "2VURbvv3coi7"
   },
   "source": [
    "\n",
    "\n",
    "b) Calcule $P[1 < X \\leq 3]$ para $a = 1$ e $b = 5$.\n",
    "\n",
    "<br>\n",
    "\n",
    "+ RESPOSTA\n",
    "\n",
    "$$f(x) = \\dfrac{1}{b-a}$$ \\\\\n",
    "\n",
    "Assim temos:\n",
    "\n",
    "$$f(x) = \\dfrac{1}{5-1} = \\dfrac{1}{4}$$ \\\\\n",
    "\n",
    "<br>\n",
    "\n",
    "\\begin{equation}\n",
    "P[1 < X \\leq 3] = \\int_1^3 \\! \\dfrac{1}{4} \\, \\mathrm{d}x = \\tfrac{1}{4} x \\Big|_1^3 = \\dfrac{1}{4} \\cdot 3 - \\dfrac{1}{4}\\cdot 1\n",
    "\\end{equation}\n",
    "\n",
    "<br>\n",
    "\n",
    "$$ P[1 < X \\leq 3] = \\dfrac{1}{2}$$\n",
    "\n",
    "<br><br>\n",
    "\n",
    "c) Calcule $P[-1 < X \\leq 2]$ para $a = 1$ e $b = 5$.\n",
    "\n",
    "<br>\n",
    "\n",
    "+ RESPOSTA\n",
    "\n",
    "<br>\n",
    "\n",
    "\\begin{equation}\n",
    "P[1 < X \\leq 3] = \\int_{-1}^1 \\! 0 \\, \\mathrm{d}x + \\int_{1}^2 \\! \\dfrac{1}{4} \\, \\mathrm{d}x = \\dfrac{1}{4}x \\Big|_1^2 = \\dfrac{1}{4}\\cdot2 - \\dfrac{1}{4}\\cdot1\n",
    "\\end{equation}\n",
    "\n",
    "<br>\n",
    "\n",
    "$$ P[1 < X \\leq 3] = \\dfrac{1}{4}$$\n",
    "\n",
    "<br><br>\n",
    "\n",
    "d) Calcule $P[- \\infty < X \\leq 1,5]$ para $a = 1$ e $b = 5$.\n",
    "\n",
    "<br>\n",
    "\n",
    "+ RESPOSTA\n",
    "\n",
    "\n",
    "\\begin{equation}\n",
    "P[1 < X \\leq 3] = \\int_{-\\infty}^1 \\! 0 \\, \\mathrm{d}x + \\int_{1}^{1,5} \\! \\dfrac{1}{4} \\, \\mathrm{d}x = \\dfrac{1}{4}x \\Big|_1^{1,5} = \\dfrac{1}{4} \\cdot {1,5} - \\dfrac{1}{4} \\cdot 1\n",
    "\\end{equation}\n",
    "\n",
    "<br>\n",
    "\n",
    "$$ P[1 < X \\leq 3] = \\dfrac{1}{8}$$\n",
    "\n",
    "<br><br>\n",
    "\n",
    "e) Calcule $P[0 < X \\leq 6]$ para $a = 1$ e $b = 5$.\n",
    "\n",
    "<br>\n",
    "\n",
    "+ RESPOSTA\n",
    "\n",
    "\\begin{equation}\n",
    "P[1 < X \\leq 3] = \\int_0^1 \\! 0 \\, \\mathrm{d}x + \\int_{1}^5 \\! \\dfrac{1}{4} \\, \\mathrm{d}x +\\int_5^6 \\! 0 \\, \\mathrm{d}x = 0 +  \\dfrac{1}{4}x \\Big|_1^5 + 0 = \\dfrac{1}{4} \\cdot 5 - \\dfrac{1}{4} \\cdot 1\n",
    "\\end{equation}\n",
    "\n",
    "<br>\n",
    "\n",
    "$$ P[1 < X \\leq 3] = 1$$\n",
    "\n",
    "<br>\n",
    "\n",
    "---\n",
    "\n",
    "<br>"
   ]
  },
  {
   "cell_type": "markdown",
   "metadata": {
    "id": "gv0jqxD6_SDQ"
   },
   "source": [
    "### **Questão 6** – O tempo de transmissão X de mensagens em um sistema de comunicação obedece a lei de probabilidade exponencial com parâmetro $λ$, isto é $P[X > x] = e −λx, x > 0$. Calcule, $T = 1/λ$.\n"
   ]
  },
  {
   "cell_type": "markdown",
   "metadata": {
    "id": "QkHjjUlb_au_"
   },
   "source": [
    "a) Defina $F(x)$ - FDP de $X$\n",
    "\n",
    "\n",
    "<br>\n",
    "\n",
    "+ RESPOSTA\n",
    "\n",
    "$$P[X > x] = e^{-\\lambda x}$$\n",
    "\n",
    "<br>\n",
    "\n",
    "$$F(x) = P[X \\leq x] = 1 - P[X > x]$$\n",
    "\n",
    "<br>\n",
    "\n",
    "$$F(x) = 1 - e^{-\\lambda x}$$\n",
    "\n",
    "\n",
    "<br>\n",
    "\n",
    "---"
   ]
  },
  {
   "cell_type": "markdown",
   "metadata": {
    "id": "qVa7spyo_kdW"
   },
   "source": [
    "b) Calcule $f(x)$ - fdp de $X$.\n",
    "\n",
    "\n",
    "<br>\n",
    "\n",
    "+ RESPOSTA\n",
    "\n",
    "\n",
    "$$f(x) = \\dfrac{dF(x)}{dx}$$\n",
    "\n",
    "<br>\n",
    "\n",
    "$$f(x) = \\dfrac{d(1 - e^{-\\lambda x})}{dx} = \\lambda e^{-\\lambda x}$$\n",
    "\n",
    "<br>\n",
    "\n",
    "---"
   ]
  },
  {
   "cell_type": "markdown",
   "metadata": {
    "id": "U63-FKSR_pWX"
   },
   "source": [
    "c) Calcule $P[T < X \\leq 2T]$ para $T = T = 1/λ.$\n",
    "\n",
    "\n",
    "<br>\n",
    "\n",
    "+ RESPOSTA\n",
    "\n",
    "\\begin{equation}\n",
    "P[T < X \\leq 2T] = \\int_{\\frac{1}{\\lambda}}^{\\frac{2}{\\lambda}} \\! \\lambda e^{-\\lambda x} \\, \\mathrm{d}x = -e^{-\\lambda x}\\Big|_{\\frac{1}{\\lambda}}^{\\frac{2}{\\lambda}} = -e^{-\\frac{2}{\\lambda}\\lambda} + e^{-\\frac{1}{\\lambda}\\lambda}\n",
    "\\end{equation}\n",
    "\n",
    "<br>\n",
    "\n",
    "$$P[T < X \\leq 2T] = -e^{-2} + e^{-1} = 0,2325$$\n",
    "\n",
    "<br>\n"
   ]
  },
  {
   "cell_type": "code",
   "execution_count": null,
   "metadata": {
    "id": "VJAqPOgH__Ws"
   },
   "outputs": [],
   "source": []
  }
 ],
 "metadata": {
  "colab": {
   "authorship_tag": "ABX9TyOT0mIO1Jyw7kh7AmFAO/Wk",
   "collapsed_sections": [],
   "include_colab_link": true,
   "name": "COLAB-FEE-PPE-LE-U04-P01 Oseias_Dias_de_Farias 201733940002.ipynb",
   "provenance": []
  },
  "kernelspec": {
   "display_name": "Python 3 (ipykernel)",
   "language": "python",
   "name": "python3"
  },
  "language_info": {
   "codemirror_mode": {
    "name": "ipython",
    "version": 3
   },
   "file_extension": ".py",
   "mimetype": "text/x-python",
   "name": "python",
   "nbconvert_exporter": "python",
   "pygments_lexer": "ipython3",
   "version": "3.8.10"
  }
 },
 "nbformat": 4,
 "nbformat_minor": 1
}
